{
 "cells": [
  {
   "cell_type": "markdown",
   "metadata": {
    "colab_type": "text",
    "id": "K_ODdHLQCFAb"
   },
   "source": [
    "<table align=\"center\" width=100%>\n",
    "    <tr>\n",
    "        <td width=\"15%\">\n",
    "            <img src=\"edaicon.png\">\n",
    "        </td>\n",
    "        <td>\n",
    "            <div align=\"center\">\n",
    "                <font color=\"#21618C\" size=24px>\n",
    "                    <b>Exploratory Data Analysis\n",
    "                    </b>\n",
    "                </font>\n",
    "            </div>\n",
    "        </td>\n",
    "    </tr>\n",
    "</table>"
   ]
  },
  {
   "cell_type": "markdown",
   "metadata": {
    "colab_type": "text",
    "id": "XJpSC2QDCFAe"
   },
   "source": [
    "## Problem Statement\n",
    "\n",
    "The zomato exploratory data analysis is for the foodies to find the best restaurants, value for money restaurants in their locality. It also helps to find their required cuisines in their locality.  "
   ]
  },
  {
   "cell_type": "markdown",
   "metadata": {
    "colab_type": "text",
    "id": "a0NdrF5rCFAg"
   },
   "source": [
    "## Data Definition\n",
    "\n",
    "**res_id**: The code given to a restaurant (Categorical) \n",
    "\n",
    "**name**: Name of the restaurant (Categorical)\n",
    "\n",
    "**establishment**: Represents the type of establishment (Categorical)\n",
    "\n",
    "**url**: The website of the restaurant (Categorical)\n",
    "\n",
    "**address**: The address of the restaurant (Categorical)\n",
    "\n",
    "**city**: City in which the restaurant located (Categorical)\n",
    "\n",
    "**city_id**: The code given to a city (Categorical)\n",
    "\n",
    "**locality**: Locality of the restaurant (Categorical)\n",
    "\n",
    "**latitude**: Latitude of the restaurant (Categorical)\n",
    "\n",
    "**longitude**: Longitude of the restaurant (Categorical)\n",
    "\n",
    "**zipcode**: Zipcode of the city in which the restaurant located (Categorical)\n",
    "\n",
    "**country_id**: Country code in which the restaurant located (Categorical)\n",
    "\n",
    "**locality_verbose**: Locality along with the city in which the restaurant located (Categorical)\n",
    "\n",
    "**cuisines**: The cuisines a restaurant serves (Categorical)\n",
    "\n",
    "**timings**: The working hours of a restaurant (Categorical)\n",
    "\n",
    "**average_cost_for_two**: The average amount expected for 2 people (Numerical)\n",
    "\n",
    "**price_range**: The categories for average cost (Categories - 1,2,3,4) (Categorical)\n",
    "\n",
    "**currency**: The currency in which a customer pays (Categorical)\n",
    "\n",
    "**highlights**: The facilities of the restaurant (Categorical)\n",
    "\n",
    "**aggregate_rating**: The overall rating a restaurant has got (Numerical) \n",
    "\n",
    "**rating_text**: Categorized ratings (Categorical)\n",
    "\n",
    "**votes**: Number of votes received by the restaurant from customers (Numerical)\n",
    "\n",
    "**photo_count**: The number of photos of a restaurant (Numerical)\n",
    "\n",
    "**opentable_support**: Restaurant reservation from Opentable (Categorical)\n",
    "\n",
    "**delivery**: The restaurant deliver an order or not (Categorical)\n",
    "\n",
    "**takeaway**: The restaurant allows  a 'takeaway' of an order or not (Categorical)"
   ]
  },
  {
   "cell_type": "markdown",
   "metadata": {
    "colab_type": "text",
    "id": "81ICQhnGCFAh"
   },
   "source": [
    "## Table of Contents\n",
    "\n",
    "1. **[Import Libraries](#import_lib)** \n",
    "2. **[Set Options](#set_options)** \n",
    "3. **[Read Data](#Read_Data)** \n",
    "4. **[Understand  and Prepare the Data](#Understand_Data)**\n",
    "5. **[Understand the variables](#Understanding_variables)**\n",
    "6. **[Check for Missing Values](#missing)**\n",
    "7. **[Study Correlation](#correlation)**\n",
    "8. **[Detect Outliers](#outliers)**\n",
    "9. **[Create a new variable 'region'](#region)**\n",
    "10. **[Some more analysis](#more)** \n"
   ]
  },
  {
   "cell_type": "markdown",
   "metadata": {
    "colab_type": "text",
    "id": "wBd82phICFAj"
   },
   "source": [
    "<a id='import_lib'></a>\n",
    "## 1. Import Libraries"
   ]
  },
  {
   "cell_type": "markdown",
   "metadata": {
    "colab_type": "text",
    "id": "2qIHupI7CFAk"
   },
   "source": [
    "<table align =\"left\">\n",
    "    <tr>\n",
    "        <td width=\"8%\">\n",
    "            <img src=\"todo.png\">\n",
    "        </td>\n",
    "        <td>\n",
    "            <div align=\"left\", style=\"font-size:120%\">\n",
    "                <font color=\"#21618C\">\n",
    "                    <b> Import the required libraries and functions\n",
    "                    </b>\n",
    "                </font>\n",
    "            </div>\n",
    "        </td>\n",
    "    </tr>\n",
    "</table>"
   ]
  },
  {
   "cell_type": "code",
   "execution_count": 0,
   "metadata": {
    "colab": {},
    "colab_type": "code",
    "id": "cscSfwIOCFAl"
   },
   "outputs": [],
   "source": [
    "import pandas as pd\n",
    "import numpy as np "
   ]
  },
  {
   "cell_type": "markdown",
   "metadata": {
    "colab_type": "text",
    "id": "Akro9n-zCFAr"
   },
   "source": [
    "Inference- \n",
    "Importing the needed libraries namely numpy,pandas,geopandas, matplotlib"
   ]
  },
  {
   "cell_type": "markdown",
   "metadata": {
    "colab_type": "text",
    "id": "_QjNzuWrCFAs"
   },
   "source": [
    "<a id='set_options'></a>\n",
    "## 2. Set Options"
   ]
  },
  {
   "cell_type": "markdown",
   "metadata": {
    "colab_type": "text",
    "id": "7nTDiMwGCFAu"
   },
   "source": [
    "<table align=\"left\">\n",
    "    <tr>\n",
    "        <td width=\"8%\">\n",
    "            <img src=\"todo.png\">\n",
    "        </td>\n",
    "        <td>\n",
    "            <div align=\"left\", style=\"font-size:120%\">\n",
    "                <font color=\"#21618C\">\n",
    "                    <b>Make necessary changes to :<br><br>\n",
    "Set the working directory              \n",
    "                    </b>\n",
    "                </font>\n",
    "            </div>\n",
    "        </td>\n",
    "    </tr>\n",
    "</table>"
   ]
  },
  {
   "cell_type": "code",
   "execution_count": 0,
   "metadata": {
    "colab": {},
    "colab_type": "code",
    "id": "eiWI_OOUCFAv"
   },
   "outputs": [],
   "source": [
    "!type pip\n",
    "!type python"
   ]
  },
  {
   "cell_type": "markdown",
   "metadata": {
    "colab_type": "text",
    "id": "fMhsWV8eCFA1"
   },
   "source": [
    "Inference- \n",
    "The directory was already set and hence no changes were needed to be \n",
    "I checked for the location of pip and python on the system."
   ]
  },
  {
   "cell_type": "markdown",
   "metadata": {
    "colab_type": "text",
    "id": "xkPk2qTRCFA2"
   },
   "source": [
    "<a id='Read_Data'></a>\n",
    "## 3. Read Data"
   ]
  },
  {
   "cell_type": "code",
   "execution_count": 3,
   "metadata": {
    "colab": {
     "base_uri": "https://localhost:8080/",
     "height": 1000
    },
    "colab_type": "code",
    "id": "nYUz-t9cCFA3",
    "outputId": "7718fba7-1c35-4d6f-cf43-09f757089ae7"
   },
   "outputs": [
    {
     "data": {
      "text/html": [
       "<div>\n",
       "<style scoped>\n",
       "    .dataframe tbody tr th:only-of-type {\n",
       "        vertical-align: middle;\n",
       "    }\n",
       "\n",
       "    .dataframe tbody tr th {\n",
       "        vertical-align: top;\n",
       "    }\n",
       "\n",
       "    .dataframe thead th {\n",
       "        text-align: right;\n",
       "    }\n",
       "</style>\n",
       "<table border=\"1\" class=\"dataframe\">\n",
       "  <thead>\n",
       "    <tr style=\"text-align: right;\">\n",
       "      <th></th>\n",
       "      <th>res_id</th>\n",
       "      <th>name</th>\n",
       "      <th>establishment</th>\n",
       "      <th>url</th>\n",
       "      <th>address</th>\n",
       "      <th>city</th>\n",
       "      <th>city_id</th>\n",
       "      <th>locality</th>\n",
       "      <th>latitude</th>\n",
       "      <th>longitude</th>\n",
       "      <th>zipcode</th>\n",
       "      <th>country_id</th>\n",
       "      <th>locality_verbose</th>\n",
       "      <th>cuisines</th>\n",
       "      <th>timings</th>\n",
       "      <th>average_cost_for_two</th>\n",
       "      <th>price_range</th>\n",
       "      <th>currency</th>\n",
       "      <th>highlights</th>\n",
       "      <th>aggregate_rating</th>\n",
       "      <th>rating_text</th>\n",
       "      <th>votes</th>\n",
       "      <th>photo_count</th>\n",
       "      <th>opentable_support</th>\n",
       "      <th>delivery</th>\n",
       "      <th>takeaway</th>\n",
       "    </tr>\n",
       "  </thead>\n",
       "  <tbody>\n",
       "    <tr>\n",
       "      <th>0</th>\n",
       "      <td>3400299</td>\n",
       "      <td>Bikanervala</td>\n",
       "      <td>Quick Bites</td>\n",
       "      <td>https://www.zomato.com/agra/bikanervala-khanda...</td>\n",
       "      <td>Kalyani Point, Near Tulsi Cinema, Bypass Road,...</td>\n",
       "      <td>Agra</td>\n",
       "      <td>34</td>\n",
       "      <td>Khandari</td>\n",
       "      <td>27.211450</td>\n",
       "      <td>78.002381</td>\n",
       "      <td>NaN</td>\n",
       "      <td>1</td>\n",
       "      <td>Khandari, Agra</td>\n",
       "      <td>North Indian, South Indian, Mithai, Street Foo...</td>\n",
       "      <td>8:30am – 10:30pm (Mon-Sun)</td>\n",
       "      <td>700</td>\n",
       "      <td>2</td>\n",
       "      <td>Rs.</td>\n",
       "      <td>Lunch, Takeaway Available, Credit Card, Dinner...</td>\n",
       "      <td>4.4</td>\n",
       "      <td>Very Good</td>\n",
       "      <td>814</td>\n",
       "      <td>154</td>\n",
       "      <td>0.0</td>\n",
       "      <td>-1</td>\n",
       "      <td>-1</td>\n",
       "    </tr>\n",
       "    <tr>\n",
       "      <th>1</th>\n",
       "      <td>3400005</td>\n",
       "      <td>Mama Chicken Mama Franky House</td>\n",
       "      <td>Quick Bites</td>\n",
       "      <td>https://www.zomato.com/agra/mama-chicken-mama-...</td>\n",
       "      <td>Main Market, Sadar Bazaar, Agra Cantt, Agra</td>\n",
       "      <td>Agra</td>\n",
       "      <td>34</td>\n",
       "      <td>Agra Cantt</td>\n",
       "      <td>27.160569</td>\n",
       "      <td>78.011583</td>\n",
       "      <td>282001</td>\n",
       "      <td>1</td>\n",
       "      <td>Agra Cantt, Agra</td>\n",
       "      <td>North Indian, Mughlai, Rolls, Chinese, Fast Fo...</td>\n",
       "      <td>12:30PM to 12Midnight (Mon, Wed, Thu, Fri, Sat...</td>\n",
       "      <td>600</td>\n",
       "      <td>2</td>\n",
       "      <td>Rs.</td>\n",
       "      <td>Delivery, No Alcohol Available, Dinner, Takeaw...</td>\n",
       "      <td>4.4</td>\n",
       "      <td>Very Good</td>\n",
       "      <td>1203</td>\n",
       "      <td>161</td>\n",
       "      <td>0.0</td>\n",
       "      <td>-1</td>\n",
       "      <td>-1</td>\n",
       "    </tr>\n",
       "    <tr>\n",
       "      <th>2</th>\n",
       "      <td>3401013</td>\n",
       "      <td>Bhagat Halwai</td>\n",
       "      <td>Quick Bites</td>\n",
       "      <td>https://www.zomato.com/agra/bhagat-halwai-2-sh...</td>\n",
       "      <td>62/1, Near Easy Day, West Shivaji Nagar, Goalp...</td>\n",
       "      <td>Agra</td>\n",
       "      <td>34</td>\n",
       "      <td>Shahganj</td>\n",
       "      <td>27.182938</td>\n",
       "      <td>77.979684</td>\n",
       "      <td>282010</td>\n",
       "      <td>1</td>\n",
       "      <td>Shahganj, Agra</td>\n",
       "      <td>Fast Food, Mithai</td>\n",
       "      <td>9:30 AM to 11 PM</td>\n",
       "      <td>300</td>\n",
       "      <td>1</td>\n",
       "      <td>Rs.</td>\n",
       "      <td>No Alcohol Available, Dinner, Takeaway Availab...</td>\n",
       "      <td>4.2</td>\n",
       "      <td>Very Good</td>\n",
       "      <td>801</td>\n",
       "      <td>107</td>\n",
       "      <td>0.0</td>\n",
       "      <td>1</td>\n",
       "      <td>-1</td>\n",
       "    </tr>\n",
       "    <tr>\n",
       "      <th>3</th>\n",
       "      <td>3400290</td>\n",
       "      <td>Bhagat Halwai</td>\n",
       "      <td>Quick Bites</td>\n",
       "      <td>https://www.zomato.com/agra/bhagat-halwai-civi...</td>\n",
       "      <td>Near Anjana Cinema, Nehru Nagar, Civil Lines, ...</td>\n",
       "      <td>Agra</td>\n",
       "      <td>34</td>\n",
       "      <td>Civil Lines</td>\n",
       "      <td>27.205668</td>\n",
       "      <td>78.004799</td>\n",
       "      <td>282002</td>\n",
       "      <td>1</td>\n",
       "      <td>Civil Lines, Agra</td>\n",
       "      <td>Desserts, Bakery, Fast Food, South Indian</td>\n",
       "      <td>8am – 11pm (Mon-Sun)</td>\n",
       "      <td>300</td>\n",
       "      <td>1</td>\n",
       "      <td>Rs.</td>\n",
       "      <td>Takeaway Available, Credit Card, Lunch, Delive...</td>\n",
       "      <td>4.3</td>\n",
       "      <td>Very Good</td>\n",
       "      <td>693</td>\n",
       "      <td>157</td>\n",
       "      <td>0.0</td>\n",
       "      <td>1</td>\n",
       "      <td>-1</td>\n",
       "    </tr>\n",
       "    <tr>\n",
       "      <th>4</th>\n",
       "      <td>3401744</td>\n",
       "      <td>The Salt Cafe Kitchen &amp; Bar</td>\n",
       "      <td>Casual Dining</td>\n",
       "      <td>https://www.zomato.com/agra/the-salt-cafe-kitc...</td>\n",
       "      <td>1C,3rd Floor, Fatehabad Road, Tajganj, Agra</td>\n",
       "      <td>Agra</td>\n",
       "      <td>34</td>\n",
       "      <td>Tajganj</td>\n",
       "      <td>27.157709</td>\n",
       "      <td>78.052421</td>\n",
       "      <td>NaN</td>\n",
       "      <td>1</td>\n",
       "      <td>Tajganj, Agra</td>\n",
       "      <td>North Indian, Continental, Italian</td>\n",
       "      <td>11:30 AM to 11:30 PM</td>\n",
       "      <td>1000</td>\n",
       "      <td>3</td>\n",
       "      <td>Rs.</td>\n",
       "      <td>Lunch, Serves Alcohol, Cash, Credit Card, Dinn...</td>\n",
       "      <td>4.9</td>\n",
       "      <td>Excellent</td>\n",
       "      <td>470</td>\n",
       "      <td>291</td>\n",
       "      <td>0.0</td>\n",
       "      <td>1</td>\n",
       "      <td>-1</td>\n",
       "    </tr>\n",
       "    <tr>\n",
       "      <th>...</th>\n",
       "      <td>...</td>\n",
       "      <td>...</td>\n",
       "      <td>...</td>\n",
       "      <td>...</td>\n",
       "      <td>...</td>\n",
       "      <td>...</td>\n",
       "      <td>...</td>\n",
       "      <td>...</td>\n",
       "      <td>...</td>\n",
       "      <td>...</td>\n",
       "      <td>...</td>\n",
       "      <td>...</td>\n",
       "      <td>...</td>\n",
       "      <td>...</td>\n",
       "      <td>...</td>\n",
       "      <td>...</td>\n",
       "      <td>...</td>\n",
       "      <td>...</td>\n",
       "      <td>...</td>\n",
       "      <td>...</td>\n",
       "      <td>...</td>\n",
       "      <td>...</td>\n",
       "      <td>...</td>\n",
       "      <td>...</td>\n",
       "      <td>...</td>\n",
       "      <td>...</td>\n",
       "    </tr>\n",
       "    <tr>\n",
       "      <th>211939</th>\n",
       "      <td>3202251</td>\n",
       "      <td>Kali Mirch Cafe And Restaurant</td>\n",
       "      <td>Casual Dining</td>\n",
       "      <td>https://www.zomato.com/vadodara/kali-mirch-caf...</td>\n",
       "      <td>Manu Smriti Complex, Near Navrachna School, GI...</td>\n",
       "      <td>Vadodara</td>\n",
       "      <td>32</td>\n",
       "      <td>Fatehgunj</td>\n",
       "      <td>22.336931</td>\n",
       "      <td>73.192356</td>\n",
       "      <td>390024</td>\n",
       "      <td>1</td>\n",
       "      <td>Fatehgunj, Vadodara</td>\n",
       "      <td>North Indian</td>\n",
       "      <td>11am – 3pm, 7pm – 11:30pm (Mon-Sun)</td>\n",
       "      <td>600</td>\n",
       "      <td>2</td>\n",
       "      <td>Rs.</td>\n",
       "      <td>Dinner, Cash, Lunch, Delivery, Indoor Seating,...</td>\n",
       "      <td>4.1</td>\n",
       "      <td>Very Good</td>\n",
       "      <td>243</td>\n",
       "      <td>40</td>\n",
       "      <td>0.0</td>\n",
       "      <td>-1</td>\n",
       "      <td>-1</td>\n",
       "    </tr>\n",
       "    <tr>\n",
       "      <th>211940</th>\n",
       "      <td>3200996</td>\n",
       "      <td>Raju Omlet</td>\n",
       "      <td>Quick Bites</td>\n",
       "      <td>https://www.zomato.com/vadodara/raju-omlet-kar...</td>\n",
       "      <td>Mahalaxmi Apartment, Opposite B O B, Karoli Ba...</td>\n",
       "      <td>Vadodara</td>\n",
       "      <td>32</td>\n",
       "      <td>Karelibaug</td>\n",
       "      <td>22.322455</td>\n",
       "      <td>73.197203</td>\n",
       "      <td>NaN</td>\n",
       "      <td>1</td>\n",
       "      <td>Karelibaug, Vadodara</td>\n",
       "      <td>Fast Food</td>\n",
       "      <td>4pm – 11pm (Mon, Tue, Wed, Fri, Sat, Sun), 4pm...</td>\n",
       "      <td>300</td>\n",
       "      <td>1</td>\n",
       "      <td>Rs.</td>\n",
       "      <td>Dinner, Cash, Takeaway Available, Debit Card, ...</td>\n",
       "      <td>4.1</td>\n",
       "      <td>Very Good</td>\n",
       "      <td>187</td>\n",
       "      <td>40</td>\n",
       "      <td>0.0</td>\n",
       "      <td>1</td>\n",
       "      <td>-1</td>\n",
       "    </tr>\n",
       "    <tr>\n",
       "      <th>211941</th>\n",
       "      <td>18984164</td>\n",
       "      <td>The Grand Thakar</td>\n",
       "      <td>Casual Dining</td>\n",
       "      <td>https://www.zomato.com/vadodara/the-grand-thak...</td>\n",
       "      <td>3rd Floor, Shreem Shalini Mall, Opposite Conqu...</td>\n",
       "      <td>Vadodara</td>\n",
       "      <td>32</td>\n",
       "      <td>Alkapuri</td>\n",
       "      <td>22.310563</td>\n",
       "      <td>73.171164</td>\n",
       "      <td>NaN</td>\n",
       "      <td>1</td>\n",
       "      <td>Alkapuri, Vadodara</td>\n",
       "      <td>Gujarati, North Indian, Chinese</td>\n",
       "      <td>11:30 AM to 3:30 PM, 7:30 PM to 11 PM</td>\n",
       "      <td>700</td>\n",
       "      <td>2</td>\n",
       "      <td>Rs.</td>\n",
       "      <td>Dinner, Cash, Debit Card, Lunch, Takeaway Avai...</td>\n",
       "      <td>4.0</td>\n",
       "      <td>Very Good</td>\n",
       "      <td>111</td>\n",
       "      <td>38</td>\n",
       "      <td>0.0</td>\n",
       "      <td>-1</td>\n",
       "      <td>-1</td>\n",
       "    </tr>\n",
       "    <tr>\n",
       "      <th>211942</th>\n",
       "      <td>3201138</td>\n",
       "      <td>Subway</td>\n",
       "      <td>Quick Bites</td>\n",
       "      <td>https://www.zomato.com/vadodara/subway-1-akota...</td>\n",
       "      <td>G-2, Vedant Platina, Near Cosmos, Akota, Vadodara</td>\n",
       "      <td>Vadodara</td>\n",
       "      <td>32</td>\n",
       "      <td>Akota</td>\n",
       "      <td>22.270027</td>\n",
       "      <td>73.143068</td>\n",
       "      <td>NaN</td>\n",
       "      <td>1</td>\n",
       "      <td>Akota, Vadodara</td>\n",
       "      <td>Fast Food, Sandwich, Salad</td>\n",
       "      <td>8 AM to 1 AM</td>\n",
       "      <td>500</td>\n",
       "      <td>2</td>\n",
       "      <td>Rs.</td>\n",
       "      <td>Dinner, Delivery, Credit Card, Lunch, Cash, Ta...</td>\n",
       "      <td>3.7</td>\n",
       "      <td>Good</td>\n",
       "      <td>128</td>\n",
       "      <td>34</td>\n",
       "      <td>0.0</td>\n",
       "      <td>1</td>\n",
       "      <td>-1</td>\n",
       "    </tr>\n",
       "    <tr>\n",
       "      <th>211943</th>\n",
       "      <td>18879846</td>\n",
       "      <td>Freshcos - The Health Cafe</td>\n",
       "      <td>Café</td>\n",
       "      <td>https://www.zomato.com/vadodara/freshcos-the-h...</td>\n",
       "      <td>Shop 7, Ground Floor, Opposite Natubhai Circle...</td>\n",
       "      <td>Vadodara</td>\n",
       "      <td>32</td>\n",
       "      <td>Vadiwadi</td>\n",
       "      <td>22.309935</td>\n",
       "      <td>73.158768</td>\n",
       "      <td>390007</td>\n",
       "      <td>1</td>\n",
       "      <td>Vadiwadi, Vadodara</td>\n",
       "      <td>Cafe, Healthy Food, Coffee</td>\n",
       "      <td>7am – 11pm (Mon-Sun)</td>\n",
       "      <td>600</td>\n",
       "      <td>2</td>\n",
       "      <td>Rs.</td>\n",
       "      <td>Dinner, Cash, Takeaway Available, Debit Card, ...</td>\n",
       "      <td>4.0</td>\n",
       "      <td>Very Good</td>\n",
       "      <td>93</td>\n",
       "      <td>53</td>\n",
       "      <td>0.0</td>\n",
       "      <td>1</td>\n",
       "      <td>-1</td>\n",
       "    </tr>\n",
       "  </tbody>\n",
       "</table>\n",
       "<p>211944 rows × 26 columns</p>\n",
       "</div>"
      ],
      "text/plain": [
       "          res_id                            name  ... delivery takeaway\n",
       "0        3400299                     Bikanervala  ...       -1       -1\n",
       "1        3400005  Mama Chicken Mama Franky House  ...       -1       -1\n",
       "2        3401013                   Bhagat Halwai  ...        1       -1\n",
       "3        3400290                   Bhagat Halwai  ...        1       -1\n",
       "4        3401744     The Salt Cafe Kitchen & Bar  ...        1       -1\n",
       "...          ...                             ...  ...      ...      ...\n",
       "211939   3202251  Kali Mirch Cafe And Restaurant  ...       -1       -1\n",
       "211940   3200996                      Raju Omlet  ...        1       -1\n",
       "211941  18984164                The Grand Thakar  ...       -1       -1\n",
       "211942   3201138                          Subway  ...        1       -1\n",
       "211943  18879846      Freshcos - The Health Cafe  ...        1       -1\n",
       "\n",
       "[211944 rows x 26 columns]"
      ]
     },
     "execution_count": 3,
     "metadata": {
      "tags": []
     },
     "output_type": "execute_result"
    }
   ],
   "source": [
    "data=pd.read_csv(\"ZomatoRestaurantsIndia.csv\")\n",
    "data"
   ]
  },
  {
   "cell_type": "markdown",
   "metadata": {
    "colab_type": "text",
    "id": "hukz3msGCFA8"
   },
   "source": [
    "Inference- Reading the data"
   ]
  },
  {
   "cell_type": "markdown",
   "metadata": {
    "colab_type": "text",
    "id": "3yLMTF0ACFA9"
   },
   "source": [
    "<a id='Understand_Data'></a>\n",
    "## 4. Understand  and Prepare the Data"
   ]
  },
  {
   "cell_type": "markdown",
   "metadata": {
    "colab_type": "text",
    "id": "l_jpObioCFA-"
   },
   "source": [
    "A well-prepared data proves beneficial for analysis as it limits errors and inaccuracies that can occur during analysis. The processed data is more accessible to users.<br> <br>\n",
    "                         Data understanding is the process of getting familiar with the data, to identify data type, to discover first insights into the data, or to detect interesting subsets to form hypotheses about hidden information. Whereas, data preparation is the process of cleaning and transforming raw data before analysis. It is an important step before processing and often involves reformatting data, making corrections to data. <br> <br>\n",
    "                        Data preparation is often a lengthy process, but it is essential as a prerequisite to put data in context to get insights and eliminate bias resulting from poor data quality."
   ]
  },
  {
   "cell_type": "markdown",
   "metadata": {
    "colab_type": "text",
    "id": "lg0uS1OaCFA_"
   },
   "source": [
    "<table align=\"left\">\n",
    "    <tr>\n",
    "        <td width=\"8%\">\n",
    "            <img src=\"todo.png\">\n",
    "        </td>\n",
    "        <td>\n",
    "            <div align=\"left\", style=\"font-size:120%\">\n",
    "                <font color=\"#21618C\">\n",
    "                    <b> Analyze and prepare data:<br>\n",
    "                        1. Check dimensions of the dataframe <br>\n",
    "                        2. View the head of the data<br>\n",
    "                        3. Note the redundant variables and drop them <br>\n",
    "                        4. Check the data types. Refer to data definition to ensure your data types are correct. If data types are not as per business context, change the data types as per requirement <br>\n",
    "                        5. Check for duplicates<br>\n",
    "                        Note: It is an art to explore data and one will need more and more practice to gain expertise in this area\n",
    "                    </b>\n",
    "                </font>\n",
    "            </div>\n",
    "        </td>\n",
    "    </tr>\n",
    "</table>"
   ]
  },
  {
   "cell_type": "markdown",
   "metadata": {
    "colab_type": "text",
    "id": "qhPSJ9yWCFBB"
   },
   "source": [
    "### -------------------------*** Provide the inference's from the output of every code executed.***----------------------------"
   ]
  },
  {
   "cell_type": "markdown",
   "metadata": {
    "colab_type": "text",
    "id": "X4vrEGQSCFBC"
   },
   "source": [
    "**1. Check dimensions of the dataframe in terms of rows and columns**"
   ]
  },
  {
   "cell_type": "code",
   "execution_count": 4,
   "metadata": {
    "colab": {
     "base_uri": "https://localhost:8080/",
     "height": 34
    },
    "colab_type": "code",
    "id": "u0yaggJOCFBD",
    "outputId": "9e99682b-bddb-4e4b-a9ed-75f2cb63eae2"
   },
   "outputs": [
    {
     "data": {
      "text/plain": [
       "(211944, 26)"
      ]
     },
     "execution_count": 4,
     "metadata": {
      "tags": []
     },
     "output_type": "execute_result"
    }
   ],
   "source": [
    "data.shape"
   ]
  },
  {
   "cell_type": "markdown",
   "metadata": {
    "colab_type": "text",
    "id": "kEMtUUGRCFBG"
   },
   "source": [
    "Inference drawn: \n",
    "    * The no.of rows are 211944\n",
    "    * The no.of columns are 26"
   ]
  },
  {
   "cell_type": "markdown",
   "metadata": {
    "colab_type": "text",
    "id": "OAJpxlJCCFBH"
   },
   "source": [
    "**2. View the head of the data**"
   ]
  },
  {
   "cell_type": "code",
   "execution_count": 5,
   "metadata": {
    "colab": {
     "base_uri": "https://localhost:8080/",
     "height": 700
    },
    "colab_type": "code",
    "id": "JDHnCA1yCFBJ",
    "outputId": "55e50eb6-d981-4ae6-dfad-92e0f74b40b9"
   },
   "outputs": [
    {
     "data": {
      "text/html": [
       "<div>\n",
       "<style scoped>\n",
       "    .dataframe tbody tr th:only-of-type {\n",
       "        vertical-align: middle;\n",
       "    }\n",
       "\n",
       "    .dataframe tbody tr th {\n",
       "        vertical-align: top;\n",
       "    }\n",
       "\n",
       "    .dataframe thead th {\n",
       "        text-align: right;\n",
       "    }\n",
       "</style>\n",
       "<table border=\"1\" class=\"dataframe\">\n",
       "  <thead>\n",
       "    <tr style=\"text-align: right;\">\n",
       "      <th></th>\n",
       "      <th>res_id</th>\n",
       "      <th>name</th>\n",
       "      <th>establishment</th>\n",
       "      <th>url</th>\n",
       "      <th>address</th>\n",
       "      <th>city</th>\n",
       "      <th>city_id</th>\n",
       "      <th>locality</th>\n",
       "      <th>latitude</th>\n",
       "      <th>longitude</th>\n",
       "      <th>zipcode</th>\n",
       "      <th>country_id</th>\n",
       "      <th>locality_verbose</th>\n",
       "      <th>cuisines</th>\n",
       "      <th>timings</th>\n",
       "      <th>average_cost_for_two</th>\n",
       "      <th>price_range</th>\n",
       "      <th>currency</th>\n",
       "      <th>highlights</th>\n",
       "      <th>aggregate_rating</th>\n",
       "      <th>rating_text</th>\n",
       "      <th>votes</th>\n",
       "      <th>photo_count</th>\n",
       "      <th>opentable_support</th>\n",
       "      <th>delivery</th>\n",
       "      <th>takeaway</th>\n",
       "    </tr>\n",
       "  </thead>\n",
       "  <tbody>\n",
       "    <tr>\n",
       "      <th>0</th>\n",
       "      <td>3400299</td>\n",
       "      <td>Bikanervala</td>\n",
       "      <td>Quick Bites</td>\n",
       "      <td>https://www.zomato.com/agra/bikanervala-khanda...</td>\n",
       "      <td>Kalyani Point, Near Tulsi Cinema, Bypass Road,...</td>\n",
       "      <td>Agra</td>\n",
       "      <td>34</td>\n",
       "      <td>Khandari</td>\n",
       "      <td>27.211450</td>\n",
       "      <td>78.002381</td>\n",
       "      <td>NaN</td>\n",
       "      <td>1</td>\n",
       "      <td>Khandari, Agra</td>\n",
       "      <td>North Indian, South Indian, Mithai, Street Foo...</td>\n",
       "      <td>8:30am – 10:30pm (Mon-Sun)</td>\n",
       "      <td>700</td>\n",
       "      <td>2</td>\n",
       "      <td>Rs.</td>\n",
       "      <td>Lunch, Takeaway Available, Credit Card, Dinner...</td>\n",
       "      <td>4.4</td>\n",
       "      <td>Very Good</td>\n",
       "      <td>814</td>\n",
       "      <td>154</td>\n",
       "      <td>0.0</td>\n",
       "      <td>-1</td>\n",
       "      <td>-1</td>\n",
       "    </tr>\n",
       "    <tr>\n",
       "      <th>1</th>\n",
       "      <td>3400005</td>\n",
       "      <td>Mama Chicken Mama Franky House</td>\n",
       "      <td>Quick Bites</td>\n",
       "      <td>https://www.zomato.com/agra/mama-chicken-mama-...</td>\n",
       "      <td>Main Market, Sadar Bazaar, Agra Cantt, Agra</td>\n",
       "      <td>Agra</td>\n",
       "      <td>34</td>\n",
       "      <td>Agra Cantt</td>\n",
       "      <td>27.160569</td>\n",
       "      <td>78.011583</td>\n",
       "      <td>282001</td>\n",
       "      <td>1</td>\n",
       "      <td>Agra Cantt, Agra</td>\n",
       "      <td>North Indian, Mughlai, Rolls, Chinese, Fast Fo...</td>\n",
       "      <td>12:30PM to 12Midnight (Mon, Wed, Thu, Fri, Sat...</td>\n",
       "      <td>600</td>\n",
       "      <td>2</td>\n",
       "      <td>Rs.</td>\n",
       "      <td>Delivery, No Alcohol Available, Dinner, Takeaw...</td>\n",
       "      <td>4.4</td>\n",
       "      <td>Very Good</td>\n",
       "      <td>1203</td>\n",
       "      <td>161</td>\n",
       "      <td>0.0</td>\n",
       "      <td>-1</td>\n",
       "      <td>-1</td>\n",
       "    </tr>\n",
       "    <tr>\n",
       "      <th>2</th>\n",
       "      <td>3401013</td>\n",
       "      <td>Bhagat Halwai</td>\n",
       "      <td>Quick Bites</td>\n",
       "      <td>https://www.zomato.com/agra/bhagat-halwai-2-sh...</td>\n",
       "      <td>62/1, Near Easy Day, West Shivaji Nagar, Goalp...</td>\n",
       "      <td>Agra</td>\n",
       "      <td>34</td>\n",
       "      <td>Shahganj</td>\n",
       "      <td>27.182938</td>\n",
       "      <td>77.979684</td>\n",
       "      <td>282010</td>\n",
       "      <td>1</td>\n",
       "      <td>Shahganj, Agra</td>\n",
       "      <td>Fast Food, Mithai</td>\n",
       "      <td>9:30 AM to 11 PM</td>\n",
       "      <td>300</td>\n",
       "      <td>1</td>\n",
       "      <td>Rs.</td>\n",
       "      <td>No Alcohol Available, Dinner, Takeaway Availab...</td>\n",
       "      <td>4.2</td>\n",
       "      <td>Very Good</td>\n",
       "      <td>801</td>\n",
       "      <td>107</td>\n",
       "      <td>0.0</td>\n",
       "      <td>1</td>\n",
       "      <td>-1</td>\n",
       "    </tr>\n",
       "    <tr>\n",
       "      <th>3</th>\n",
       "      <td>3400290</td>\n",
       "      <td>Bhagat Halwai</td>\n",
       "      <td>Quick Bites</td>\n",
       "      <td>https://www.zomato.com/agra/bhagat-halwai-civi...</td>\n",
       "      <td>Near Anjana Cinema, Nehru Nagar, Civil Lines, ...</td>\n",
       "      <td>Agra</td>\n",
       "      <td>34</td>\n",
       "      <td>Civil Lines</td>\n",
       "      <td>27.205668</td>\n",
       "      <td>78.004799</td>\n",
       "      <td>282002</td>\n",
       "      <td>1</td>\n",
       "      <td>Civil Lines, Agra</td>\n",
       "      <td>Desserts, Bakery, Fast Food, South Indian</td>\n",
       "      <td>8am – 11pm (Mon-Sun)</td>\n",
       "      <td>300</td>\n",
       "      <td>1</td>\n",
       "      <td>Rs.</td>\n",
       "      <td>Takeaway Available, Credit Card, Lunch, Delive...</td>\n",
       "      <td>4.3</td>\n",
       "      <td>Very Good</td>\n",
       "      <td>693</td>\n",
       "      <td>157</td>\n",
       "      <td>0.0</td>\n",
       "      <td>1</td>\n",
       "      <td>-1</td>\n",
       "    </tr>\n",
       "    <tr>\n",
       "      <th>4</th>\n",
       "      <td>3401744</td>\n",
       "      <td>The Salt Cafe Kitchen &amp; Bar</td>\n",
       "      <td>Casual Dining</td>\n",
       "      <td>https://www.zomato.com/agra/the-salt-cafe-kitc...</td>\n",
       "      <td>1C,3rd Floor, Fatehabad Road, Tajganj, Agra</td>\n",
       "      <td>Agra</td>\n",
       "      <td>34</td>\n",
       "      <td>Tajganj</td>\n",
       "      <td>27.157709</td>\n",
       "      <td>78.052421</td>\n",
       "      <td>NaN</td>\n",
       "      <td>1</td>\n",
       "      <td>Tajganj, Agra</td>\n",
       "      <td>North Indian, Continental, Italian</td>\n",
       "      <td>11:30 AM to 11:30 PM</td>\n",
       "      <td>1000</td>\n",
       "      <td>3</td>\n",
       "      <td>Rs.</td>\n",
       "      <td>Lunch, Serves Alcohol, Cash, Credit Card, Dinn...</td>\n",
       "      <td>4.9</td>\n",
       "      <td>Excellent</td>\n",
       "      <td>470</td>\n",
       "      <td>291</td>\n",
       "      <td>0.0</td>\n",
       "      <td>1</td>\n",
       "      <td>-1</td>\n",
       "    </tr>\n",
       "  </tbody>\n",
       "</table>\n",
       "</div>"
      ],
      "text/plain": [
       "    res_id                            name  ... delivery takeaway\n",
       "0  3400299                     Bikanervala  ...       -1       -1\n",
       "1  3400005  Mama Chicken Mama Franky House  ...       -1       -1\n",
       "2  3401013                   Bhagat Halwai  ...        1       -1\n",
       "3  3400290                   Bhagat Halwai  ...        1       -1\n",
       "4  3401744     The Salt Cafe Kitchen & Bar  ...        1       -1\n",
       "\n",
       "[5 rows x 26 columns]"
      ]
     },
     "execution_count": 5,
     "metadata": {
      "tags": []
     },
     "output_type": "execute_result"
    }
   ],
   "source": [
    "data.head(5)\n",
    "# data.locality_verbose"
   ]
  },
  {
   "cell_type": "markdown",
   "metadata": {
    "colab_type": "text",
    "id": "7z2l49QeCFBO"
   },
   "source": [
    "Inference -\n",
    "\n",
    "*There are 26 different columns in the dataset with data related to various aspects of sales related to Zomato\n",
    "\n",
    "*The focus has is only on data related to the Indian subcontinent"
   ]
  },
  {
   "cell_type": "markdown",
   "metadata": {
    "colab_type": "text",
    "id": "Hno55tbbCFBP"
   },
   "source": [
    "**3. Note the redundant variables and drop them**"
   ]
  },
  {
   "cell_type": "code",
   "execution_count": 0,
   "metadata": {
    "colab": {},
    "colab_type": "code",
    "id": "nGmPkpQvCFBQ",
    "scrolled": true
   },
   "outputs": [],
   "source": [
    "data.columns\n",
    "\n",
    "#country_id\n",
    "#city\n",
    "#country_id\n",
    "#locality_verbose\n",
    "#currency\n",
    "#opentable_support\n",
    "\n",
    "data=data.drop(['country_id','locality_verbose','currency','opentable_support'],axis=1)\n"
   ]
  },
  {
   "cell_type": "markdown",
   "metadata": {
    "colab_type": "text",
    "id": "Tk8yraRuCFBT"
   },
   "source": [
    "The variables are \n",
    "\n",
    "1) country_id - since focus is only for the country India and hence country_id is same everywhere\n",
    "\n",
    "2) locality_verbose - address parameter is already given \n",
    "\n",
    "3) currency - since it is only for India, the currency is constant\n",
    "\n",
    "4) Opentable_support - all various are 0 hence can be dropped"
   ]
  },
  {
   "cell_type": "code",
   "execution_count": 7,
   "metadata": {
    "colab": {
     "base_uri": "https://localhost:8080/",
     "height": 34
    },
    "colab_type": "code",
    "id": "ipqwoZAiCFBU",
    "outputId": "f1d940a5-6f7f-490e-82f6-87e35435aa87"
   },
   "outputs": [
    {
     "data": {
      "text/plain": [
       "(211944, 22)"
      ]
     },
     "execution_count": 7,
     "metadata": {
      "tags": []
     },
     "output_type": "execute_result"
    }
   ],
   "source": [
    "data.shape"
   ]
  },
  {
   "cell_type": "markdown",
   "metadata": {
    "colab_type": "text",
    "id": "eqcDT1W_CFBX"
   },
   "source": [
    "Inference- \n",
    "\n",
    "checking to undersand if the columns were droppped or not\n",
    "We can see that the columns reduced to 22 from 26"
   ]
  },
  {
   "cell_type": "markdown",
   "metadata": {
    "colab_type": "text",
    "id": "iVDc2oN5CFBY"
   },
   "source": [
    "**4. Check the data types. Refer to data definition to ensure your data types are correct. If data types are not as per business context, change the data types as per requirement**\n"
   ]
  },
  {
   "cell_type": "code",
   "execution_count": 8,
   "metadata": {
    "colab": {
     "base_uri": "https://localhost:8080/",
     "height": 408
    },
    "colab_type": "code",
    "id": "Z8h90-WOCFBZ",
    "outputId": "7c170a05-b1b4-4a2a-ae67-5fe7bfb9fd62"
   },
   "outputs": [
    {
     "data": {
      "text/plain": [
       "res_id                    int64\n",
       "name                     object\n",
       "establishment            object\n",
       "url                      object\n",
       "address                  object\n",
       "city                     object\n",
       "city_id                   int64\n",
       "locality                 object\n",
       "latitude                float64\n",
       "longitude               float64\n",
       "zipcode                  object\n",
       "cuisines                 object\n",
       "timings                  object\n",
       "average_cost_for_two      int64\n",
       "price_range               int64\n",
       "highlights               object\n",
       "aggregate_rating        float64\n",
       "rating_text              object\n",
       "votes                     int64\n",
       "photo_count               int64\n",
       "delivery                  int64\n",
       "takeaway                  int64\n",
       "dtype: object"
      ]
     },
     "execution_count": 8,
     "metadata": {
      "tags": []
     },
     "output_type": "execute_result"
    }
   ],
   "source": [
    "data\n",
    "data.dtypes"
   ]
  },
  {
   "cell_type": "markdown",
   "metadata": {
    "colab_type": "text",
    "id": "jJh5RN2uCFBd"
   },
   "source": [
    "Inference- \n",
    "\n",
    "checking the datatype of the dataset"
   ]
  },
  {
   "cell_type": "markdown",
   "metadata": {
    "colab_type": "text",
    "id": "yk46joIRCFBe"
   },
   "source": [
    "#### Change the incorrect data type"
   ]
  },
  {
   "cell_type": "code",
   "execution_count": 9,
   "metadata": {
    "colab": {
     "base_uri": "https://localhost:8080/",
     "height": 0
    },
    "colab_type": "code",
    "id": "L617v7FmCFBf",
    "outputId": "2b0ec082-5317-4e1b-ab89-471fe4c4a883"
   },
   "outputs": [
    {
     "data": {
      "text/plain": [
       "res_id                  category\n",
       "name                    category\n",
       "establishment           category\n",
       "url                     category\n",
       "address                 category\n",
       "city                    category\n",
       "city_id                 category\n",
       "locality                category\n",
       "latitude                category\n",
       "longitude               category\n",
       "zipcode                 category\n",
       "cuisines                category\n",
       "timings                 category\n",
       "average_cost_for_two       int64\n",
       "price_range             category\n",
       "highlights              category\n",
       "aggregate_rating         float64\n",
       "rating_text             category\n",
       "votes                      int64\n",
       "photo_count                int64\n",
       "delivery                category\n",
       "takeaway                category\n",
       "dtype: object"
      ]
     },
     "execution_count": 9,
     "metadata": {
      "tags": []
     },
     "output_type": "execute_result"
    }
   ],
   "source": [
    "#TO CATEGORICAL FORMAT\n",
    "\n",
    "data=data.astype('category')\n",
    "\n",
    "#TO NUMERICAL FORMAT\n",
    "\n",
    "# average_cost_for_two\n",
    "# aggregate_rating\n",
    "# photo_count\n",
    "# votes\n",
    "\n",
    "data.average_cost_for_two=data.average_cost_for_two.astype('int64')\n",
    "data.aggregate_rating=data.aggregate_rating.astype('float64')\n",
    "data.photo_count=data.photo_count.astype('int64')\n",
    "data.votes=data.votes.astype('int64')\n",
    "\n",
    "\n",
    "\n",
    "data.dtypes"
   ]
  },
  {
   "cell_type": "markdown",
   "metadata": {
    "colab_type": "text",
    "id": "kfRoEg2wCFBj"
   },
   "source": [
    "Inference- \n",
    "\n",
    "* the datatypes were changed according to the business requirements into the two types- categorial/numerical"
   ]
  },
  {
   "cell_type": "markdown",
   "metadata": {
    "colab_type": "text",
    "id": "j-mgC1TRCFBk"
   },
   "source": [
    "**5. Check for Duplicates**"
   ]
  },
  {
   "cell_type": "code",
   "execution_count": 10,
   "metadata": {
    "colab": {
     "base_uri": "https://localhost:8080/",
     "height": 0
    },
    "colab_type": "code",
    "id": "rQSAzhamCFBl",
    "outputId": "86d12365-074e-41ee-a16c-d6a9d1831a3c"
   },
   "outputs": [
    {
     "data": {
      "text/html": [
       "<div>\n",
       "<style scoped>\n",
       "    .dataframe tbody tr th:only-of-type {\n",
       "        vertical-align: middle;\n",
       "    }\n",
       "\n",
       "    .dataframe tbody tr th {\n",
       "        vertical-align: top;\n",
       "    }\n",
       "\n",
       "    .dataframe thead th {\n",
       "        text-align: right;\n",
       "    }\n",
       "</style>\n",
       "<table border=\"1\" class=\"dataframe\">\n",
       "  <thead>\n",
       "    <tr style=\"text-align: right;\">\n",
       "      <th></th>\n",
       "      <th>res_id</th>\n",
       "      <th>name</th>\n",
       "      <th>establishment</th>\n",
       "      <th>url</th>\n",
       "      <th>address</th>\n",
       "      <th>city</th>\n",
       "      <th>city_id</th>\n",
       "      <th>locality</th>\n",
       "      <th>latitude</th>\n",
       "      <th>longitude</th>\n",
       "      <th>zipcode</th>\n",
       "      <th>cuisines</th>\n",
       "      <th>timings</th>\n",
       "      <th>average_cost_for_two</th>\n",
       "      <th>price_range</th>\n",
       "      <th>highlights</th>\n",
       "      <th>aggregate_rating</th>\n",
       "      <th>rating_text</th>\n",
       "      <th>votes</th>\n",
       "      <th>photo_count</th>\n",
       "      <th>delivery</th>\n",
       "      <th>takeaway</th>\n",
       "    </tr>\n",
       "  </thead>\n",
       "  <tbody>\n",
       "    <tr>\n",
       "      <th>101</th>\n",
       "      <td>3400059</td>\n",
       "      <td>Peshawri - ITC Mughal</td>\n",
       "      <td>Fine Dining</td>\n",
       "      <td>https://www.zomato.com/agra/peshawri-itc-mugha...</td>\n",
       "      <td>ITC Mughal, Fatehabad Road, Tajganj, Agra</td>\n",
       "      <td>Agra</td>\n",
       "      <td>34</td>\n",
       "      <td>ITC Mughal, Tajganj</td>\n",
       "      <td>27.161150</td>\n",
       "      <td>78.043993</td>\n",
       "      <td>NaN</td>\n",
       "      <td>North Indian, Mughlai</td>\n",
       "      <td>12:30 PM to 2:45 PM, 7 PM to 11:45 PM</td>\n",
       "      <td>6000</td>\n",
       "      <td>4</td>\n",
       "      <td>Lunch, Cash, Credit Card, Dinner, Debit Card, ...</td>\n",
       "      <td>4.4</td>\n",
       "      <td>Very Good</td>\n",
       "      <td>353</td>\n",
       "      <td>154</td>\n",
       "      <td>-1</td>\n",
       "      <td>-1</td>\n",
       "    </tr>\n",
       "    <tr>\n",
       "      <th>116</th>\n",
       "      <td>3400060</td>\n",
       "      <td>Taj Bano - ITC Mughal</td>\n",
       "      <td>Fine Dining</td>\n",
       "      <td>https://www.zomato.com/agra/taj-bano-itc-mugha...</td>\n",
       "      <td>ITC Mughal, Fatehabad Road, Tajganj, Agra</td>\n",
       "      <td>Agra</td>\n",
       "      <td>34</td>\n",
       "      <td>ITC Mughal, Tajganj</td>\n",
       "      <td>27.161132</td>\n",
       "      <td>78.044022</td>\n",
       "      <td>NaN</td>\n",
       "      <td>Mughlai, North Indian</td>\n",
       "      <td>6 AM to 10:30 AM, 12:30 PM to 2:30 PM, 7 PM to...</td>\n",
       "      <td>2500</td>\n",
       "      <td>4</td>\n",
       "      <td>Credit Card, Lunch, Cash, Debit Card, Dinner, ...</td>\n",
       "      <td>4.3</td>\n",
       "      <td>Very Good</td>\n",
       "      <td>96</td>\n",
       "      <td>205</td>\n",
       "      <td>-1</td>\n",
       "      <td>-1</td>\n",
       "    </tr>\n",
       "    <tr>\n",
       "      <th>140</th>\n",
       "      <td>3400017</td>\n",
       "      <td>Pinch Of Spice</td>\n",
       "      <td>Casual Dining</td>\n",
       "      <td>https://www.zomato.com/agra/pinch-of-spice-civ...</td>\n",
       "      <td>23/453, Opposite Sanjay Cinema, Wazipura Road,...</td>\n",
       "      <td>Agra</td>\n",
       "      <td>34</td>\n",
       "      <td>Civil Lines</td>\n",
       "      <td>27.201735</td>\n",
       "      <td>78.007625</td>\n",
       "      <td>NaN</td>\n",
       "      <td>North Indian, Chinese, Mughlai</td>\n",
       "      <td>12 Noon to 4 PM, 7 PM to 11:30 PM</td>\n",
       "      <td>1600</td>\n",
       "      <td>4</td>\n",
       "      <td>Lunch, Delivery, Credit Card, Dinner, Cash, Ta...</td>\n",
       "      <td>4.6</td>\n",
       "      <td>Excellent</td>\n",
       "      <td>915</td>\n",
       "      <td>105</td>\n",
       "      <td>1</td>\n",
       "      <td>-1</td>\n",
       "    </tr>\n",
       "    <tr>\n",
       "      <th>141</th>\n",
       "      <td>3400018</td>\n",
       "      <td>Pinch Of Spice</td>\n",
       "      <td>Casual Dining</td>\n",
       "      <td>https://www.zomato.com/agra/pinch-of-spice-taj...</td>\n",
       "      <td>1076/2, Fatehabad Road, Tajganj, Agra</td>\n",
       "      <td>Agra</td>\n",
       "      <td>34</td>\n",
       "      <td>Tajganj</td>\n",
       "      <td>27.159649</td>\n",
       "      <td>78.043304</td>\n",
       "      <td>282010</td>\n",
       "      <td>North Indian, Chinese, Continental</td>\n",
       "      <td>12 Noon to 11:30 PM (Mon-Sun)</td>\n",
       "      <td>1600</td>\n",
       "      <td>4</td>\n",
       "      <td>Delivery, Dinner, Cash, Credit Card, Debit Car...</td>\n",
       "      <td>4.6</td>\n",
       "      <td>Excellent</td>\n",
       "      <td>965</td>\n",
       "      <td>690</td>\n",
       "      <td>1</td>\n",
       "      <td>-1</td>\n",
       "    </tr>\n",
       "    <tr>\n",
       "      <th>142</th>\n",
       "      <td>3400850</td>\n",
       "      <td>Urban Deck</td>\n",
       "      <td>Casual Dining</td>\n",
       "      <td>https://www.zomato.com/agra/urban-deck-2-civil...</td>\n",
       "      <td>5th Floor, The P L Palace Hotel, MG Road, Sanj...</td>\n",
       "      <td>Agra</td>\n",
       "      <td>34</td>\n",
       "      <td>Civil Lines</td>\n",
       "      <td>27.199573</td>\n",
       "      <td>78.003699</td>\n",
       "      <td>282005</td>\n",
       "      <td>Mexican, Italian, North Indian</td>\n",
       "      <td>1PM to 12Midnight (Mon-Sun)</td>\n",
       "      <td>1600</td>\n",
       "      <td>4</td>\n",
       "      <td>Dinner, Cash, Debit Card, Takeaway Available, ...</td>\n",
       "      <td>4.3</td>\n",
       "      <td>Very Good</td>\n",
       "      <td>672</td>\n",
       "      <td>192</td>\n",
       "      <td>1</td>\n",
       "      <td>-1</td>\n",
       "    </tr>\n",
       "    <tr>\n",
       "      <th>...</th>\n",
       "      <td>...</td>\n",
       "      <td>...</td>\n",
       "      <td>...</td>\n",
       "      <td>...</td>\n",
       "      <td>...</td>\n",
       "      <td>...</td>\n",
       "      <td>...</td>\n",
       "      <td>...</td>\n",
       "      <td>...</td>\n",
       "      <td>...</td>\n",
       "      <td>...</td>\n",
       "      <td>...</td>\n",
       "      <td>...</td>\n",
       "      <td>...</td>\n",
       "      <td>...</td>\n",
       "      <td>...</td>\n",
       "      <td>...</td>\n",
       "      <td>...</td>\n",
       "      <td>...</td>\n",
       "      <td>...</td>\n",
       "      <td>...</td>\n",
       "      <td>...</td>\n",
       "    </tr>\n",
       "    <tr>\n",
       "      <th>211937</th>\n",
       "      <td>18855810</td>\n",
       "      <td>Biryani aur Baatein</td>\n",
       "      <td>Casual Dining</td>\n",
       "      <td>https://www.zomato.com/vadodara/biryani-aur-ba...</td>\n",
       "      <td>Shop 14, Atlantis K-10, A Wing, Genda Circle R...</td>\n",
       "      <td>Vadodara</td>\n",
       "      <td>32</td>\n",
       "      <td>Alkapuri</td>\n",
       "      <td>22.317746</td>\n",
       "      <td>73.168043</td>\n",
       "      <td>NaN</td>\n",
       "      <td>Biryani, Mughlai, Chinese</td>\n",
       "      <td>11:30am – 3:30pm, 7:30pm – 1am (Mon-Sun)</td>\n",
       "      <td>500</td>\n",
       "      <td>2</td>\n",
       "      <td>Dinner, Cash, Takeaway Available, Debit Card, ...</td>\n",
       "      <td>4.1</td>\n",
       "      <td>Very Good</td>\n",
       "      <td>154</td>\n",
       "      <td>96</td>\n",
       "      <td>-1</td>\n",
       "      <td>-1</td>\n",
       "    </tr>\n",
       "    <tr>\n",
       "      <th>211938</th>\n",
       "      <td>18662583</td>\n",
       "      <td>Wok On Fire</td>\n",
       "      <td>Casual Dining</td>\n",
       "      <td>https://www.zomato.com/vadodara/wok-on-fire-fa...</td>\n",
       "      <td>Ground Floor 1, Rossette Building, Opposite Se...</td>\n",
       "      <td>Vadodara</td>\n",
       "      <td>32</td>\n",
       "      <td>Fatehgunj</td>\n",
       "      <td>22.323357</td>\n",
       "      <td>73.187461</td>\n",
       "      <td>NaN</td>\n",
       "      <td>Chinese, Asian</td>\n",
       "      <td>11 AM to 11 PM</td>\n",
       "      <td>1000</td>\n",
       "      <td>3</td>\n",
       "      <td>Dinner, Cash, Debit Card, Lunch, Takeaway Avai...</td>\n",
       "      <td>4.0</td>\n",
       "      <td>Very Good</td>\n",
       "      <td>301</td>\n",
       "      <td>126</td>\n",
       "      <td>1</td>\n",
       "      <td>-1</td>\n",
       "    </tr>\n",
       "    <tr>\n",
       "      <th>211939</th>\n",
       "      <td>3202251</td>\n",
       "      <td>Kali Mirch Cafe And Restaurant</td>\n",
       "      <td>Casual Dining</td>\n",
       "      <td>https://www.zomato.com/vadodara/kali-mirch-caf...</td>\n",
       "      <td>Manu Smriti Complex, Near Navrachna School, GI...</td>\n",
       "      <td>Vadodara</td>\n",
       "      <td>32</td>\n",
       "      <td>Fatehgunj</td>\n",
       "      <td>22.336931</td>\n",
       "      <td>73.192356</td>\n",
       "      <td>390024</td>\n",
       "      <td>North Indian</td>\n",
       "      <td>11am – 3pm, 7pm – 11:30pm (Mon-Sun)</td>\n",
       "      <td>600</td>\n",
       "      <td>2</td>\n",
       "      <td>Dinner, Cash, Lunch, Delivery, Indoor Seating,...</td>\n",
       "      <td>4.1</td>\n",
       "      <td>Very Good</td>\n",
       "      <td>243</td>\n",
       "      <td>40</td>\n",
       "      <td>-1</td>\n",
       "      <td>-1</td>\n",
       "    </tr>\n",
       "    <tr>\n",
       "      <th>211941</th>\n",
       "      <td>18984164</td>\n",
       "      <td>The Grand Thakar</td>\n",
       "      <td>Casual Dining</td>\n",
       "      <td>https://www.zomato.com/vadodara/the-grand-thak...</td>\n",
       "      <td>3rd Floor, Shreem Shalini Mall, Opposite Conqu...</td>\n",
       "      <td>Vadodara</td>\n",
       "      <td>32</td>\n",
       "      <td>Alkapuri</td>\n",
       "      <td>22.310563</td>\n",
       "      <td>73.171164</td>\n",
       "      <td>NaN</td>\n",
       "      <td>Gujarati, North Indian, Chinese</td>\n",
       "      <td>11:30 AM to 3:30 PM, 7:30 PM to 11 PM</td>\n",
       "      <td>700</td>\n",
       "      <td>2</td>\n",
       "      <td>Dinner, Cash, Debit Card, Lunch, Takeaway Avai...</td>\n",
       "      <td>4.0</td>\n",
       "      <td>Very Good</td>\n",
       "      <td>111</td>\n",
       "      <td>38</td>\n",
       "      <td>-1</td>\n",
       "      <td>-1</td>\n",
       "    </tr>\n",
       "    <tr>\n",
       "      <th>211943</th>\n",
       "      <td>18879846</td>\n",
       "      <td>Freshcos - The Health Cafe</td>\n",
       "      <td>Café</td>\n",
       "      <td>https://www.zomato.com/vadodara/freshcos-the-h...</td>\n",
       "      <td>Shop 7, Ground Floor, Opposite Natubhai Circle...</td>\n",
       "      <td>Vadodara</td>\n",
       "      <td>32</td>\n",
       "      <td>Vadiwadi</td>\n",
       "      <td>22.309935</td>\n",
       "      <td>73.158768</td>\n",
       "      <td>390007</td>\n",
       "      <td>Cafe, Healthy Food, Coffee</td>\n",
       "      <td>7am – 11pm (Mon-Sun)</td>\n",
       "      <td>600</td>\n",
       "      <td>2</td>\n",
       "      <td>Dinner, Cash, Takeaway Available, Debit Card, ...</td>\n",
       "      <td>4.0</td>\n",
       "      <td>Very Good</td>\n",
       "      <td>93</td>\n",
       "      <td>53</td>\n",
       "      <td>1</td>\n",
       "      <td>-1</td>\n",
       "    </tr>\n",
       "  </tbody>\n",
       "</table>\n",
       "<p>151533 rows × 22 columns</p>\n",
       "</div>"
      ],
      "text/plain": [
       "          res_id                            name  ... delivery takeaway\n",
       "101      3400059           Peshawri - ITC Mughal  ...       -1       -1\n",
       "116      3400060           Taj Bano - ITC Mughal  ...       -1       -1\n",
       "140      3400017                  Pinch Of Spice  ...        1       -1\n",
       "141      3400018                  Pinch Of Spice  ...        1       -1\n",
       "142      3400850                      Urban Deck  ...        1       -1\n",
       "...          ...                             ...  ...      ...      ...\n",
       "211937  18855810             Biryani aur Baatein  ...       -1       -1\n",
       "211938  18662583                     Wok On Fire  ...        1       -1\n",
       "211939   3202251  Kali Mirch Cafe And Restaurant  ...       -1       -1\n",
       "211941  18984164                The Grand Thakar  ...       -1       -1\n",
       "211943  18879846      Freshcos - The Health Cafe  ...        1       -1\n",
       "\n",
       "[151533 rows x 22 columns]"
      ]
     },
     "execution_count": 10,
     "metadata": {
      "tags": []
     },
     "output_type": "execute_result"
    }
   ],
   "source": [
    "#this is done based on all columns in the data\n",
    "data_duplicated=data[data.duplicated()]\n",
    "data_duplicated"
   ]
  },
  {
   "cell_type": "markdown",
   "metadata": {
    "colab_type": "text",
    "id": "7aZB6aVJCFBo"
   },
   "source": [
    "Inference-\n",
    "    \n",
    "    We can understand that there are about 151533 rows in the dataset having some/all values as repeated values "
   ]
  },
  {
   "cell_type": "code",
   "execution_count": 11,
   "metadata": {
    "colab": {
     "base_uri": "https://localhost:8080/",
     "height": 0
    },
    "colab_type": "code",
    "id": "ccDG-JwVCFBp",
    "outputId": "093b5d0b-a813-49b1-de37-bb66c3b267f4"
   },
   "outputs": [
    {
     "data": {
      "text/html": [
       "<div>\n",
       "<style scoped>\n",
       "    .dataframe tbody tr th:only-of-type {\n",
       "        vertical-align: middle;\n",
       "    }\n",
       "\n",
       "    .dataframe tbody tr th {\n",
       "        vertical-align: top;\n",
       "    }\n",
       "\n",
       "    .dataframe thead th {\n",
       "        text-align: right;\n",
       "    }\n",
       "</style>\n",
       "<table border=\"1\" class=\"dataframe\">\n",
       "  <thead>\n",
       "    <tr style=\"text-align: right;\">\n",
       "      <th></th>\n",
       "      <th>res_id</th>\n",
       "      <th>name</th>\n",
       "      <th>establishment</th>\n",
       "      <th>url</th>\n",
       "      <th>address</th>\n",
       "      <th>city</th>\n",
       "      <th>city_id</th>\n",
       "      <th>locality</th>\n",
       "      <th>latitude</th>\n",
       "      <th>longitude</th>\n",
       "      <th>zipcode</th>\n",
       "      <th>cuisines</th>\n",
       "      <th>timings</th>\n",
       "      <th>average_cost_for_two</th>\n",
       "      <th>price_range</th>\n",
       "      <th>highlights</th>\n",
       "      <th>aggregate_rating</th>\n",
       "      <th>rating_text</th>\n",
       "      <th>votes</th>\n",
       "      <th>photo_count</th>\n",
       "      <th>delivery</th>\n",
       "      <th>takeaway</th>\n",
       "    </tr>\n",
       "  </thead>\n",
       "  <tbody>\n",
       "    <tr>\n",
       "      <th>1</th>\n",
       "      <td>3400005</td>\n",
       "      <td>Mama Chicken Mama Franky House</td>\n",
       "      <td>Quick Bites</td>\n",
       "      <td>https://www.zomato.com/agra/mama-chicken-mama-...</td>\n",
       "      <td>Main Market, Sadar Bazaar, Agra Cantt, Agra</td>\n",
       "      <td>Agra</td>\n",
       "      <td>34</td>\n",
       "      <td>Agra Cantt</td>\n",
       "      <td>27.160569</td>\n",
       "      <td>78.011583</td>\n",
       "      <td>282001</td>\n",
       "      <td>North Indian, Mughlai, Rolls, Chinese, Fast Fo...</td>\n",
       "      <td>12:30PM to 12Midnight (Mon, Wed, Thu, Fri, Sat...</td>\n",
       "      <td>600</td>\n",
       "      <td>2</td>\n",
       "      <td>Delivery, No Alcohol Available, Dinner, Takeaw...</td>\n",
       "      <td>4.4</td>\n",
       "      <td>Very Good</td>\n",
       "      <td>1203</td>\n",
       "      <td>161</td>\n",
       "      <td>-1</td>\n",
       "      <td>-1</td>\n",
       "    </tr>\n",
       "    <tr>\n",
       "      <th>2</th>\n",
       "      <td>3401013</td>\n",
       "      <td>Bhagat Halwai</td>\n",
       "      <td>Quick Bites</td>\n",
       "      <td>https://www.zomato.com/agra/bhagat-halwai-2-sh...</td>\n",
       "      <td>62/1, Near Easy Day, West Shivaji Nagar, Goalp...</td>\n",
       "      <td>Agra</td>\n",
       "      <td>34</td>\n",
       "      <td>Shahganj</td>\n",
       "      <td>27.182938</td>\n",
       "      <td>77.979684</td>\n",
       "      <td>282010</td>\n",
       "      <td>Fast Food, Mithai</td>\n",
       "      <td>9:30 AM to 11 PM</td>\n",
       "      <td>300</td>\n",
       "      <td>1</td>\n",
       "      <td>No Alcohol Available, Dinner, Takeaway Availab...</td>\n",
       "      <td>4.2</td>\n",
       "      <td>Very Good</td>\n",
       "      <td>801</td>\n",
       "      <td>107</td>\n",
       "      <td>1</td>\n",
       "      <td>-1</td>\n",
       "    </tr>\n",
       "    <tr>\n",
       "      <th>3</th>\n",
       "      <td>3400290</td>\n",
       "      <td>Bhagat Halwai</td>\n",
       "      <td>Quick Bites</td>\n",
       "      <td>https://www.zomato.com/agra/bhagat-halwai-civi...</td>\n",
       "      <td>Near Anjana Cinema, Nehru Nagar, Civil Lines, ...</td>\n",
       "      <td>Agra</td>\n",
       "      <td>34</td>\n",
       "      <td>Civil Lines</td>\n",
       "      <td>27.205668</td>\n",
       "      <td>78.004799</td>\n",
       "      <td>282002</td>\n",
       "      <td>Desserts, Bakery, Fast Food, South Indian</td>\n",
       "      <td>8am – 11pm (Mon-Sun)</td>\n",
       "      <td>300</td>\n",
       "      <td>1</td>\n",
       "      <td>Takeaway Available, Credit Card, Lunch, Delive...</td>\n",
       "      <td>4.3</td>\n",
       "      <td>Very Good</td>\n",
       "      <td>693</td>\n",
       "      <td>157</td>\n",
       "      <td>1</td>\n",
       "      <td>-1</td>\n",
       "    </tr>\n",
       "    <tr>\n",
       "      <th>4</th>\n",
       "      <td>3401744</td>\n",
       "      <td>The Salt Cafe Kitchen &amp; Bar</td>\n",
       "      <td>Casual Dining</td>\n",
       "      <td>https://www.zomato.com/agra/the-salt-cafe-kitc...</td>\n",
       "      <td>1C,3rd Floor, Fatehabad Road, Tajganj, Agra</td>\n",
       "      <td>Agra</td>\n",
       "      <td>34</td>\n",
       "      <td>Tajganj</td>\n",
       "      <td>27.157709</td>\n",
       "      <td>78.052421</td>\n",
       "      <td>NaN</td>\n",
       "      <td>North Indian, Continental, Italian</td>\n",
       "      <td>11:30 AM to 11:30 PM</td>\n",
       "      <td>1000</td>\n",
       "      <td>3</td>\n",
       "      <td>Lunch, Serves Alcohol, Cash, Credit Card, Dinn...</td>\n",
       "      <td>4.9</td>\n",
       "      <td>Excellent</td>\n",
       "      <td>470</td>\n",
       "      <td>291</td>\n",
       "      <td>1</td>\n",
       "      <td>-1</td>\n",
       "    </tr>\n",
       "    <tr>\n",
       "      <th>5</th>\n",
       "      <td>3400275</td>\n",
       "      <td>Dominos Pizza</td>\n",
       "      <td>Quick Bites</td>\n",
       "      <td>https://www.zomato.com/agra/dominos-pizza-civi...</td>\n",
       "      <td>114/23 G, Deep Shikha Complex, Sanjay Place, C...</td>\n",
       "      <td>Agra</td>\n",
       "      <td>34</td>\n",
       "      <td>Civil Lines</td>\n",
       "      <td>27.201516</td>\n",
       "      <td>78.007556</td>\n",
       "      <td>NaN</td>\n",
       "      <td>Pizza, Fast Food</td>\n",
       "      <td>10:57 AM to 11 PM</td>\n",
       "      <td>400</td>\n",
       "      <td>2</td>\n",
       "      <td>Credit Card, Lunch, Delivery, Dinner, Debit Ca...</td>\n",
       "      <td>4.0</td>\n",
       "      <td>Very Good</td>\n",
       "      <td>707</td>\n",
       "      <td>62</td>\n",
       "      <td>-1</td>\n",
       "      <td>-1</td>\n",
       "    </tr>\n",
       "    <tr>\n",
       "      <th>...</th>\n",
       "      <td>...</td>\n",
       "      <td>...</td>\n",
       "      <td>...</td>\n",
       "      <td>...</td>\n",
       "      <td>...</td>\n",
       "      <td>...</td>\n",
       "      <td>...</td>\n",
       "      <td>...</td>\n",
       "      <td>...</td>\n",
       "      <td>...</td>\n",
       "      <td>...</td>\n",
       "      <td>...</td>\n",
       "      <td>...</td>\n",
       "      <td>...</td>\n",
       "      <td>...</td>\n",
       "      <td>...</td>\n",
       "      <td>...</td>\n",
       "      <td>...</td>\n",
       "      <td>...</td>\n",
       "      <td>...</td>\n",
       "      <td>...</td>\n",
       "      <td>...</td>\n",
       "    </tr>\n",
       "    <tr>\n",
       "      <th>211939</th>\n",
       "      <td>3202251</td>\n",
       "      <td>Kali Mirch Cafe And Restaurant</td>\n",
       "      <td>Casual Dining</td>\n",
       "      <td>https://www.zomato.com/vadodara/kali-mirch-caf...</td>\n",
       "      <td>Manu Smriti Complex, Near Navrachna School, GI...</td>\n",
       "      <td>Vadodara</td>\n",
       "      <td>32</td>\n",
       "      <td>Fatehgunj</td>\n",
       "      <td>22.336931</td>\n",
       "      <td>73.192356</td>\n",
       "      <td>390024</td>\n",
       "      <td>North Indian</td>\n",
       "      <td>11am – 3pm, 7pm – 11:30pm (Mon-Sun)</td>\n",
       "      <td>600</td>\n",
       "      <td>2</td>\n",
       "      <td>Dinner, Cash, Lunch, Delivery, Indoor Seating,...</td>\n",
       "      <td>4.1</td>\n",
       "      <td>Very Good</td>\n",
       "      <td>243</td>\n",
       "      <td>40</td>\n",
       "      <td>-1</td>\n",
       "      <td>-1</td>\n",
       "    </tr>\n",
       "    <tr>\n",
       "      <th>211940</th>\n",
       "      <td>3200996</td>\n",
       "      <td>Raju Omlet</td>\n",
       "      <td>Quick Bites</td>\n",
       "      <td>https://www.zomato.com/vadodara/raju-omlet-kar...</td>\n",
       "      <td>Mahalaxmi Apartment, Opposite B O B, Karoli Ba...</td>\n",
       "      <td>Vadodara</td>\n",
       "      <td>32</td>\n",
       "      <td>Karelibaug</td>\n",
       "      <td>22.322455</td>\n",
       "      <td>73.197203</td>\n",
       "      <td>NaN</td>\n",
       "      <td>Fast Food</td>\n",
       "      <td>4pm – 11pm (Mon, Tue, Wed, Fri, Sat, Sun), 4pm...</td>\n",
       "      <td>300</td>\n",
       "      <td>1</td>\n",
       "      <td>Dinner, Cash, Takeaway Available, Debit Card, ...</td>\n",
       "      <td>4.1</td>\n",
       "      <td>Very Good</td>\n",
       "      <td>187</td>\n",
       "      <td>40</td>\n",
       "      <td>1</td>\n",
       "      <td>-1</td>\n",
       "    </tr>\n",
       "    <tr>\n",
       "      <th>211941</th>\n",
       "      <td>18984164</td>\n",
       "      <td>The Grand Thakar</td>\n",
       "      <td>Casual Dining</td>\n",
       "      <td>https://www.zomato.com/vadodara/the-grand-thak...</td>\n",
       "      <td>3rd Floor, Shreem Shalini Mall, Opposite Conqu...</td>\n",
       "      <td>Vadodara</td>\n",
       "      <td>32</td>\n",
       "      <td>Alkapuri</td>\n",
       "      <td>22.310563</td>\n",
       "      <td>73.171164</td>\n",
       "      <td>NaN</td>\n",
       "      <td>Gujarati, North Indian, Chinese</td>\n",
       "      <td>11:30 AM to 3:30 PM, 7:30 PM to 11 PM</td>\n",
       "      <td>700</td>\n",
       "      <td>2</td>\n",
       "      <td>Dinner, Cash, Debit Card, Lunch, Takeaway Avai...</td>\n",
       "      <td>4.0</td>\n",
       "      <td>Very Good</td>\n",
       "      <td>111</td>\n",
       "      <td>38</td>\n",
       "      <td>-1</td>\n",
       "      <td>-1</td>\n",
       "    </tr>\n",
       "    <tr>\n",
       "      <th>211942</th>\n",
       "      <td>3201138</td>\n",
       "      <td>Subway</td>\n",
       "      <td>Quick Bites</td>\n",
       "      <td>https://www.zomato.com/vadodara/subway-1-akota...</td>\n",
       "      <td>G-2, Vedant Platina, Near Cosmos, Akota, Vadodara</td>\n",
       "      <td>Vadodara</td>\n",
       "      <td>32</td>\n",
       "      <td>Akota</td>\n",
       "      <td>22.270027</td>\n",
       "      <td>73.143068</td>\n",
       "      <td>NaN</td>\n",
       "      <td>Fast Food, Sandwich, Salad</td>\n",
       "      <td>8 AM to 1 AM</td>\n",
       "      <td>500</td>\n",
       "      <td>2</td>\n",
       "      <td>Dinner, Delivery, Credit Card, Lunch, Cash, Ta...</td>\n",
       "      <td>3.7</td>\n",
       "      <td>Good</td>\n",
       "      <td>128</td>\n",
       "      <td>34</td>\n",
       "      <td>1</td>\n",
       "      <td>-1</td>\n",
       "    </tr>\n",
       "    <tr>\n",
       "      <th>211943</th>\n",
       "      <td>18879846</td>\n",
       "      <td>Freshcos - The Health Cafe</td>\n",
       "      <td>Café</td>\n",
       "      <td>https://www.zomato.com/vadodara/freshcos-the-h...</td>\n",
       "      <td>Shop 7, Ground Floor, Opposite Natubhai Circle...</td>\n",
       "      <td>Vadodara</td>\n",
       "      <td>32</td>\n",
       "      <td>Vadiwadi</td>\n",
       "      <td>22.309935</td>\n",
       "      <td>73.158768</td>\n",
       "      <td>390007</td>\n",
       "      <td>Cafe, Healthy Food, Coffee</td>\n",
       "      <td>7am – 11pm (Mon-Sun)</td>\n",
       "      <td>600</td>\n",
       "      <td>2</td>\n",
       "      <td>Dinner, Cash, Takeaway Available, Debit Card, ...</td>\n",
       "      <td>4.0</td>\n",
       "      <td>Very Good</td>\n",
       "      <td>93</td>\n",
       "      <td>53</td>\n",
       "      <td>1</td>\n",
       "      <td>-1</td>\n",
       "    </tr>\n",
       "  </tbody>\n",
       "</table>\n",
       "<p>211846 rows × 22 columns</p>\n",
       "</div>"
      ],
      "text/plain": [
       "          res_id                            name  ... delivery takeaway\n",
       "1        3400005  Mama Chicken Mama Franky House  ...       -1       -1\n",
       "2        3401013                   Bhagat Halwai  ...        1       -1\n",
       "3        3400290                   Bhagat Halwai  ...        1       -1\n",
       "4        3401744     The Salt Cafe Kitchen & Bar  ...        1       -1\n",
       "5        3400275                   Dominos Pizza  ...       -1       -1\n",
       "...          ...                             ...  ...      ...      ...\n",
       "211939   3202251  Kali Mirch Cafe And Restaurant  ...       -1       -1\n",
       "211940   3200996                      Raju Omlet  ...        1       -1\n",
       "211941  18984164                The Grand Thakar  ...       -1       -1\n",
       "211942   3201138                          Subway  ...        1       -1\n",
       "211943  18879846      Freshcos - The Health Cafe  ...        1       -1\n",
       "\n",
       "[211846 rows x 22 columns]"
      ]
     },
     "execution_count": 11,
     "metadata": {
      "tags": []
     },
     "output_type": "execute_result"
    }
   ],
   "source": [
    "#let us do for city column \n",
    "\n",
    "data_city_dup=data[data['city'].duplicated()]\n",
    "data_city_dup"
   ]
  },
  {
   "cell_type": "markdown",
   "metadata": {
    "colab_type": "text",
    "id": "FYIEeda3CFBw"
   },
   "source": [
    "Inference-\n",
    " \n",
    "We can observe that since there are only 98 unique cities in the dataset, and there are 211944 values , there rest i.e (211944-98) are duplicated values"
   ]
  },
  {
   "cell_type": "markdown",
   "metadata": {
    "colab_type": "text",
    "id": "baI-EEWPCFBx"
   },
   "source": [
    "<a id = 'Understanding_variables'> </a>\n",
    "## 5. Understand the variables"
   ]
  },
  {
   "cell_type": "markdown",
   "metadata": {
    "colab_type": "text",
    "id": "sq261si6CFBy"
   },
   "source": [
    "**1. Variable 'name'**"
   ]
  },
  {
   "cell_type": "code",
   "execution_count": 12,
   "metadata": {
    "colab": {
     "base_uri": "https://localhost:8080/",
     "height": 255
    },
    "colab_type": "code",
    "id": "WL9DMusYCFBz",
    "outputId": "f48184b9-019c-47c8-974b-86452985612d"
   },
   "outputs": [
    {
     "data": {
      "text/plain": [
       "0                            Bikanervala\n",
       "1         Mama Chicken Mama Franky House\n",
       "2                          Bhagat Halwai\n",
       "3                          Bhagat Halwai\n",
       "4            The Salt Cafe Kitchen & Bar\n",
       "                       ...              \n",
       "211939    Kali Mirch Cafe And Restaurant\n",
       "211940                        Raju Omlet\n",
       "211941                  The Grand Thakar\n",
       "211942                            Subway\n",
       "211943        Freshcos - The Health Cafe\n",
       "Name: name, Length: 211944, dtype: category\n",
       "Categories (40965, object): [# Wednesday, #1, Culinary Avenue - The Red Maple, #788 Avenue, #BC,\n",
       "                             ..., ट 4 Tasty, द Vege टेबल, स्पेस Bar, ह-tea The Tea Hut]"
      ]
     },
     "execution_count": 12,
     "metadata": {
      "tags": []
     },
     "output_type": "execute_result"
    }
   ],
   "source": [
    "data.name"
   ]
  },
  {
   "cell_type": "markdown",
   "metadata": {
    "colab_type": "text",
    "id": "vQr_deHlCFB2"
   },
   "source": [
    "Inference- \n",
    "    \n",
    "    This column states the names of all the restaurants registered with zomato in india "
   ]
  },
  {
   "cell_type": "markdown",
   "metadata": {
    "colab_type": "text",
    "id": "Po7XeMPkCFB3"
   },
   "source": [
    "**2. Variable 'establishment'**"
   ]
  },
  {
   "cell_type": "code",
   "execution_count": 13,
   "metadata": {
    "colab": {
     "base_uri": "https://localhost:8080/",
     "height": 255
    },
    "colab_type": "code",
    "id": "U65znnqZCFB4",
    "outputId": "e65c6ad6-1cd9-42e1-dc4c-50c0a4238700"
   },
   "outputs": [
    {
     "data": {
      "text/plain": [
       "0           Quick Bites\n",
       "1           Quick Bites\n",
       "2           Quick Bites\n",
       "3           Quick Bites\n",
       "4         Casual Dining\n",
       "              ...      \n",
       "211939    Casual Dining\n",
       "211940      Quick Bites\n",
       "211941    Casual Dining\n",
       "211942      Quick Bites\n",
       "211943             Café\n",
       "Name: establishment, Length: 211944, dtype: category\n",
       "Categories (26, object): [Bakery, Bar, Beverage Shop, Bhojanalya, ..., Pub, Quick Bites, Shack,\n",
       "                          Sweet Shop]"
      ]
     },
     "execution_count": 13,
     "metadata": {
      "tags": []
     },
     "output_type": "execute_result"
    }
   ],
   "source": [
    "data.establishment"
   ]
  },
  {
   "cell_type": "markdown",
   "metadata": {
    "colab_type": "text",
    "id": "QHTKVfKQCFB7"
   },
   "source": [
    "Inference- \n",
    "    \n",
    "    This shows what type of restaurant is it namely quick biting, casual dining, cafe and so on"
   ]
  },
  {
   "cell_type": "markdown",
   "metadata": {
    "colab_type": "text",
    "id": "t-jnkQYZCFB8"
   },
   "source": [
    "**3. Variable 'city'**"
   ]
  },
  {
   "cell_type": "code",
   "execution_count": 14,
   "metadata": {
    "colab": {
     "base_uri": "https://localhost:8080/",
     "height": 255
    },
    "colab_type": "code",
    "id": "sbQiVMz2CFB9",
    "outputId": "a91ff873-b01a-4d22-dd2c-9ef6de8fcd65"
   },
   "outputs": [
    {
     "data": {
      "text/plain": [
       "0             Agra\n",
       "1             Agra\n",
       "2             Agra\n",
       "3             Agra\n",
       "4             Agra\n",
       "            ...   \n",
       "211939    Vadodara\n",
       "211940    Vadodara\n",
       "211941    Vadodara\n",
       "211942    Vadodara\n",
       "211943    Vadodara\n",
       "Name: city, Length: 211944, dtype: category\n",
       "Categories (98, object): [Agra, Ahmedabad, Ajmer, Alappuzha, ..., Vellore, Vijayawada, Vizag,\n",
       "                          Zirakpur]"
      ]
     },
     "execution_count": 14,
     "metadata": {
      "tags": []
     },
     "output_type": "execute_result"
    }
   ],
   "source": [
    "data.city"
   ]
  },
  {
   "cell_type": "markdown",
   "metadata": {
    "colab_type": "text",
    "id": "1yWuwx7qCFCA"
   },
   "source": [
    "Inference-\n",
    "        \n",
    "    Understanding the names of the cities in the dataset\n",
    "        "
   ]
  },
  {
   "cell_type": "markdown",
   "metadata": {
    "colab_type": "text",
    "id": "9viJKAiuCFCB"
   },
   "source": [
    "**Let us find the count of restaurants in each city**"
   ]
  },
  {
   "cell_type": "code",
   "execution_count": 15,
   "metadata": {
    "colab": {
     "base_uri": "https://localhost:8080/",
     "height": 221
    },
    "colab_type": "code",
    "id": "J5t2HgvmCFCC",
    "outputId": "1a3b10ec-e574-4e0d-95bc-25540b5acb91"
   },
   "outputs": [
    {
     "data": {
      "text/plain": [
       "Chennai          11630\n",
       "Mumbai            6497\n",
       "Bangalore         4971\n",
       "Pune              4217\n",
       "Lucknow           4121\n",
       "                 ...  \n",
       "Ghaziabad          132\n",
       "Faridabad          124\n",
       "Howrah              66\n",
       "Greater Noida       33\n",
       "Nayagaon            17\n",
       "Name: city, Length: 98, dtype: int64"
      ]
     },
     "execution_count": 15,
     "metadata": {
      "tags": []
     },
     "output_type": "execute_result"
    }
   ],
   "source": [
    "data.city.value_counts()\n"
   ]
  },
  {
   "cell_type": "markdown",
   "metadata": {
    "colab_type": "text",
    "id": "hvOMjPiACFCF"
   },
   "source": [
    "Inference-\n",
    "\n",
    "      Counting the no.of restaurants in a specific city in india with the help of value_counts() function of pandas"
   ]
  },
  {
   "cell_type": "markdown",
   "metadata": {
    "colab_type": "text",
    "id": "OfgT6nX2CFCG"
   },
   "source": [
    "**4. Variable 'locality'**"
   ]
  },
  {
   "cell_type": "code",
   "execution_count": 16,
   "metadata": {
    "colab": {
     "base_uri": "https://localhost:8080/",
     "height": 289
    },
    "colab_type": "code",
    "id": "fxM5c-1OCFCH",
    "outputId": "242477e4-ff13-4801-978a-f7ec2e6f238a"
   },
   "outputs": [
    {
     "data": {
      "text/plain": [
       "0            Khandari\n",
       "1          Agra Cantt\n",
       "2            Shahganj\n",
       "3         Civil Lines\n",
       "4             Tajganj\n",
       "             ...     \n",
       "211939      Fatehgunj\n",
       "211940     Karelibaug\n",
       "211941       Alkapuri\n",
       "211942          Akota\n",
       "211943       Vadiwadi\n",
       "Name: locality, Length: 211944, dtype: category\n",
       "Categories (3731, object): [32nd Avenue, NH8, Gurgaon, 800 Jubilee, Jubilee Hills,\n",
       "                            Hotel Somdeep Palace, Vijay Nagar, ILD Trade Centre Mall, Sohna Road, ...,\n",
       "                            Zone by The Park, Pallikaranai, Zone by the Park, Bani Park, Zoo Tiniali,\n",
       "                            lebua Lucknow]"
      ]
     },
     "execution_count": 16,
     "metadata": {
      "tags": []
     },
     "output_type": "execute_result"
    }
   ],
   "source": [
    "data.locality"
   ]
  },
  {
   "cell_type": "markdown",
   "metadata": {
    "colab_type": "text",
    "id": "v6lwhPg0CFCK"
   },
   "source": [
    "Inference-\n",
    "\n",
    "        Understanding the locality where the restaurant is situated"
   ]
  },
  {
   "cell_type": "markdown",
   "metadata": {
    "colab_type": "text",
    "id": "WOOdATYxCFCK"
   },
   "source": [
    "**4. Variable 'latitude'**\n",
    "\n",
    "From the variable 'latitude', we know the latitudinal location of the restaurant\n",
    "\n",
    "The Latitudinal extent of India 8º4‛N to 37º6‛ N. \n",
    "\n",
    "We must check whether we have any points beyond this extent."
   ]
  },
  {
   "cell_type": "markdown",
   "metadata": {
    "colab_type": "text",
    "id": "YijSrjwzCFCL"
   },
   "source": [
    "- We need to replace all these values with NaN's."
   ]
  },
  {
   "cell_type": "markdown",
   "metadata": {
    "colab_type": "text",
    "id": "J5fa44LwCFCM"
   },
   "source": [
    "- check if the values are replace by NaN's"
   ]
  },
  {
   "cell_type": "markdown",
   "metadata": {
    "colab_type": "text",
    "id": "OHHzMAcSCFCN"
   },
   "source": [
    "- We see all the values are replaced by NaN's"
   ]
  },
  {
   "cell_type": "code",
   "execution_count": 17,
   "metadata": {
    "colab": {
     "base_uri": "https://localhost:8080/",
     "height": 255
    },
    "colab_type": "code",
    "id": "5Ast038jCFCO",
    "outputId": "e0efa512-0ec0-490c-f429-af6dadece513"
   },
   "outputs": [
    {
     "data": {
      "text/plain": [
       "0         27.211450\n",
       "1         27.160569\n",
       "2         27.182938\n",
       "3         27.205668\n",
       "4         27.157709\n",
       "            ...    \n",
       "211939    22.336931\n",
       "211940    22.322455\n",
       "211941    22.310563\n",
       "211942    22.270027\n",
       "211943    22.309935\n",
       "Name: latitude, Length: 211944, dtype: category\n",
       "Categories (53356, float64): [0.000000, 0.058594, 1.027194, 6.713063, ..., 34.200778, 34.214702,\n",
       "                              75.791315, 10000.000000]"
      ]
     },
     "execution_count": 17,
     "metadata": {
      "tags": []
     },
     "output_type": "execute_result"
    }
   ],
   "source": [
    "data.latitude"
   ]
  },
  {
   "cell_type": "markdown",
   "metadata": {
    "colab_type": "text",
    "id": "s9Exq7h9CFCR"
   },
   "source": [
    "Inference-\n",
    "\n",
    "        reading the latitudes"
   ]
  },
  {
   "cell_type": "code",
   "execution_count": 18,
   "metadata": {
    "colab": {
     "base_uri": "https://localhost:8080/",
     "height": 34
    },
    "colab_type": "code",
    "id": "YY9HQqgJCFCS",
    "outputId": "517f0930-e42b-4dde-f09d-e473488ab0dc"
   },
   "outputs": [
    {
     "data": {
      "text/plain": [
       "0"
      ]
     },
     "execution_count": 18,
     "metadata": {
      "tags": []
     },
     "output_type": "execute_result"
    }
   ],
   "source": [
    "data.latitude.isna().sum()"
   ]
  },
  {
   "cell_type": "code",
   "execution_count": 0,
   "metadata": {
    "colab": {},
    "colab_type": "code",
    "id": "cdQR895LCFCV"
   },
   "outputs": [],
   "source": [
    "data.latitude=data.latitude.astype('Float64')\n",
    "data.loc[(data.latitude<8.4)| (data.latitude >37.6),['latitude']]=None"
   ]
  },
  {
   "cell_type": "markdown",
   "metadata": {
    "colab_type": "text",
    "id": "CrMc_ez0CFCZ"
   },
   "source": [
    "Inference-\n",
    "\n",
    "        This shows that if a latitude is not within the given paramaters we can say that it does not lie in the indian subcontinent and hence we can replace those values by null values since they are not benificial for us"
   ]
  },
  {
   "cell_type": "code",
   "execution_count": 20,
   "metadata": {
    "colab": {
     "base_uri": "https://localhost:8080/",
     "height": 34
    },
    "colab_type": "code",
    "id": "5WcLvOJ6CFCa",
    "outputId": "02232dac-2059-474f-d9ac-d6a54f86d5ef"
   },
   "outputs": [
    {
     "data": {
      "text/plain": [
       "1339"
      ]
     },
     "execution_count": 20,
     "metadata": {
      "tags": []
     },
     "output_type": "execute_result"
    }
   ],
   "source": [
    "data.latitude.isna().sum()"
   ]
  },
  {
   "cell_type": "markdown",
   "metadata": {
    "colab_type": "text",
    "id": "2HfvFZZ8CFCe"
   },
   "source": [
    "**5. Variable 'longitude'**\n",
    "\n",
    "From the variable 'longitude', we know the longitudinal location of the restaurant\n",
    "\n",
    "The Longitudinal extent of India is from 68°7'E to 97°25'E\n",
    "\n",
    "We must check whether we have any points beyond this extent."
   ]
  },
  {
   "cell_type": "markdown",
   "metadata": {
    "colab_type": "text",
    "id": "rr1DLEshCFCf"
   },
   "source": [
    "- We need to replace all these values with NaN's."
   ]
  },
  {
   "cell_type": "markdown",
   "metadata": {
    "colab_type": "text",
    "id": "wjVuVLzJCFCg"
   },
   "source": [
    "- Check if the values are replace by NaN's"
   ]
  },
  {
   "cell_type": "markdown",
   "metadata": {
    "colab_type": "text",
    "id": "8jovVs1CCFCh"
   },
   "source": [
    "- From variable 'latitude' and 'longitude', plot the location of restaurants."
   ]
  },
  {
   "cell_type": "code",
   "execution_count": 21,
   "metadata": {
    "colab": {
     "base_uri": "https://localhost:8080/",
     "height": 255
    },
    "colab_type": "code",
    "id": "Xv0_q7W2CFCi",
    "outputId": "21f74689-535f-4f35-a099-d6e1d8f25e24",
    "scrolled": true
   },
   "outputs": [
    {
     "data": {
      "text/plain": [
       "0         78.002381\n",
       "1         78.011583\n",
       "2         77.979684\n",
       "3         78.004799\n",
       "4         78.052421\n",
       "            ...    \n",
       "211939    73.192356\n",
       "211940    73.197203\n",
       "211941    73.171164\n",
       "211942    73.143068\n",
       "211943    73.158768\n",
       "Name: longitude, Length: 211944, dtype: category\n",
       "Categories (53318, float64): [0.000000, 44.045241, 69.014446, 69.175883, ..., 91.828076, 91.828133,\n",
       "                              91.829984, 91.832769]"
      ]
     },
     "execution_count": 21,
     "metadata": {
      "tags": []
     },
     "output_type": "execute_result"
    }
   ],
   "source": [
    "data.longitude"
   ]
  },
  {
   "cell_type": "markdown",
   "metadata": {
    "colab_type": "text",
    "id": "qMXDwhfwCFCr"
   },
   "source": [
    "Inference-\n",
    "\n",
    "        reading the longtitude"
   ]
  },
  {
   "cell_type": "code",
   "execution_count": 22,
   "metadata": {
    "colab": {
     "base_uri": "https://localhost:8080/",
     "height": 34
    },
    "colab_type": "code",
    "id": "TVYqdp1XCFCs",
    "outputId": "38ff92f6-7541-483e-fc9d-05b2d19b0a24"
   },
   "outputs": [
    {
     "data": {
      "text/plain": [
       "0"
      ]
     },
     "execution_count": 22,
     "metadata": {
      "tags": []
     },
     "output_type": "execute_result"
    }
   ],
   "source": [
    "data.longitude.isna().sum()"
   ]
  },
  {
   "cell_type": "code",
   "execution_count": 0,
   "metadata": {
    "colab": {},
    "colab_type": "code",
    "id": "H6Wgtl3XCFCv"
   },
   "outputs": [],
   "source": [
    "data.longitude=data.longitude.astype('Float64')\n",
    "data.loc[(data.longitude<68.7)| (data.longitude >97.25),['longitude']]=None"
   ]
  },
  {
   "cell_type": "markdown",
   "metadata": {
    "colab_type": "text",
    "id": "VEbgZZBGCFCy"
   },
   "source": [
    "Inference-\n",
    "\n",
    "        This shows that if a longitude is not within the given paramaters we can say that it does not lie in the indian subcontinent and hence we can replace those values by null values since they are not benificial for us"
   ]
  },
  {
   "cell_type": "code",
   "execution_count": 24,
   "metadata": {
    "colab": {
     "base_uri": "https://localhost:8080/",
     "height": 34
    },
    "colab_type": "code",
    "id": "v3U2UKNLCFCz",
    "outputId": "59bc8142-60cb-4104-a3f6-f0763de7a89d"
   },
   "outputs": [
    {
     "data": {
      "text/plain": [
       "1329"
      ]
     },
     "execution_count": 24,
     "metadata": {
      "tags": []
     },
     "output_type": "execute_result"
    }
   ],
   "source": [
    "data.longitude.isna().sum()"
   ]
  },
  {
   "cell_type": "code",
   "execution_count": 25,
   "metadata": {
    "colab": {
     "base_uri": "https://localhost:8080/",
     "height": 547
    },
    "colab_type": "code",
    "id": "HdpVleF-CFC2",
    "outputId": "1fb5e850-6f53-42d7-b2dc-facdce1825e9"
   },
   "outputs": [
    {
     "name": "stdout",
     "output_type": "stream",
     "text": [
      "Collecting git+git://github.com/geopandas/geopandas.git\n",
      "  Cloning git://github.com/geopandas/geopandas.git to /tmp/pip-req-build-l08a48qh\n",
      "  Running command git clone -q git://github.com/geopandas/geopandas.git /tmp/pip-req-build-l08a48qh\n",
      "Requirement already satisfied: pandas>=0.23.0 in /usr/local/lib/python3.6/dist-packages (from geopandas==0.7.0+9.ga646392) (0.25.3)\n",
      "Requirement already satisfied: shapely in /usr/local/lib/python3.6/dist-packages (from geopandas==0.7.0+9.ga646392) (1.7.0)\n",
      "Collecting fiona\n",
      "\u001b[?25l  Downloading https://files.pythonhosted.org/packages/ec/20/4e63bc5c6e62df889297b382c3ccd4a7a488b00946aaaf81a118158c6f09/Fiona-1.8.13.post1-cp36-cp36m-manylinux1_x86_64.whl (14.7MB)\n",
      "\u001b[K     |████████████████████████████████| 14.7MB 303kB/s \n",
      "\u001b[?25hCollecting pyproj>=2.2.0\n",
      "\u001b[?25l  Downloading https://files.pythonhosted.org/packages/77/15/d93f446d253d26b91553f86cf21049183e9b0f51f8c8e6cb2cff081bcc02/pyproj-2.5.0-cp36-cp36m-manylinux2010_x86_64.whl (10.4MB)\n",
      "\u001b[K     |████████████████████████████████| 10.4MB 42.6MB/s \n",
      "\u001b[?25hRequirement already satisfied: python-dateutil>=2.6.1 in /usr/local/lib/python3.6/dist-packages (from pandas>=0.23.0->geopandas==0.7.0+9.ga646392) (2.6.1)\n",
      "Requirement already satisfied: numpy>=1.13.3 in /usr/local/lib/python3.6/dist-packages (from pandas>=0.23.0->geopandas==0.7.0+9.ga646392) (1.17.5)\n",
      "Requirement already satisfied: pytz>=2017.2 in /usr/local/lib/python3.6/dist-packages (from pandas>=0.23.0->geopandas==0.7.0+9.ga646392) (2018.9)\n",
      "Requirement already satisfied: six>=1.7 in /usr/local/lib/python3.6/dist-packages (from fiona->geopandas==0.7.0+9.ga646392) (1.12.0)\n",
      "Collecting click-plugins>=1.0\n",
      "  Downloading https://files.pythonhosted.org/packages/e9/da/824b92d9942f4e472702488857914bdd50f73021efea15b4cad9aca8ecef/click_plugins-1.1.1-py2.py3-none-any.whl\n",
      "Collecting cligj>=0.5\n",
      "  Downloading https://files.pythonhosted.org/packages/e4/be/30a58b4b0733850280d01f8bd132591b4668ed5c7046761098d665ac2174/cligj-0.5.0-py3-none-any.whl\n",
      "Requirement already satisfied: click<8,>=4.0 in /usr/local/lib/python3.6/dist-packages (from fiona->geopandas==0.7.0+9.ga646392) (7.0)\n",
      "Requirement already satisfied: attrs>=17 in /usr/local/lib/python3.6/dist-packages (from fiona->geopandas==0.7.0+9.ga646392) (19.3.0)\n",
      "Collecting munch\n",
      "  Downloading https://files.pythonhosted.org/packages/cc/ab/85d8da5c9a45e072301beb37ad7f833cd344e04c817d97e0cc75681d248f/munch-2.5.0-py2.py3-none-any.whl\n",
      "Building wheels for collected packages: geopandas\n",
      "  Building wheel for geopandas (setup.py) ... \u001b[?25l\u001b[?25hdone\n",
      "  Created wheel for geopandas: filename=geopandas-0.7.0+9.ga646392-py2.py3-none-any.whl size=928703 sha256=5f7e63c42fa43ec11e00cd2924562630fe1c3513763a354ad0dbd30312e851b2\n",
      "  Stored in directory: /tmp/pip-ephem-wheel-cache-spary9ik/wheels/91/24/71/376c9c67192694168352afcccc2d264248f7e2cc6192997186\n",
      "Successfully built geopandas\n",
      "Installing collected packages: click-plugins, cligj, munch, fiona, pyproj, geopandas\n",
      "Successfully installed click-plugins-1.1.1 cligj-0.5.0 fiona-1.8.13.post1 geopandas-0.7.0+9.ga646392 munch-2.5.0 pyproj-2.5.0\n"
     ]
    }
   ],
   "source": [
    "!pip install git+git://github.com/geopandas/geopandas.git"
   ]
  },
  {
   "cell_type": "code",
   "execution_count": 26,
   "metadata": {
    "colab": {
     "base_uri": "https://localhost:8080/",
     "height": 282
    },
    "colab_type": "code",
    "id": "tgcF0TzqCFC7",
    "outputId": "1cb35aa8-34ae-4a76-c19c-fe87e214fecc"
   },
   "outputs": [
    {
     "data": {
      "text/plain": [
       "<matplotlib.axes._subplots.AxesSubplot at 0x7fd88e7579e8>"
      ]
     },
     "execution_count": 26,
     "metadata": {
      "tags": []
     },
     "output_type": "execute_result"
    },
    {
     "data": {
      "image/png": "[encoded data removed]",
      "text/plain": [
       "<Figure size 432x288 with 1 Axes>"
      ]
     },
     "metadata": {
      "tags": []
     },
     "output_type": "display_data"
    }
   ],
   "source": [
    "import matplotlib.pyplot as plt\n",
    "import geopandas\n",
    "\n",
    "gdf = geopandas.GeoDataFrame(\n",
    "    data, geometry=geopandas.points_from_xy(data.longitude, data.latitude))\n",
    "gdf\n",
    "\n",
    "world = geopandas.read_file(geopandas.datasets.get_path('naturalearth_lowres'))\n",
    "ax = world[world.name == 'India'].plot(\n",
    "    color='black', edgecolor='white')\n",
    "gdf.plot(ax=ax, color='yellow',figsize=(50,50))\n"
   ]
  },
  {
   "cell_type": "markdown",
   "metadata": {
    "colab_type": "text",
    "id": "q0FgzwOZCFDA"
   },
   "source": [
    "Inference- \n",
    "\n",
    "        *Plotting the various coordinates of the restaurants across India \n",
    "        *The yellow dots indicate the various locations where the restaurants are situated"
   ]
  },
  {
   "cell_type": "markdown",
   "metadata": {
    "colab_type": "text",
    "id": "t1cTUQDmCFDA"
   },
   "source": [
    "**6. Variable 'cuisines'**"
   ]
  },
  {
   "cell_type": "code",
   "execution_count": 27,
   "metadata": {
    "colab": {
     "base_uri": "https://localhost:8080/",
     "height": 289
    },
    "colab_type": "code",
    "id": "wERqzKBcCFDG",
    "outputId": "d8325129-3402-4324-f46e-110e1ce9f78c"
   },
   "outputs": [
    {
     "data": {
      "text/plain": [
       "0         North Indian, South Indian, Mithai, Street Foo...\n",
       "1         North Indian, Mughlai, Rolls, Chinese, Fast Fo...\n",
       "2                                         Fast Food, Mithai\n",
       "3                 Desserts, Bakery, Fast Food, South Indian\n",
       "4                        North Indian, Continental, Italian\n",
       "                                ...                        \n",
       "211939                                         North Indian\n",
       "211940                                            Fast Food\n",
       "211941                      Gujarati, North Indian, Chinese\n",
       "211942                           Fast Food, Sandwich, Salad\n",
       "211943                           Cafe, Healthy Food, Coffee\n",
       "Name: cuisines, Length: 211944, dtype: category\n",
       "Categories (9382, object): [Afghan, Afghan, American,\n",
       "                            Afghan, Arabian, BBQ, Beverages, Biryani, Maha..., Afghan, Arabian, BBQ, Beverages, Burger, ...,\n",
       "                            Wraps, Sandwich, Pizza, Bakery, Wraps, Sandwich, Rolls, Fast Food, Burger,\n",
       "                            Wraps, Sandwich, Rolls, Pizza, Burger, Wraps, Sandwich, Salad, Pizza, Burger, Beverages]"
      ]
     },
     "execution_count": 27,
     "metadata": {
      "tags": []
     },
     "output_type": "execute_result"
    }
   ],
   "source": [
    "data.cuisines"
   ]
  },
  {
   "cell_type": "markdown",
   "metadata": {
    "colab_type": "text",
    "id": "H2hVtcK1CFDJ"
   },
   "source": [
    "Inference- \n",
    "\n",
    "        *Cuisines are the various types of foods offered by the various restaurants"
   ]
  },
  {
   "cell_type": "markdown",
   "metadata": {
    "colab_type": "text",
    "id": "c4xx1cYcCFDJ"
   },
   "source": [
    "- To find the unique cusines we write a small user defined function.\n",
    "\n"
   ]
  },
  {
   "cell_type": "code",
   "execution_count": 0,
   "metadata": {
    "colab": {},
    "colab_type": "code",
    "id": "OqJJ5rU0CFDK"
   },
   "outputs": [],
   "source": [
    "def cuisines(x):\n",
    "    \n",
    "    \n",
    "    'takes input of data of various cuisines, returns unique cuisines present in the respective dataframe provided'\n",
    "    save_cuisines=(list(map(str,(x))))\n",
    "    result_cuisines=set()\n",
    "    for i in save_cuisines:\n",
    "        inter=(i.split(\", \"))\n",
    "        for j in inter:\n",
    "            result_cuisines.add(j)\n",
    "\n",
    "\n",
    "    return (result_cuisines)\n",
    "\n"
   ]
  },
  {
   "cell_type": "markdown",
   "metadata": {
    "colab_type": "text",
    "id": "ezKrd9vMCFDO"
   },
   "source": [
    "Inference- \n",
    "\n",
    "        Function for finding out unique cuisines"
   ]
  },
  {
   "cell_type": "markdown",
   "metadata": {
    "colab_type": "text",
    "id": "rxZkFbdCCFDO"
   },
   "source": [
    "- find out the frequency of each cuisine"
   ]
  },
  {
   "cell_type": "code",
   "execution_count": 29,
   "metadata": {
    "colab": {
     "base_uri": "https://localhost:8080/",
     "height": 54
    },
    "colab_type": "code",
    "id": "LhLPX6ZECFDP",
    "outputId": "c672fc2d-45a1-4081-93f5-41e8aa577c23"
   },
   "outputs": [
    {
     "name": "stdout",
     "output_type": "stream",
     "text": [
      "{'Falafel', 'Momos', 'Tea', 'Salad', 'Mangalorean', 'Mexican', 'BBQ', 'Malwani', 'Mithai', 'Konkan', 'Coffee', 'British', 'Charcoal Chicken', 'Healthy Food', 'Russian', 'Mishti', 'Egyptian', 'nan', 'Brazilian', 'Mughlai', 'South American', 'Panini', 'Andhra', 'Sushi', 'Gujarati', 'South Indian', 'Singaporean', 'Bangladeshi', 'Bar Food', 'Biryani', 'French', 'Goan', 'Hyderabadi', 'Moroccan', 'Juices', 'Pakistani', 'Roast Chicken', 'Modern Australian', 'Rajasthani', 'Cuisine Varies', 'Ice Cream', 'Indonesian', 'Peruvian', 'Indian', 'Kashmiri', 'North Indian', 'Cafe', 'Parsi', 'Odia', 'Italian', 'Desserts', 'Iranian', 'Mediterranean', 'Hot dogs', 'Pan Asian', 'Swedish', 'Paan', 'Seafood', 'Himachali', 'Bengali', 'Steak', 'Mandi', 'Burger', 'Lebanese', 'Greek', 'Fast Food', 'Beverages', 'Drinks Only', 'Modern Indian', 'Sindhi', 'Kerala', 'International', 'Spanish', 'Raw Meats', 'Street Food', 'Turkish', 'Continental', 'Afghan', 'Coffee and Tea', 'Garhwali', 'Burmese', 'Israeli', 'Lucknowi', 'Arabian', 'Bubble Tea', 'Grill', 'Tamil', 'Pizza', 'Assamese', 'Nepalese', 'North Eastern', 'Vietnamese', 'Rolls', 'Bihari', 'Sandwich', 'German', 'Bakery', 'Chinese', 'Armenian', 'Maharashtrian', 'Kebab', 'Vegan', 'Frozen Yogurt', 'Middle Eastern', 'Mongolian', 'Portuguese', 'Afghani', 'Cantonese', 'Thai', 'African', 'Naga', 'Fusion', 'Finger Food', 'Cafe Food', 'Awadhi', 'Sri Lankan', 'European', 'Crepes', 'Bohri', 'Chettinad', 'Malaysian', 'Tibetan', 'Japanese', 'American', 'Korean', 'Poké', 'Asian', 'Wraps', 'Tex-Mex', 'Irish', 'Oriental', 'Belgian', 'Fried Chicken', 'Cake'}\n"
     ]
    }
   ],
   "source": [
    "result_cuisines=cuisines(data.cuisines)\n",
    "\n",
    "print(result_cuisines)"
   ]
  },
  {
   "cell_type": "markdown",
   "metadata": {
    "colab_type": "text",
    "id": "egaDTZNQCFDS"
   },
   "source": [
    "Inference- \n",
    "\n",
    "        these are the various unique cuisines offered by the restaurants pan India "
   ]
  },
  {
   "cell_type": "code",
   "execution_count": 30,
   "metadata": {
    "colab": {
     "base_uri": "https://localhost:8080/",
     "height": 419
    },
    "colab_type": "code",
    "id": "H29Ew3HjCFDT",
    "outputId": "b059c657-06cb-452d-974c-4efb93f381b7"
   },
   "outputs": [
    {
     "data": {
      "text/html": [
       "<div>\n",
       "<style scoped>\n",
       "    .dataframe tbody tr th:only-of-type {\n",
       "        vertical-align: middle;\n",
       "    }\n",
       "\n",
       "    .dataframe tbody tr th {\n",
       "        vertical-align: top;\n",
       "    }\n",
       "\n",
       "    .dataframe thead th {\n",
       "        text-align: right;\n",
       "    }\n",
       "</style>\n",
       "<table border=\"1\" class=\"dataframe\">\n",
       "  <thead>\n",
       "    <tr style=\"text-align: right;\">\n",
       "      <th></th>\n",
       "      <th>Cuisines</th>\n",
       "      <th>frequency</th>\n",
       "    </tr>\n",
       "  </thead>\n",
       "  <tbody>\n",
       "    <tr>\n",
       "      <th>0</th>\n",
       "      <td>Falafel</td>\n",
       "      <td>7.0</td>\n",
       "    </tr>\n",
       "    <tr>\n",
       "      <th>1</th>\n",
       "      <td>Momos</td>\n",
       "      <td>4189.0</td>\n",
       "    </tr>\n",
       "    <tr>\n",
       "      <th>2</th>\n",
       "      <td>Tea</td>\n",
       "      <td>1220.0</td>\n",
       "    </tr>\n",
       "    <tr>\n",
       "      <th>3</th>\n",
       "      <td>Salad</td>\n",
       "      <td>3298.0</td>\n",
       "    </tr>\n",
       "    <tr>\n",
       "      <th>4</th>\n",
       "      <td>Mangalorean</td>\n",
       "      <td>396.0</td>\n",
       "    </tr>\n",
       "    <tr>\n",
       "      <th>...</th>\n",
       "      <td>...</td>\n",
       "      <td>...</td>\n",
       "    </tr>\n",
       "    <tr>\n",
       "      <th>129</th>\n",
       "      <td>Irish</td>\n",
       "      <td>12.0</td>\n",
       "    </tr>\n",
       "    <tr>\n",
       "      <th>130</th>\n",
       "      <td>Oriental</td>\n",
       "      <td>14.0</td>\n",
       "    </tr>\n",
       "    <tr>\n",
       "      <th>131</th>\n",
       "      <td>Belgian</td>\n",
       "      <td>43.0</td>\n",
       "    </tr>\n",
       "    <tr>\n",
       "      <th>132</th>\n",
       "      <td>Fried Chicken</td>\n",
       "      <td>31.0</td>\n",
       "    </tr>\n",
       "    <tr>\n",
       "      <th>133</th>\n",
       "      <td>Cake</td>\n",
       "      <td>3.0</td>\n",
       "    </tr>\n",
       "  </tbody>\n",
       "</table>\n",
       "<p>134 rows × 2 columns</p>\n",
       "</div>"
      ],
      "text/plain": [
       "          Cuisines  frequency\n",
       "0          Falafel        7.0\n",
       "1            Momos     4189.0\n",
       "2              Tea     1220.0\n",
       "3            Salad     3298.0\n",
       "4      Mangalorean      396.0\n",
       "..             ...        ...\n",
       "129          Irish       12.0\n",
       "130       Oriental       14.0\n",
       "131        Belgian       43.0\n",
       "132  Fried Chicken       31.0\n",
       "133           Cake        3.0\n",
       "\n",
       "[134 rows x 2 columns]"
      ]
     },
     "execution_count": 30,
     "metadata": {
      "tags": []
     },
     "output_type": "execute_result"
    }
   ],
   "source": [
    "store_cuisine_inter=[]\n",
    "\n",
    "df_cuisine=pd.DataFrame(result_cuisines,columns=['Cuisines'])\n",
    "for i in result_cuisines:\n",
    "    store_cuisine_inter.append(data['cuisines'].str.count(i).sum())\n",
    "\n",
    "\n",
    "df_cuisine['frequency']=store_cuisine_inter\n",
    "df_cuisine"
   ]
  },
  {
   "cell_type": "markdown",
   "metadata": {
    "colab_type": "text",
    "id": "PmbH8tIQCFDZ"
   },
   "source": [
    "Inference- \n",
    "\n",
    "        *finding the top cuisines over india \n",
    "        *showing the top cuisines based on the no.of restaurants that offer them (i.e their frequency)"
   ]
  },
  {
   "cell_type": "markdown",
   "metadata": {
    "colab_type": "text",
    "id": "Hu8kBNYNCFDa"
   },
   "source": [
    "**8. Variable 'average_cost_for_two'**"
   ]
  },
  {
   "cell_type": "code",
   "execution_count": 31,
   "metadata": {
    "colab": {
     "base_uri": "https://localhost:8080/",
     "height": 221
    },
    "colab_type": "code",
    "id": "gCSimqbtCFDb",
    "outputId": "aab1da04-4c98-44fd-f65c-b693c96f0b42"
   },
   "outputs": [
    {
     "data": {
      "text/plain": [
       "0          700\n",
       "1          600\n",
       "2          300\n",
       "3          300\n",
       "4         1000\n",
       "          ... \n",
       "211939     600\n",
       "211940     300\n",
       "211941     700\n",
       "211942     500\n",
       "211943     600\n",
       "Name: average_cost_for_two, Length: 211944, dtype: int64"
      ]
     },
     "execution_count": 31,
     "metadata": {
      "tags": []
     },
     "output_type": "execute_result"
    }
   ],
   "source": [
    "data.average_cost_for_two"
   ]
  },
  {
   "cell_type": "markdown",
   "metadata": {
    "colab_type": "text",
    "id": "vigJKhgUCFDg"
   },
   "source": [
    "Inference- \n",
    "\n",
    "        Getting the idea how much would it cost for two people to have food at that restaurant"
   ]
  },
  {
   "cell_type": "markdown",
   "metadata": {
    "colab_type": "text",
    "id": "Fwxlc7DQCFDh"
   },
   "source": [
    "**9. Variable 'price_range'**"
   ]
  },
  {
   "cell_type": "code",
   "execution_count": 32,
   "metadata": {
    "colab": {
     "base_uri": "https://localhost:8080/",
     "height": 238
    },
    "colab_type": "code",
    "id": "AJlh5WVHCFDi",
    "outputId": "1ed2c287-1bcf-4124-ace6-9904e023cffe"
   },
   "outputs": [
    {
     "data": {
      "text/plain": [
       "0         2\n",
       "1         2\n",
       "2         1\n",
       "3         1\n",
       "4         3\n",
       "         ..\n",
       "211939    2\n",
       "211940    1\n",
       "211941    2\n",
       "211942    2\n",
       "211943    2\n",
       "Name: price_range, Length: 211944, dtype: category\n",
       "Categories (4, int64): [1, 2, 3, 4]"
      ]
     },
     "execution_count": 32,
     "metadata": {
      "tags": []
     },
     "output_type": "execute_result"
    }
   ],
   "source": [
    "data.price_range"
   ]
  },
  {
   "cell_type": "markdown",
   "metadata": {
    "colab_type": "text",
    "id": "NWJ7g-qjCFDl"
   },
   "source": [
    "Inference- \n",
    "\n",
    "        understanding the price range and trying to make an better understanding of how costly is the restaurant"
   ]
  },
  {
   "cell_type": "markdown",
   "metadata": {
    "colab_type": "text",
    "id": "gNVcYoCMCFDm"
   },
   "source": [
    "- visualize a exploded pie chart."
   ]
  },
  {
   "cell_type": "code",
   "execution_count": 33,
   "metadata": {
    "colab": {
     "base_uri": "https://localhost:8080/",
     "height": 265
    },
    "colab_type": "code",
    "id": "WywOLJeOCFDm",
    "outputId": "e3de2114-fd4e-4aa5-cb4c-d2e21b206568"
   },
   "outputs": [
    {
     "data": {
      "text/plain": [
       "<matplotlib.axes._subplots.AxesSubplot at 0x7fd88beaf748>"
      ]
     },
     "execution_count": 33,
     "metadata": {
      "tags": []
     },
     "output_type": "execute_result"
    },
    {
     "data": {
      "image/png": "[encoded data removed]",
      "text/plain": [
       "<Figure size 432x288 with 1 Axes>"
      ]
     },
     "metadata": {
      "tags": []
     },
     "output_type": "display_data"
    }
   ],
   "source": [
    "data.price_range.value_counts().plot.pie()"
   ]
  },
  {
   "cell_type": "markdown",
   "metadata": {
    "colab_type": "text",
    "id": "nXFDdh_XCFDp"
   },
   "source": [
    "Inference- \n",
    "\n",
    "        understanding the price range of the restaurants and analysing the no.of restaurants in a particular price range"
   ]
  },
  {
   "cell_type": "markdown",
   "metadata": {
    "colab_type": "text",
    "id": "ZpvO-6rHCFDr"
   },
   "source": [
    "**10. Variable 'highlights'**"
   ]
  },
  {
   "cell_type": "code",
   "execution_count": 34,
   "metadata": {
    "colab": {
     "base_uri": "https://localhost:8080/",
     "height": 289
    },
    "colab_type": "code",
    "id": "vK4CZxFiCFDs",
    "outputId": "96857a81-83fc-432a-ee41-ff02cca3aba1"
   },
   "outputs": [
    {
     "data": {
      "text/plain": [
       "0         Lunch, Takeaway Available, Credit Card, Dinner...\n",
       "1         Delivery, No Alcohol Available, Dinner, Takeaw...\n",
       "2         No Alcohol Available, Dinner, Takeaway Availab...\n",
       "3         Takeaway Available, Credit Card, Lunch, Delive...\n",
       "4         Lunch, Serves Alcohol, Cash, Credit Card, Dinn...\n",
       "                                ...                        \n",
       "211939    Dinner, Cash, Lunch, Delivery, Indoor Seating,...\n",
       "211940    Dinner, Cash, Takeaway Available, Debit Card, ...\n",
       "211941    Dinner, Cash, Debit Card, Lunch, Takeaway Avai...\n",
       "211942    Dinner, Delivery, Credit Card, Lunch, Cash, Ta...\n",
       "211943    Dinner, Cash, Takeaway Available, Debit Card, ...\n",
       "Name: highlights, Length: 211944, dtype: category\n",
       "Categories (31454, object): [Air Conditioned, Air Conditioned, Desserts and Bakes, Indoor Se...,\n",
       "                             Air Conditioned, Desserts and Bakes, Pure Veg, Air Conditioned, Pure Veg, Desserts and Bakes, ...,\n",
       "                             Takeaway Available, Standing Tables, Cash, Dig..., Takeaway Available, Standing Tables, Cash, Dinner,\n",
       "                             Takeaway Available, Standing Tables, Credit Ca..., Wifi, Desserts and Bakes, Outdoor Seating]"
      ]
     },
     "execution_count": 34,
     "metadata": {
      "tags": []
     },
     "output_type": "execute_result"
    }
   ],
   "source": [
    "data.highlights"
   ]
  },
  {
   "cell_type": "markdown",
   "metadata": {
    "colab_type": "text",
    "id": "oevSutDfCFDv"
   },
   "source": [
    "Inference- \n",
    "\n",
    "        Understanding the various important aspects of the restaurant"
   ]
  },
  {
   "cell_type": "markdown",
   "metadata": {
    "colab_type": "text",
    "id": "b_TI5uRSCFDw"
   },
   "source": [
    "\n",
    "\n",
    "- write a small function to know the number of times a facility has appeared in the 'Highlights'."
   ]
  },
  {
   "cell_type": "code",
   "execution_count": 0,
   "metadata": {
    "colab": {},
    "colab_type": "code",
    "id": "Fkcqh6mjCFDw"
   },
   "outputs": [],
   "source": [
    "def highlights(x):\n",
    "    \n",
    "    'takes input of data of various highlights, returns unique cuisines present in the respective dataframe provided'\n",
    "    save_highlights=(list(map(str,(x))))\n",
    "    result_highlights=set()\n",
    "    for i in save_highlights:\n",
    "        inter=(i.split(\", \"))\n",
    "        for j in inter:\n",
    "            result_highlights.add(j)\n",
    "\n",
    "\n",
    "    return (result_highlights)"
   ]
  },
  {
   "cell_type": "markdown",
   "metadata": {
    "colab_type": "text",
    "id": "KrFJsFtQCFDz"
   },
   "source": [
    "Inference- \n",
    "\n",
    "        Function for getting the unique cuisines all over India"
   ]
  },
  {
   "cell_type": "code",
   "execution_count": 36,
   "metadata": {
    "colab": {
     "base_uri": "https://localhost:8080/",
     "height": 419
    },
    "colab_type": "code",
    "id": "9vjuqVAECFDz",
    "outputId": "e504e977-af49-4235-d6e8-f4c287857fb8"
   },
   "outputs": [
    {
     "data": {
      "text/html": [
       "<div>\n",
       "<style scoped>\n",
       "    .dataframe tbody tr th:only-of-type {\n",
       "        vertical-align: middle;\n",
       "    }\n",
       "\n",
       "    .dataframe tbody tr th {\n",
       "        vertical-align: top;\n",
       "    }\n",
       "\n",
       "    .dataframe thead th {\n",
       "        text-align: right;\n",
       "    }\n",
       "</style>\n",
       "<table border=\"1\" class=\"dataframe\">\n",
       "  <thead>\n",
       "    <tr style=\"text-align: right;\">\n",
       "      <th></th>\n",
       "      <th>Facility</th>\n",
       "    </tr>\n",
       "  </thead>\n",
       "  <tbody>\n",
       "    <tr>\n",
       "      <th>0</th>\n",
       "      <td>Table Reservation Not Required</td>\n",
       "    </tr>\n",
       "    <tr>\n",
       "      <th>1</th>\n",
       "      <td>Gluten Free Options</td>\n",
       "    </tr>\n",
       "    <tr>\n",
       "      <th>2</th>\n",
       "      <td>Craft Beer</td>\n",
       "    </tr>\n",
       "    <tr>\n",
       "      <th>3</th>\n",
       "      <td>Delivery</td>\n",
       "    </tr>\n",
       "    <tr>\n",
       "      <th>4</th>\n",
       "      <td>Table booking recommended</td>\n",
       "    </tr>\n",
       "    <tr>\n",
       "      <th>...</th>\n",
       "      <td>...</td>\n",
       "    </tr>\n",
       "    <tr>\n",
       "      <th>99</th>\n",
       "      <td>Card Upon Delivery</td>\n",
       "    </tr>\n",
       "    <tr>\n",
       "      <th>100</th>\n",
       "      <td>4/5 Star</td>\n",
       "    </tr>\n",
       "    <tr>\n",
       "      <th>101</th>\n",
       "      <td>Gin Bar</td>\n",
       "    </tr>\n",
       "    <tr>\n",
       "      <th>102</th>\n",
       "      <td>Wine</td>\n",
       "    </tr>\n",
       "    <tr>\n",
       "      <th>103</th>\n",
       "      <td>Gastro Pub</td>\n",
       "    </tr>\n",
       "  </tbody>\n",
       "</table>\n",
       "<p>104 rows × 1 columns</p>\n",
       "</div>"
      ],
      "text/plain": [
       "                           Facility\n",
       "0    Table Reservation Not Required\n",
       "1               Gluten Free Options\n",
       "2                        Craft Beer\n",
       "3                          Delivery\n",
       "4         Table booking recommended\n",
       "..                              ...\n",
       "99               Card Upon Delivery\n",
       "100                        4/5 Star\n",
       "101                         Gin Bar\n",
       "102                            Wine\n",
       "103                      Gastro Pub\n",
       "\n",
       "[104 rows x 1 columns]"
      ]
     },
     "execution_count": 36,
     "metadata": {
      "tags": []
     },
     "output_type": "execute_result"
    }
   ],
   "source": [
    "ans_highlights=highlights(data.highlights)\n",
    "store_inter=[]\n",
    "\n",
    "df_highlights=pd.DataFrame(ans_highlights,columns=['Facility'])\n",
    "for i in ans_highlights:\n",
    "    store_inter.append(data['highlights'].str.count(i).sum())\n",
    "\n",
    "\n",
    "df_highlights"
   ]
  },
  {
   "cell_type": "code",
   "execution_count": 37,
   "metadata": {
    "colab": {
     "base_uri": "https://localhost:8080/",
     "height": 419
    },
    "colab_type": "code",
    "id": "TdAVIG1QCFD2",
    "outputId": "24e64988-7d3d-46df-f37a-8d2391a19a61"
   },
   "outputs": [
    {
     "data": {
      "text/html": [
       "<div>\n",
       "<style scoped>\n",
       "    .dataframe tbody tr th:only-of-type {\n",
       "        vertical-align: middle;\n",
       "    }\n",
       "\n",
       "    .dataframe tbody tr th {\n",
       "        vertical-align: top;\n",
       "    }\n",
       "\n",
       "    .dataframe thead th {\n",
       "        text-align: right;\n",
       "    }\n",
       "</style>\n",
       "<table border=\"1\" class=\"dataframe\">\n",
       "  <thead>\n",
       "    <tr style=\"text-align: right;\">\n",
       "      <th></th>\n",
       "      <th>Facility</th>\n",
       "      <th>frequency</th>\n",
       "    </tr>\n",
       "  </thead>\n",
       "  <tbody>\n",
       "    <tr>\n",
       "      <th>0</th>\n",
       "      <td>Table Reservation Not Required</td>\n",
       "      <td>15763.0</td>\n",
       "    </tr>\n",
       "    <tr>\n",
       "      <th>1</th>\n",
       "      <td>Gluten Free Options</td>\n",
       "      <td>735.0</td>\n",
       "    </tr>\n",
       "    <tr>\n",
       "      <th>2</th>\n",
       "      <td>Craft Beer</td>\n",
       "      <td>945.0</td>\n",
       "    </tr>\n",
       "    <tr>\n",
       "      <th>3</th>\n",
       "      <td>Delivery</td>\n",
       "      <td>97589.0</td>\n",
       "    </tr>\n",
       "    <tr>\n",
       "      <th>4</th>\n",
       "      <td>Table booking recommended</td>\n",
       "      <td>31071.0</td>\n",
       "    </tr>\n",
       "    <tr>\n",
       "      <th>...</th>\n",
       "      <td>...</td>\n",
       "      <td>...</td>\n",
       "    </tr>\n",
       "    <tr>\n",
       "      <th>99</th>\n",
       "      <td>Card Upon Delivery</td>\n",
       "      <td>343.0</td>\n",
       "    </tr>\n",
       "    <tr>\n",
       "      <th>100</th>\n",
       "      <td>4/5 Star</td>\n",
       "      <td>4635.0</td>\n",
       "    </tr>\n",
       "    <tr>\n",
       "      <th>101</th>\n",
       "      <td>Gin Bar</td>\n",
       "      <td>127.0</td>\n",
       "    </tr>\n",
       "    <tr>\n",
       "      <th>102</th>\n",
       "      <td>Wine</td>\n",
       "      <td>4100.0</td>\n",
       "    </tr>\n",
       "    <tr>\n",
       "      <th>103</th>\n",
       "      <td>Gastro Pub</td>\n",
       "      <td>469.0</td>\n",
       "    </tr>\n",
       "  </tbody>\n",
       "</table>\n",
       "<p>104 rows × 2 columns</p>\n",
       "</div>"
      ],
      "text/plain": [
       "                           Facility  frequency\n",
       "0    Table Reservation Not Required    15763.0\n",
       "1               Gluten Free Options      735.0\n",
       "2                        Craft Beer      945.0\n",
       "3                          Delivery    97589.0\n",
       "4         Table booking recommended    31071.0\n",
       "..                              ...        ...\n",
       "99               Card Upon Delivery      343.0\n",
       "100                        4/5 Star     4635.0\n",
       "101                         Gin Bar      127.0\n",
       "102                            Wine     4100.0\n",
       "103                      Gastro Pub      469.0\n",
       "\n",
       "[104 rows x 2 columns]"
      ]
     },
     "execution_count": 37,
     "metadata": {
      "tags": []
     },
     "output_type": "execute_result"
    }
   ],
   "source": [
    "# print(store_inter)\n",
    "df_highlights['frequency']=store_inter\n",
    "df_highlights"
   ]
  },
  {
   "cell_type": "markdown",
   "metadata": {
    "colab_type": "text",
    "id": "y3ALL997CFD5"
   },
   "source": [
    "Inference- \n",
    "\n",
    "        Finding the frequency of the various facilities offered by the restaurants over India"
   ]
  },
  {
   "cell_type": "markdown",
   "metadata": {
    "colab_type": "text",
    "id": "LMwKMVp7CFD5"
   },
   "source": [
    "- Now we find out which facility occurs most number of in the data."
   ]
  },
  {
   "cell_type": "code",
   "execution_count": 38,
   "metadata": {
    "colab": {
     "base_uri": "https://localhost:8080/",
     "height": 51
    },
    "colab_type": "code",
    "id": "-67zWWq8CFD6",
    "outputId": "ee798e1f-b3c0-46b8-cc65-46966dcb83ca"
   },
   "outputs": [
    {
     "data": {
      "text/plain": [
       "57    Cash\n",
       "Name: Facility, dtype: object"
      ]
     },
     "execution_count": 38,
     "metadata": {
      "tags": []
     },
     "output_type": "execute_result"
    }
   ],
   "source": [
    "save_df=df_highlights.sort_values(by=['frequency'],ascending=False).head(1)\n",
    "save_df['Facility'].head(1)"
   ]
  },
  {
   "cell_type": "markdown",
   "metadata": {
    "colab_type": "text",
    "id": "COJkY6uGCFD9"
   },
   "source": [
    "Inference- \n",
    "\n",
    "        we understand that cash is the most frequent facility offered by the restaurants"
   ]
  },
  {
   "cell_type": "markdown",
   "metadata": {
    "colab_type": "text",
    "id": "2Ti6O52UCFD-"
   },
   "source": [
    "**11. Variable 'aggregate_rating'** \n",
    "\n"
   ]
  },
  {
   "cell_type": "code",
   "execution_count": 39,
   "metadata": {
    "colab": {
     "base_uri": "https://localhost:8080/",
     "height": 221
    },
    "colab_type": "code",
    "id": "KJVInXbRCFD-",
    "outputId": "e418d1ea-ba23-4406-b051-95fdbf0ff033"
   },
   "outputs": [
    {
     "data": {
      "text/plain": [
       "0         4.4\n",
       "1         4.4\n",
       "2         4.2\n",
       "3         4.3\n",
       "4         4.9\n",
       "         ... \n",
       "211939    4.1\n",
       "211940    4.1\n",
       "211941    4.0\n",
       "211942    3.7\n",
       "211943    4.0\n",
       "Name: aggregate_rating, Length: 211944, dtype: float64"
      ]
     },
     "execution_count": 39,
     "metadata": {
      "tags": []
     },
     "output_type": "execute_result"
    }
   ],
   "source": [
    "data.aggregate_rating"
   ]
  },
  {
   "cell_type": "markdown",
   "metadata": {
    "colab_type": "text",
    "id": "DaIr5T7GCFEE"
   },
   "source": [
    "Inference- \n",
    "\n",
    "        Understanding the rating of the restaurants on a scale of 1-5 "
   ]
  },
  {
   "cell_type": "markdown",
   "metadata": {
    "colab_type": "text",
    "id": "G03RnXZPCFEE"
   },
   "source": [
    "**12. Variable 'rating_text'**\n",
    "\n"
   ]
  },
  {
   "cell_type": "code",
   "execution_count": 40,
   "metadata": {
    "colab": {
     "base_uri": "https://localhost:8080/",
     "height": 238
    },
    "colab_type": "code",
    "id": "m4rvv6PmCFEF",
    "outputId": "34a8d186-f937-4707-dee1-b8a5f5a6f761"
   },
   "outputs": [
    {
     "data": {
      "text/plain": [
       "0         Very Good\n",
       "1         Very Good\n",
       "2         Very Good\n",
       "3         Very Good\n",
       "4         Excellent\n",
       "            ...    \n",
       "211939    Very Good\n",
       "211940    Very Good\n",
       "211941    Very Good\n",
       "211942         Good\n",
       "211943    Very Good\n",
       "Name: rating_text, Length: 211944, dtype: category\n",
       "Categories (39, object): [Average, Baik, Bardzo dobrze, Biasa, ..., Wybitnie, Çok iyi, İyi, Średnio]"
      ]
     },
     "execution_count": 40,
     "metadata": {
      "tags": []
     },
     "output_type": "execute_result"
    }
   ],
   "source": [
    "data.rating_text"
   ]
  },
  {
   "cell_type": "markdown",
   "metadata": {
    "colab_type": "text",
    "id": "YgBSPtuvCFEH"
   },
   "source": [
    "Inference- \n",
    "\n",
    "        understanding the rating of the restaurant in descriptive format"
   ]
  },
  {
   "cell_type": "markdown",
   "metadata": {
    "colab_type": "text",
    "id": "DJ87zKu2CFEJ"
   },
   "source": [
    "Creating a New feature for better understanding of ratings\n"
   ]
  },
  {
   "cell_type": "code",
   "execution_count": 41,
   "metadata": {
    "colab": {
     "base_uri": "https://localhost:8080/",
     "height": 34
    },
    "colab_type": "code",
    "id": "z62YJegnCFEL",
    "outputId": "e15c4532-9fd2-4eb6-e083-586d8b0d897e"
   },
   "outputs": [
    {
     "data": {
      "text/plain": [
       "array(['excellent', 'very good', 'poor', 'good', 'average'], dtype=object)"
      ]
     },
     "execution_count": 41,
     "metadata": {
      "tags": []
     },
     "output_type": "execute_result"
    }
   ],
   "source": [
    "data.rating_text.unique()\n",
    "\n",
    "data.loc[((data.aggregate_rating>=0) & (data.aggregate_rating<=1)),'rating_text_new']='poor'\n",
    "data.loc[((data.aggregate_rating>=1) & (data.aggregate_rating<=2)),'rating_text_new']='average'\n",
    "data.loc[((data.aggregate_rating>=2) & (data.aggregate_rating<=3)),'rating_text_new']='good'\n",
    "data.loc[((data.aggregate_rating>=3) & (data.aggregate_rating<=4)),'rating_text_new']='very good'\n",
    "data.loc[((data.aggregate_rating>=4) & (data.aggregate_rating<=5)),'rating_text_new']='excellent'\n",
    "data['rating_text_new'].unique()"
   ]
  },
  {
   "cell_type": "markdown",
   "metadata": {
    "colab_type": "text",
    "id": "vqPmydt5CFEO"
   },
   "source": [
    "Inference- \n",
    "        \n",
    "        Creating a new column with range defined from 0 to 5 in five parts and assining each range an ordinal value"
   ]
  },
  {
   "cell_type": "markdown",
   "metadata": {
    "colab_type": "text",
    "id": "durHixh7CFEO"
   },
   "source": [
    "**13. Variable 'votes'**"
   ]
  },
  {
   "cell_type": "code",
   "execution_count": 42,
   "metadata": {
    "colab": {
     "base_uri": "https://localhost:8080/",
     "height": 221
    },
    "colab_type": "code",
    "id": "JKaSnvZECFEP",
    "outputId": "13e4288b-7359-4205-9e8d-1231f29f2c35"
   },
   "outputs": [
    {
     "data": {
      "text/plain": [
       "0          814\n",
       "1         1203\n",
       "2          801\n",
       "3          693\n",
       "4          470\n",
       "          ... \n",
       "211939     243\n",
       "211940     187\n",
       "211941     111\n",
       "211942     128\n",
       "211943      93\n",
       "Name: votes, Length: 211944, dtype: int64"
      ]
     },
     "execution_count": 42,
     "metadata": {
      "tags": []
     },
     "output_type": "execute_result"
    }
   ],
   "source": [
    "data.votes"
   ]
  },
  {
   "cell_type": "markdown",
   "metadata": {
    "colab_type": "text",
    "id": "BJc-SxwWCFES"
   },
   "source": [
    "Inference- \n",
    "    \n",
    "    This shows the votes that are given to the restaurants by the customers visiting it"
   ]
  },
  {
   "cell_type": "markdown",
   "metadata": {
    "colab_type": "text",
    "id": "FTvjfc5sCFEZ"
   },
   "source": [
    "**14. Variable 'photo_count'**"
   ]
  },
  {
   "cell_type": "code",
   "execution_count": 43,
   "metadata": {
    "colab": {
     "base_uri": "https://localhost:8080/",
     "height": 221
    },
    "colab_type": "code",
    "id": "dE5Kj6T1CFEa",
    "outputId": "509d0170-d11c-4d8e-a9ef-3d3d8db94c6b"
   },
   "outputs": [
    {
     "data": {
      "text/plain": [
       "0         154\n",
       "1         161\n",
       "2         107\n",
       "3         157\n",
       "4         291\n",
       "         ... \n",
       "211939     40\n",
       "211940     40\n",
       "211941     38\n",
       "211942     34\n",
       "211943     53\n",
       "Name: photo_count, Length: 211944, dtype: int64"
      ]
     },
     "execution_count": 43,
     "metadata": {
      "tags": []
     },
     "output_type": "execute_result"
    }
   ],
   "source": [
    "data.photo_count"
   ]
  },
  {
   "cell_type": "markdown",
   "metadata": {
    "colab_type": "text",
    "id": "n8rn19rDCFEi"
   },
   "source": [
    "Inference- \n",
    "    \n",
    "    This shows what are the no.of photos that uploaded by the customers visting the restaurant"
   ]
  },
  {
   "cell_type": "markdown",
   "metadata": {
    "colab_type": "text",
    "id": "Hrg-2JTDCFEj"
   },
   "source": [
    "**15. Variable 'delivery'**"
   ]
  },
  {
   "cell_type": "code",
   "execution_count": 44,
   "metadata": {
    "colab": {
     "base_uri": "https://localhost:8080/",
     "height": 238
    },
    "colab_type": "code",
    "id": "_r2XQSQRCFEk",
    "outputId": "f33bdc55-50f7-493f-ec1e-7e1319596374"
   },
   "outputs": [
    {
     "data": {
      "text/plain": [
       "0        -1\n",
       "1        -1\n",
       "2         1\n",
       "3         1\n",
       "4         1\n",
       "         ..\n",
       "211939   -1\n",
       "211940    1\n",
       "211941   -1\n",
       "211942    1\n",
       "211943    1\n",
       "Name: delivery, Length: 211944, dtype: category\n",
       "Categories (3, int64): [-1, 0, 1]"
      ]
     },
     "execution_count": 44,
     "metadata": {
      "tags": []
     },
     "output_type": "execute_result"
    }
   ],
   "source": [
    "data.delivery"
   ]
  },
  {
   "cell_type": "markdown",
   "metadata": {
    "colab_type": "text",
    "id": "AnVt6J3KCFEl"
   },
   "source": [
    "Inference- \n",
    "    \n",
    "    This shows what type of restaurant is it namely does it delivery (1) or it does not deliver (-1)"
   ]
  },
  {
   "cell_type": "markdown",
   "metadata": {
    "colab_type": "text",
    "id": "TOcRVejDCFEm"
   },
   "source": [
    "<a id ='missing'></a>\n",
    "## 6. Check for missing values"
   ]
  },
  {
   "cell_type": "code",
   "execution_count": 45,
   "metadata": {
    "colab": {
     "base_uri": "https://localhost:8080/",
     "height": 442
    },
    "colab_type": "code",
    "id": "qgwOIQhyCFEm",
    "outputId": "1fb19a37-fbb9-46fb-9f75-7d1fbff26c8f"
   },
   "outputs": [
    {
     "data": {
      "text/plain": [
       "res_id                       0\n",
       "name                         0\n",
       "establishment             4827\n",
       "url                          0\n",
       "address                    134\n",
       "city                         0\n",
       "city_id                      0\n",
       "locality                     0\n",
       "latitude                  1339\n",
       "longitude                 1329\n",
       "zipcode                 163187\n",
       "cuisines                  1391\n",
       "timings                   3874\n",
       "average_cost_for_two         0\n",
       "price_range                  0\n",
       "highlights                2069\n",
       "aggregate_rating             0\n",
       "rating_text                  0\n",
       "votes                        0\n",
       "photo_count                  0\n",
       "delivery                     0\n",
       "takeaway                     0\n",
       "geometry                     0\n",
       "rating_text_new              0\n",
       "dtype: int64"
      ]
     },
     "execution_count": 45,
     "metadata": {
      "tags": []
     },
     "output_type": "execute_result"
    }
   ],
   "source": [
    "data.isna().sum()"
   ]
  },
  {
   "cell_type": "markdown",
   "metadata": {
    "colab_type": "text",
    "id": "vvBYfZlRCFEo"
   },
   "source": [
    "Inference- \n",
    "    \n",
    "    This shows what are the various values in the dataset having null values\n",
    "    \n",
    "    *one can observe the zipcode column has 163187 null values which is about 2/3rd of the dataset \n",
    "    \n",
    "    *highlights, estabhlishment can be replaced with the help of mode value \n",
    "    \n",
    "    *latitude & longtitude have null val showing out of India range\n",
    "    \n",
    "    *some of the addresses are also not there"
   ]
  },
  {
   "cell_type": "markdown",
   "metadata": {
    "colab_type": "text",
    "id": "FLD6pEBiCFEp"
   },
   "source": [
    "**6. Study summary statistics**"
   ]
  },
  {
   "cell_type": "markdown",
   "metadata": {
    "colab_type": "text",
    "id": "le10dI5mCFEq"
   },
   "source": [
    "Let us check the summary statistics for numerical variables."
   ]
  },
  {
   "cell_type": "code",
   "execution_count": 46,
   "metadata": {
    "colab": {
     "base_uri": "https://localhost:8080/",
     "height": 297
    },
    "colab_type": "code",
    "id": "96zXK6kCCFEr",
    "outputId": "afa28598-0f73-4a67-9f9a-4a6877df4046",
    "scrolled": true
   },
   "outputs": [
    {
     "data": {
      "text/html": [
       "<div>\n",
       "<style scoped>\n",
       "    .dataframe tbody tr th:only-of-type {\n",
       "        vertical-align: middle;\n",
       "    }\n",
       "\n",
       "    .dataframe tbody tr th {\n",
       "        vertical-align: top;\n",
       "    }\n",
       "\n",
       "    .dataframe thead th {\n",
       "        text-align: right;\n",
       "    }\n",
       "</style>\n",
       "<table border=\"1\" class=\"dataframe\">\n",
       "  <thead>\n",
       "    <tr style=\"text-align: right;\">\n",
       "      <th></th>\n",
       "      <th>latitude</th>\n",
       "      <th>longitude</th>\n",
       "      <th>average_cost_for_two</th>\n",
       "      <th>aggregate_rating</th>\n",
       "      <th>votes</th>\n",
       "      <th>photo_count</th>\n",
       "    </tr>\n",
       "  </thead>\n",
       "  <tbody>\n",
       "    <tr>\n",
       "      <th>count</th>\n",
       "      <td>210605.000000</td>\n",
       "      <td>210615.000000</td>\n",
       "      <td>211944.000000</td>\n",
       "      <td>211944.000000</td>\n",
       "      <td>211944.000000</td>\n",
       "      <td>211944.000000</td>\n",
       "    </tr>\n",
       "    <tr>\n",
       "      <th>mean</th>\n",
       "      <td>21.586832</td>\n",
       "      <td>78.104827</td>\n",
       "      <td>595.812229</td>\n",
       "      <td>3.395937</td>\n",
       "      <td>378.002571</td>\n",
       "      <td>256.971224</td>\n",
       "    </tr>\n",
       "    <tr>\n",
       "      <th>std</th>\n",
       "      <td>6.823595</td>\n",
       "      <td>4.286852</td>\n",
       "      <td>606.239363</td>\n",
       "      <td>1.283642</td>\n",
       "      <td>925.333106</td>\n",
       "      <td>867.668940</td>\n",
       "    </tr>\n",
       "    <tr>\n",
       "      <th>min</th>\n",
       "      <td>8.400144</td>\n",
       "      <td>69.014446</td>\n",
       "      <td>0.000000</td>\n",
       "      <td>0.000000</td>\n",
       "      <td>0.000000</td>\n",
       "      <td>0.000000</td>\n",
       "    </tr>\n",
       "    <tr>\n",
       "      <th>25%</th>\n",
       "      <td>15.545368</td>\n",
       "      <td>74.892431</td>\n",
       "      <td>250.000000</td>\n",
       "      <td>3.300000</td>\n",
       "      <td>16.000000</td>\n",
       "      <td>3.000000</td>\n",
       "    </tr>\n",
       "    <tr>\n",
       "      <th>50%</th>\n",
       "      <td>22.541707</td>\n",
       "      <td>77.434536</td>\n",
       "      <td>400.000000</td>\n",
       "      <td>3.800000</td>\n",
       "      <td>100.000000</td>\n",
       "      <td>18.000000</td>\n",
       "    </tr>\n",
       "    <tr>\n",
       "      <th>75%</th>\n",
       "      <td>26.847055</td>\n",
       "      <td>80.221799</td>\n",
       "      <td>700.000000</td>\n",
       "      <td>4.100000</td>\n",
       "      <td>362.000000</td>\n",
       "      <td>128.000000</td>\n",
       "    </tr>\n",
       "    <tr>\n",
       "      <th>max</th>\n",
       "      <td>34.214702</td>\n",
       "      <td>91.832769</td>\n",
       "      <td>30000.000000</td>\n",
       "      <td>4.900000</td>\n",
       "      <td>42539.000000</td>\n",
       "      <td>17702.000000</td>\n",
       "    </tr>\n",
       "  </tbody>\n",
       "</table>\n",
       "</div>"
      ],
      "text/plain": [
       "            latitude      longitude  ...          votes    photo_count\n",
       "count  210605.000000  210615.000000  ...  211944.000000  211944.000000\n",
       "mean       21.586832      78.104827  ...     378.002571     256.971224\n",
       "std         6.823595       4.286852  ...     925.333106     867.668940\n",
       "min         8.400144      69.014446  ...       0.000000       0.000000\n",
       "25%        15.545368      74.892431  ...      16.000000       3.000000\n",
       "50%        22.541707      77.434536  ...     100.000000      18.000000\n",
       "75%        26.847055      80.221799  ...     362.000000     128.000000\n",
       "max        34.214702      91.832769  ...   42539.000000   17702.000000\n",
       "\n",
       "[8 rows x 6 columns]"
      ]
     },
     "execution_count": 46,
     "metadata": {
      "tags": []
     },
     "output_type": "execute_result"
    }
   ],
   "source": [
    "data.describe()"
   ]
  },
  {
   "cell_type": "markdown",
   "metadata": {
    "colab_type": "text",
    "id": "FdFLhpKNCFEt"
   },
   "source": [
    "Inference- \n",
    "    \n",
    "    This shows what are the the most extreme values in the data set (the maximum and minimum values), the lower and upper quartiles, and the median"
   ]
  },
  {
   "cell_type": "markdown",
   "metadata": {
    "colab_type": "text",
    "id": "AXfGqVgGCFEu"
   },
   "source": [
    "<a id = 'correlation'> </a>\n",
    "## 7. Study correlation"
   ]
  },
  {
   "cell_type": "code",
   "execution_count": 47,
   "metadata": {
    "colab": {
     "base_uri": "https://localhost:8080/",
     "height": 0
    },
    "colab_type": "code",
    "id": "1kcdPjFWCFEv",
    "outputId": "801cec1a-c077-4157-d318-69845432edfe"
   },
   "outputs": [
    {
     "data": {
      "text/plain": [
       "<matplotlib.axes._subplots.AxesSubplot at 0x7fd880fbd390>"
      ]
     },
     "execution_count": 47,
     "metadata": {
      "tags": []
     },
     "output_type": "execute_result"
    },
    {
     "data": {
      "image/png": "[encoded data removed]",
      "text/plain": [
       "<Figure size 432x288 with 2 Axes>"
      ]
     },
     "metadata": {
      "tags": []
     },
     "output_type": "display_data"
    }
   ],
   "source": [
    "import seaborn as sns\n",
    "corr=data.corr()\n",
    "sns.heatmap(corr,annot=True)\n"
   ]
  },
  {
   "cell_type": "markdown",
   "metadata": {
    "colab_type": "text",
    "id": "Ci8Yd37ZCFEx"
   },
   "source": [
    "Inference- \n",
    "    \n",
    "    This shows what is the correlation between the various columns in the dataset \n",
    "    for example -\n",
    "    \n",
    "    *photo counts and votes are highly correlated\n",
    "    \n",
    "    *votes and latitude are negative correlated\n",
    "    \n",
    "    *votes and average cost for two people have a low correlation"
   ]
  },
  {
   "cell_type": "markdown",
   "metadata": {
    "colab_type": "text",
    "id": "RuBKi2m0CFEz"
   },
   "source": [
    "\n",
    "## 8. Detect outliers"
   ]
  },
  {
   "cell_type": "code",
   "execution_count": 48,
   "metadata": {
    "colab": {
     "base_uri": "https://localhost:8080/",
     "height": 0
    },
    "colab_type": "code",
    "id": "7yZufqoyCFE5",
    "outputId": "ed41384d-ba64-41cd-a76d-5ced56a2f76d"
   },
   "outputs": [
    {
     "data": {
      "text/plain": [
       "<matplotlib.axes._subplots.AxesSubplot at 0x7fd87fcb8a20>"
      ]
     },
     "execution_count": 48,
     "metadata": {
      "tags": []
     },
     "output_type": "execute_result"
    },
    {
     "data": {
      "image/png": "[encoded data removed]",
      "text/plain": [
       "<Figure size 432x288 with 1 Axes>"
      ]
     },
     "metadata": {
      "tags": []
     },
     "output_type": "display_data"
    }
   ],
   "source": [
    "data.plot.box()"
   ]
  },
  {
   "cell_type": "markdown",
   "metadata": {
    "colab_type": "text",
    "id": "7F6JXXcPCFE7"
   },
   "source": [
    "Inference- \n",
    "    \n",
    "    it helps us understanding what how is data distributed"
   ]
  },
  {
   "cell_type": "code",
   "execution_count": 49,
   "metadata": {
    "colab": {
     "base_uri": "https://localhost:8080/",
     "height": 0
    },
    "colab_type": "code",
    "id": "dt8ygDbRCFE8",
    "outputId": "3c3f724d-60fd-4a5b-d9be-94e17edfc718"
   },
   "outputs": [
    {
     "data": {
      "text/plain": [
       "<matplotlib.axes._subplots.AxesSubplot at 0x7fd87fb6b780>"
      ]
     },
     "execution_count": 49,
     "metadata": {
      "tags": []
     },
     "output_type": "execute_result"
    },
    {
     "data": {
      "image/png": "[encoded data removed]",
      "text/plain": [
       "<Figure size 432x288 with 1 Axes>"
      ]
     },
     "metadata": {
      "tags": []
     },
     "output_type": "display_data"
    }
   ],
   "source": [
    "\n",
    "data.res_id=data.res_id.astype('int64')\n",
    "data['res_id'].plot.box()"
   ]
  },
  {
   "cell_type": "markdown",
   "metadata": {
    "colab_type": "text",
    "id": "ECrXmaaVCFE_"
   },
   "source": [
    "Inference- \n",
    "    \n",
    "    This shows res_id does not have outliers"
   ]
  },
  {
   "cell_type": "code",
   "execution_count": 50,
   "metadata": {
    "colab": {
     "base_uri": "https://localhost:8080/",
     "height": 0
    },
    "colab_type": "code",
    "id": "hHJCe9wcCFE_",
    "outputId": "f23a6ea5-356a-454a-bbc2-e84a9102508a"
   },
   "outputs": [
    {
     "data": {
      "text/plain": [
       "<matplotlib.axes._subplots.AxesSubplot at 0x7fd87fadacc0>"
      ]
     },
     "execution_count": 50,
     "metadata": {
      "tags": []
     },
     "output_type": "execute_result"
    },
    {
     "data": {
      "image/png": "[encoded data removed]",
      "text/plain": [
       "<Figure size 432x288 with 1 Axes>"
      ]
     },
     "metadata": {
      "tags": []
     },
     "output_type": "display_data"
    }
   ],
   "source": [
    "data['photo_count'].plot.box()"
   ]
  },
  {
   "cell_type": "markdown",
   "metadata": {
    "colab_type": "text",
    "id": "7b7mygamCFFC"
   },
   "source": [
    "Inference- \n",
    "    \n",
    "    This shows photo count has alot of outliers"
   ]
  },
  {
   "cell_type": "code",
   "execution_count": 51,
   "metadata": {
    "colab": {
     "base_uri": "https://localhost:8080/",
     "height": 0
    },
    "colab_type": "code",
    "id": "k62LKQImCFFD",
    "outputId": "cda7da48-5f5b-4246-cf2b-72e92e60779c",
    "scrolled": true
   },
   "outputs": [
    {
     "data": {
      "text/plain": [
       "<matplotlib.axes._subplots.AxesSubplot at 0x7fd87fa50dd8>"
      ]
     },
     "execution_count": 51,
     "metadata": {
      "tags": []
     },
     "output_type": "execute_result"
    },
    {
     "data": {
      "image/png": "[encoded data removed]",
      "text/plain": [
       "<Figure size 432x288 with 1 Axes>"
      ]
     },
     "metadata": {
      "tags": []
     },
     "output_type": "display_data"
    }
   ],
   "source": [
    "data['votes'].plot.box()"
   ]
  },
  {
   "cell_type": "markdown",
   "metadata": {
    "colab_type": "text",
    "id": "WVvjJ10DCFFF"
   },
   "source": [
    "Inference- \n",
    "    \n",
    "    This shows votes have alot of outliers"
   ]
  },
  {
   "cell_type": "code",
   "execution_count": 52,
   "metadata": {
    "colab": {
     "base_uri": "https://localhost:8080/",
     "height": 0
    },
    "colab_type": "code",
    "id": "jjo1Y-sbCFFF",
    "outputId": "302baa97-03bf-42df-d8a9-e80acd650d25"
   },
   "outputs": [
    {
     "data": {
      "text/plain": [
       "<matplotlib.axes._subplots.AxesSubplot at 0x7fd87fa27f98>"
      ]
     },
     "execution_count": 52,
     "metadata": {
      "tags": []
     },
     "output_type": "execute_result"
    },
    {
     "data": {
      "image/png": "[encoded data removed]",
      "text/plain": [
       "<Figure size 432x288 with 1 Axes>"
      ]
     },
     "metadata": {
      "tags": []
     },
     "output_type": "display_data"
    }
   ],
   "source": [
    "data['aggregate_rating'].plot.box()"
   ]
  },
  {
   "cell_type": "markdown",
   "metadata": {
    "colab_type": "text",
    "id": "GC8vibiUCFFI"
   },
   "source": [
    "Inference- \n",
    "    \n",
    "    This shows aggregate rating has a few outliers rest of the data is in the interquantile range"
   ]
  },
  {
   "cell_type": "markdown",
   "metadata": {
    "colab_type": "text",
    "id": "TssDYssqCFFJ"
   },
   "source": [
    "<a id='region'> </a>\n",
    "## 9. Create a new variable 'region'\n"
   ]
  },
  {
   "cell_type": "code",
   "execution_count": 0,
   "metadata": {
    "colab": {},
    "colab_type": "code",
    "id": "IMhUksUICFFK"
   },
   "outputs": [],
   "source": [
    "east_zone=['Arunachal Pradesh', 'Assam', 'Manipur', 'Meghalaya', 'Mizoram', 'Nagaland', 'Sikkim' , 'Tripura','Bihar', 'Orissa', 'Jharkhand', 'West Bengal ']\n",
    "\n",
    "west_zone=['Rajasthan' , 'Gujarat', 'Goa', 'Maharashtra', 'Daman and Diu',\n",
    "'Dadra and Nagar Haveli','Madhya Pradesh','Chhattisgarh']\n",
    "\n",
    "north_zone=['Jammu and Kashmir', 'Himachal Pradesh','Chandigarh','Delhi', 'Punjab', 'Uttarakhand' , 'Uttar Pradesh','Haryana']\n",
    "\n",
    "south_zone=['Andhra Pradesh', 'Karnataka', 'Kerala','Tamil Nadu','Telangana','puducherry']\n",
    "\n",
    "\n",
    "# data.locality"
   ]
  },
  {
   "cell_type": "markdown",
   "metadata": {
    "colab_type": "text",
    "id": "sgjmB4OcCFFM"
   },
   "source": [
    "Inference- \n",
    "    \n",
    "    Understanding the various states in each zone"
   ]
  },
  {
   "cell_type": "markdown",
   "metadata": {
    "colab_type": "text",
    "id": "sJIAWuruCFFM"
   },
   "source": [
    "Create a variable 'region' with four categories 'northern','eastern', 'southern', 'western' and 'central'. To do so, use the 'city' column, group all cities belonging to the same region. "
   ]
  },
  {
   "cell_type": "code",
   "execution_count": 0,
   "metadata": {
    "colab": {},
    "colab_type": "code",
    "id": "cntBuHvvCFFN"
   },
   "outputs": [],
   "source": [
    "dict_region={'Agra':\"north\", 'Ahmedabad':'west', 'Ajmer':'west', 'Alappuzha':'south', 'Allahabad':'north', 'Amravati':\"west\",\n",
    "       'Amritsar':'north', 'Aurangabad':'west', 'Bangalore':'south', 'Bhopal':'west', 'Bhubaneshwar':'east',\n",
    "       'Chandigarh':'north', 'Chennai':'south', 'Coimbatore':'south', 'Cuttack':'east', 'Darjeeling':'east',\n",
    "       'Dehradun':'north', 'Dharamshala':'north', 'Faridabad':\"north\", 'Gandhinagar':\"west\", 'Gangtok':'east',\n",
    "       'Ghaziabad':\"north\", 'Goa':\"west\", 'Gorakhpur':\"north\", 'Greater Noida':\"north\", 'Guntur':\"south\",\n",
    "       'Gurgaon':\"north\", 'Guwahati':\"east\", 'Gwalior':\"east\", 'Haridwar':\"north\", 'Howrah':\"east\",\n",
    "       'Hyderabad':\"south\", 'Indore':\"west\", 'Jabalpur':\"west\", 'Jaipur':\"west\", 'Jalandhar':\"north\", 'Jammu':\"north\",\n",
    "       'Jamnagar':\"west\", 'Jamshedpur':\"east\", 'Jhansi':\"north\", 'Jodhpur':\"west\", 'Junagadh':\"west\",\n",
    "       'Kanpur':\"north\", 'Kharagpur':\"east\", 'Kochi':\"south\", 'Kolhapur':\"west\", 'Kolkata':\"east\", 'Kota':\"west\",\n",
    "       'Lucknow':\"north\", 'Ludhiana':\"north\", 'Madurai':\"south\", 'Manali':\"north\", 'Mangalore':\"south\", 'Manipal':\"south\",\n",
    "       'Meerut':\"north\", 'Mohali':\"north\", 'Mumbai':\"west\", 'Mussoorie':\"north\", 'Mysore':\"south\", 'Nagpur':\"west\",\n",
    "       'Nainital':\"north\", 'Nashik':\"west\", 'Navi Mumbai':\"west\", 'Nayagaon':\"north\", 'Neemrana':\"west\",\n",
    "       'New Delhi':\"north\", 'Noida':\"north\", 'Ooty':\"south\", 'Palakkad':\"south\", 'Panchkula':\"north\", 'Patiala':\"north\",\n",
    "       'Patna':\"north\", 'Puducherry':\"south\", 'Pune':\"west\", 'Pushkar':\"west\", 'Raipur':\"west\", 'Rajkot':\"west\",\n",
    "       'Ranchi':\"east\", 'Rishikesh':\"north\", 'Salem':\"south\", 'Secunderabad':\"south\", 'Shimla':\"north\",\n",
    "       'Siliguri':\"east\", 'Srinagar':\"north\", 'Surat':\"west\", 'Thane':\"west\", 'Thrissur':\"south\", 'Tirupati':\"south\",\n",
    "       'Trichy':'south', 'Trivandrum':'south', 'Udaipur':'west', 'Udupi':\"south\", 'Vadodara':\"west\", 'Varanasi':\"north\",\n",
    "       'Vellore':\"south\", 'Vijayawada':\"south\", 'Vizag':\"south\", 'Zirakpur':\"north\"}"
   ]
  },
  {
   "cell_type": "markdown",
   "metadata": {
    "colab_type": "text",
    "id": "uhfpaHJ-CFFP"
   },
   "source": [
    "Inference- \n",
    "    \n",
    "    creating a mapping of city -> region "
   ]
  },
  {
   "cell_type": "code",
   "execution_count": 0,
   "metadata": {
    "colab": {},
    "colab_type": "code",
    "id": "fF1cMLuZCFFP"
   },
   "outputs": [],
   "source": [
    "data.drop(data[data.city=='north'].index,inplace=True)\n",
    "save_region=[]\n",
    "for i in data.city:\n",
    "    save_region.append(dict_region[i])"
   ]
  },
  {
   "cell_type": "code",
   "execution_count": 56,
   "metadata": {
    "colab": {
     "base_uri": "https://localhost:8080/",
     "height": 0
    },
    "colab_type": "code",
    "id": "85xJXAYBCFFR",
    "outputId": "0f440ce7-9962-46a4-b2dd-61101eeeb8d2"
   },
   "outputs": [
    {
     "data": {
      "text/html": [
       "<div>\n",
       "<style scoped>\n",
       "    .dataframe tbody tr th:only-of-type {\n",
       "        vertical-align: middle;\n",
       "    }\n",
       "\n",
       "    .dataframe tbody tr th {\n",
       "        vertical-align: top;\n",
       "    }\n",
       "\n",
       "    .dataframe thead th {\n",
       "        text-align: right;\n",
       "    }\n",
       "</style>\n",
       "<table border=\"1\" class=\"dataframe\">\n",
       "  <thead>\n",
       "    <tr style=\"text-align: right;\">\n",
       "      <th></th>\n",
       "      <th>res_id</th>\n",
       "      <th>name</th>\n",
       "      <th>establishment</th>\n",
       "      <th>url</th>\n",
       "      <th>address</th>\n",
       "      <th>city</th>\n",
       "      <th>city_id</th>\n",
       "      <th>locality</th>\n",
       "      <th>latitude</th>\n",
       "      <th>longitude</th>\n",
       "      <th>zipcode</th>\n",
       "      <th>cuisines</th>\n",
       "      <th>timings</th>\n",
       "      <th>average_cost_for_two</th>\n",
       "      <th>price_range</th>\n",
       "      <th>highlights</th>\n",
       "      <th>aggregate_rating</th>\n",
       "      <th>rating_text</th>\n",
       "      <th>votes</th>\n",
       "      <th>photo_count</th>\n",
       "      <th>delivery</th>\n",
       "      <th>takeaway</th>\n",
       "      <th>geometry</th>\n",
       "      <th>rating_text_new</th>\n",
       "      <th>region</th>\n",
       "    </tr>\n",
       "  </thead>\n",
       "  <tbody>\n",
       "    <tr>\n",
       "      <th>0</th>\n",
       "      <td>3400299</td>\n",
       "      <td>Bikanervala</td>\n",
       "      <td>Quick Bites</td>\n",
       "      <td>https://www.zomato.com/agra/bikanervala-khanda...</td>\n",
       "      <td>Kalyani Point, Near Tulsi Cinema, Bypass Road,...</td>\n",
       "      <td>Agra</td>\n",
       "      <td>34</td>\n",
       "      <td>Khandari</td>\n",
       "      <td>27.211450</td>\n",
       "      <td>78.002381</td>\n",
       "      <td>NaN</td>\n",
       "      <td>North Indian, South Indian, Mithai, Street Foo...</td>\n",
       "      <td>8:30am – 10:30pm (Mon-Sun)</td>\n",
       "      <td>700</td>\n",
       "      <td>2</td>\n",
       "      <td>Lunch, Takeaway Available, Credit Card, Dinner...</td>\n",
       "      <td>4.4</td>\n",
       "      <td>Very Good</td>\n",
       "      <td>814</td>\n",
       "      <td>154</td>\n",
       "      <td>-1</td>\n",
       "      <td>-1</td>\n",
       "      <td>POINT (78.00238 27.21145)</td>\n",
       "      <td>excellent</td>\n",
       "      <td>north</td>\n",
       "    </tr>\n",
       "    <tr>\n",
       "      <th>1</th>\n",
       "      <td>3400005</td>\n",
       "      <td>Mama Chicken Mama Franky House</td>\n",
       "      <td>Quick Bites</td>\n",
       "      <td>https://www.zomato.com/agra/mama-chicken-mama-...</td>\n",
       "      <td>Main Market, Sadar Bazaar, Agra Cantt, Agra</td>\n",
       "      <td>Agra</td>\n",
       "      <td>34</td>\n",
       "      <td>Agra Cantt</td>\n",
       "      <td>27.160569</td>\n",
       "      <td>78.011583</td>\n",
       "      <td>282001</td>\n",
       "      <td>North Indian, Mughlai, Rolls, Chinese, Fast Fo...</td>\n",
       "      <td>12:30PM to 12Midnight (Mon, Wed, Thu, Fri, Sat...</td>\n",
       "      <td>600</td>\n",
       "      <td>2</td>\n",
       "      <td>Delivery, No Alcohol Available, Dinner, Takeaw...</td>\n",
       "      <td>4.4</td>\n",
       "      <td>Very Good</td>\n",
       "      <td>1203</td>\n",
       "      <td>161</td>\n",
       "      <td>-1</td>\n",
       "      <td>-1</td>\n",
       "      <td>POINT (78.01158 27.16057)</td>\n",
       "      <td>excellent</td>\n",
       "      <td>north</td>\n",
       "    </tr>\n",
       "    <tr>\n",
       "      <th>2</th>\n",
       "      <td>3401013</td>\n",
       "      <td>Bhagat Halwai</td>\n",
       "      <td>Quick Bites</td>\n",
       "      <td>https://www.zomato.com/agra/bhagat-halwai-2-sh...</td>\n",
       "      <td>62/1, Near Easy Day, West Shivaji Nagar, Goalp...</td>\n",
       "      <td>Agra</td>\n",
       "      <td>34</td>\n",
       "      <td>Shahganj</td>\n",
       "      <td>27.182938</td>\n",
       "      <td>77.979684</td>\n",
       "      <td>282010</td>\n",
       "      <td>Fast Food, Mithai</td>\n",
       "      <td>9:30 AM to 11 PM</td>\n",
       "      <td>300</td>\n",
       "      <td>1</td>\n",
       "      <td>No Alcohol Available, Dinner, Takeaway Availab...</td>\n",
       "      <td>4.2</td>\n",
       "      <td>Very Good</td>\n",
       "      <td>801</td>\n",
       "      <td>107</td>\n",
       "      <td>1</td>\n",
       "      <td>-1</td>\n",
       "      <td>POINT (77.97968 27.18294)</td>\n",
       "      <td>excellent</td>\n",
       "      <td>north</td>\n",
       "    </tr>\n",
       "    <tr>\n",
       "      <th>3</th>\n",
       "      <td>3400290</td>\n",
       "      <td>Bhagat Halwai</td>\n",
       "      <td>Quick Bites</td>\n",
       "      <td>https://www.zomato.com/agra/bhagat-halwai-civi...</td>\n",
       "      <td>Near Anjana Cinema, Nehru Nagar, Civil Lines, ...</td>\n",
       "      <td>Agra</td>\n",
       "      <td>34</td>\n",
       "      <td>Civil Lines</td>\n",
       "      <td>27.205668</td>\n",
       "      <td>78.004799</td>\n",
       "      <td>282002</td>\n",
       "      <td>Desserts, Bakery, Fast Food, South Indian</td>\n",
       "      <td>8am – 11pm (Mon-Sun)</td>\n",
       "      <td>300</td>\n",
       "      <td>1</td>\n",
       "      <td>Takeaway Available, Credit Card, Lunch, Delive...</td>\n",
       "      <td>4.3</td>\n",
       "      <td>Very Good</td>\n",
       "      <td>693</td>\n",
       "      <td>157</td>\n",
       "      <td>1</td>\n",
       "      <td>-1</td>\n",
       "      <td>POINT (78.00480 27.20567)</td>\n",
       "      <td>excellent</td>\n",
       "      <td>north</td>\n",
       "    </tr>\n",
       "    <tr>\n",
       "      <th>4</th>\n",
       "      <td>3401744</td>\n",
       "      <td>The Salt Cafe Kitchen &amp; Bar</td>\n",
       "      <td>Casual Dining</td>\n",
       "      <td>https://www.zomato.com/agra/the-salt-cafe-kitc...</td>\n",
       "      <td>1C,3rd Floor, Fatehabad Road, Tajganj, Agra</td>\n",
       "      <td>Agra</td>\n",
       "      <td>34</td>\n",
       "      <td>Tajganj</td>\n",
       "      <td>27.157709</td>\n",
       "      <td>78.052421</td>\n",
       "      <td>NaN</td>\n",
       "      <td>North Indian, Continental, Italian</td>\n",
       "      <td>11:30 AM to 11:30 PM</td>\n",
       "      <td>1000</td>\n",
       "      <td>3</td>\n",
       "      <td>Lunch, Serves Alcohol, Cash, Credit Card, Dinn...</td>\n",
       "      <td>4.9</td>\n",
       "      <td>Excellent</td>\n",
       "      <td>470</td>\n",
       "      <td>291</td>\n",
       "      <td>1</td>\n",
       "      <td>-1</td>\n",
       "      <td>POINT (78.05242 27.15771)</td>\n",
       "      <td>excellent</td>\n",
       "      <td>north</td>\n",
       "    </tr>\n",
       "    <tr>\n",
       "      <th>...</th>\n",
       "      <td>...</td>\n",
       "      <td>...</td>\n",
       "      <td>...</td>\n",
       "      <td>...</td>\n",
       "      <td>...</td>\n",
       "      <td>...</td>\n",
       "      <td>...</td>\n",
       "      <td>...</td>\n",
       "      <td>...</td>\n",
       "      <td>...</td>\n",
       "      <td>...</td>\n",
       "      <td>...</td>\n",
       "      <td>...</td>\n",
       "      <td>...</td>\n",
       "      <td>...</td>\n",
       "      <td>...</td>\n",
       "      <td>...</td>\n",
       "      <td>...</td>\n",
       "      <td>...</td>\n",
       "      <td>...</td>\n",
       "      <td>...</td>\n",
       "      <td>...</td>\n",
       "      <td>...</td>\n",
       "      <td>...</td>\n",
       "      <td>...</td>\n",
       "    </tr>\n",
       "    <tr>\n",
       "      <th>211939</th>\n",
       "      <td>3202251</td>\n",
       "      <td>Kali Mirch Cafe And Restaurant</td>\n",
       "      <td>Casual Dining</td>\n",
       "      <td>https://www.zomato.com/vadodara/kali-mirch-caf...</td>\n",
       "      <td>Manu Smriti Complex, Near Navrachna School, GI...</td>\n",
       "      <td>Vadodara</td>\n",
       "      <td>32</td>\n",
       "      <td>Fatehgunj</td>\n",
       "      <td>22.336931</td>\n",
       "      <td>73.192356</td>\n",
       "      <td>390024</td>\n",
       "      <td>North Indian</td>\n",
       "      <td>11am – 3pm, 7pm – 11:30pm (Mon-Sun)</td>\n",
       "      <td>600</td>\n",
       "      <td>2</td>\n",
       "      <td>Dinner, Cash, Lunch, Delivery, Indoor Seating,...</td>\n",
       "      <td>4.1</td>\n",
       "      <td>Very Good</td>\n",
       "      <td>243</td>\n",
       "      <td>40</td>\n",
       "      <td>-1</td>\n",
       "      <td>-1</td>\n",
       "      <td>POINT (73.19236 22.33693)</td>\n",
       "      <td>excellent</td>\n",
       "      <td>west</td>\n",
       "    </tr>\n",
       "    <tr>\n",
       "      <th>211940</th>\n",
       "      <td>3200996</td>\n",
       "      <td>Raju Omlet</td>\n",
       "      <td>Quick Bites</td>\n",
       "      <td>https://www.zomato.com/vadodara/raju-omlet-kar...</td>\n",
       "      <td>Mahalaxmi Apartment, Opposite B O B, Karoli Ba...</td>\n",
       "      <td>Vadodara</td>\n",
       "      <td>32</td>\n",
       "      <td>Karelibaug</td>\n",
       "      <td>22.322455</td>\n",
       "      <td>73.197203</td>\n",
       "      <td>NaN</td>\n",
       "      <td>Fast Food</td>\n",
       "      <td>4pm – 11pm (Mon, Tue, Wed, Fri, Sat, Sun), 4pm...</td>\n",
       "      <td>300</td>\n",
       "      <td>1</td>\n",
       "      <td>Dinner, Cash, Takeaway Available, Debit Card, ...</td>\n",
       "      <td>4.1</td>\n",
       "      <td>Very Good</td>\n",
       "      <td>187</td>\n",
       "      <td>40</td>\n",
       "      <td>1</td>\n",
       "      <td>-1</td>\n",
       "      <td>POINT (73.19720 22.32246)</td>\n",
       "      <td>excellent</td>\n",
       "      <td>west</td>\n",
       "    </tr>\n",
       "    <tr>\n",
       "      <th>211941</th>\n",
       "      <td>18984164</td>\n",
       "      <td>The Grand Thakar</td>\n",
       "      <td>Casual Dining</td>\n",
       "      <td>https://www.zomato.com/vadodara/the-grand-thak...</td>\n",
       "      <td>3rd Floor, Shreem Shalini Mall, Opposite Conqu...</td>\n",
       "      <td>Vadodara</td>\n",
       "      <td>32</td>\n",
       "      <td>Alkapuri</td>\n",
       "      <td>22.310563</td>\n",
       "      <td>73.171164</td>\n",
       "      <td>NaN</td>\n",
       "      <td>Gujarati, North Indian, Chinese</td>\n",
       "      <td>11:30 AM to 3:30 PM, 7:30 PM to 11 PM</td>\n",
       "      <td>700</td>\n",
       "      <td>2</td>\n",
       "      <td>Dinner, Cash, Debit Card, Lunch, Takeaway Avai...</td>\n",
       "      <td>4.0</td>\n",
       "      <td>Very Good</td>\n",
       "      <td>111</td>\n",
       "      <td>38</td>\n",
       "      <td>-1</td>\n",
       "      <td>-1</td>\n",
       "      <td>POINT (73.17116 22.31056)</td>\n",
       "      <td>excellent</td>\n",
       "      <td>west</td>\n",
       "    </tr>\n",
       "    <tr>\n",
       "      <th>211942</th>\n",
       "      <td>3201138</td>\n",
       "      <td>Subway</td>\n",
       "      <td>Quick Bites</td>\n",
       "      <td>https://www.zomato.com/vadodara/subway-1-akota...</td>\n",
       "      <td>G-2, Vedant Platina, Near Cosmos, Akota, Vadodara</td>\n",
       "      <td>Vadodara</td>\n",
       "      <td>32</td>\n",
       "      <td>Akota</td>\n",
       "      <td>22.270027</td>\n",
       "      <td>73.143068</td>\n",
       "      <td>NaN</td>\n",
       "      <td>Fast Food, Sandwich, Salad</td>\n",
       "      <td>8 AM to 1 AM</td>\n",
       "      <td>500</td>\n",
       "      <td>2</td>\n",
       "      <td>Dinner, Delivery, Credit Card, Lunch, Cash, Ta...</td>\n",
       "      <td>3.7</td>\n",
       "      <td>Good</td>\n",
       "      <td>128</td>\n",
       "      <td>34</td>\n",
       "      <td>1</td>\n",
       "      <td>-1</td>\n",
       "      <td>POINT (73.14307 22.27003)</td>\n",
       "      <td>very good</td>\n",
       "      <td>west</td>\n",
       "    </tr>\n",
       "    <tr>\n",
       "      <th>211943</th>\n",
       "      <td>18879846</td>\n",
       "      <td>Freshcos - The Health Cafe</td>\n",
       "      <td>Café</td>\n",
       "      <td>https://www.zomato.com/vadodara/freshcos-the-h...</td>\n",
       "      <td>Shop 7, Ground Floor, Opposite Natubhai Circle...</td>\n",
       "      <td>Vadodara</td>\n",
       "      <td>32</td>\n",
       "      <td>Vadiwadi</td>\n",
       "      <td>22.309935</td>\n",
       "      <td>73.158768</td>\n",
       "      <td>390007</td>\n",
       "      <td>Cafe, Healthy Food, Coffee</td>\n",
       "      <td>7am – 11pm (Mon-Sun)</td>\n",
       "      <td>600</td>\n",
       "      <td>2</td>\n",
       "      <td>Dinner, Cash, Takeaway Available, Debit Card, ...</td>\n",
       "      <td>4.0</td>\n",
       "      <td>Very Good</td>\n",
       "      <td>93</td>\n",
       "      <td>53</td>\n",
       "      <td>1</td>\n",
       "      <td>-1</td>\n",
       "      <td>POINT (73.15877 22.30994)</td>\n",
       "      <td>excellent</td>\n",
       "      <td>west</td>\n",
       "    </tr>\n",
       "  </tbody>\n",
       "</table>\n",
       "<p>211944 rows × 25 columns</p>\n",
       "</div>"
      ],
      "text/plain": [
       "          res_id                            name  ... rating_text_new region\n",
       "0        3400299                     Bikanervala  ...       excellent  north\n",
       "1        3400005  Mama Chicken Mama Franky House  ...       excellent  north\n",
       "2        3401013                   Bhagat Halwai  ...       excellent  north\n",
       "3        3400290                   Bhagat Halwai  ...       excellent  north\n",
       "4        3401744     The Salt Cafe Kitchen & Bar  ...       excellent  north\n",
       "...          ...                             ...  ...             ...    ...\n",
       "211939   3202251  Kali Mirch Cafe And Restaurant  ...       excellent   west\n",
       "211940   3200996                      Raju Omlet  ...       excellent   west\n",
       "211941  18984164                The Grand Thakar  ...       excellent   west\n",
       "211942   3201138                          Subway  ...       very good   west\n",
       "211943  18879846      Freshcos - The Health Cafe  ...       excellent   west\n",
       "\n",
       "[211944 rows x 25 columns]"
      ]
     },
     "execution_count": 56,
     "metadata": {
      "tags": []
     },
     "output_type": "execute_result"
    }
   ],
   "source": [
    "# print(len(save_region))\n",
    "data['region']=save_region\n",
    "data\n"
   ]
  },
  {
   "cell_type": "markdown",
   "metadata": {
    "colab_type": "text",
    "id": "-XFk1KvzCFFT"
   },
   "source": [
    "Inference- \n",
    "    \n",
    "    This shows creating a new column named as REGION depecting the region in which the city is situated"
   ]
  },
  {
   "cell_type": "code",
   "execution_count": 57,
   "metadata": {
    "colab": {
     "base_uri": "https://localhost:8080/",
     "height": 0
    },
    "colab_type": "code",
    "id": "K7CVtNjmCFFT",
    "outputId": "465e56ed-f3fb-4261-9fdb-5e17d4a39322"
   },
   "outputs": [
    {
     "data": {
      "text/plain": [
       "region\n",
       "east     [Bhubaneshwar, Cuttack, Darjeeling, Gangtok, G...\n",
       "north    [Agra, Allahabad, Amritsar, Chandigarh, Mohali...\n",
       "south    [Alappuzha, Bangalore, Chennai, Coimbatore, Gu...\n",
       "west     [Ahmedabad, Gandhinagar, Ajmer, Amravati, Aura...\n",
       "Name: city, dtype: object"
      ]
     },
     "execution_count": 57,
     "metadata": {
      "tags": []
     },
     "output_type": "execute_result"
    }
   ],
   "source": [
    "city_data=data.groupby('region')['city'].unique()\n",
    "city_data"
   ]
  },
  {
   "cell_type": "markdown",
   "metadata": {
    "colab_type": "text",
    "id": "Pv-WWg2MCFFX"
   },
   "source": [
    "Inference- \n",
    "    \n",
    "    This groups the cities lying in the same region together"
   ]
  },
  {
   "cell_type": "markdown",
   "metadata": {
    "colab_type": "text",
    "id": "t4nhlvrGCFFY"
   },
   "source": [
    "<a id='more'> </a>\n",
    "## 10. Some more Analysis"
   ]
  },
  {
   "cell_type": "markdown",
   "metadata": {
    "colab_type": "text",
    "id": "sQHCPF0jCFFY"
   },
   "source": [
    "<b>Lets us explore the data some more now that we have extrapolated and removed the missing values <br>\n",
    "We now conduct analysis to compare the regions.</b>"
   ]
  },
  {
   "cell_type": "markdown",
   "metadata": {
    "colab_type": "text",
    "id": "5kZbNNJ8CFFZ"
   },
   "source": [
    "### 1. To find which cities have expensive restaurants \n",
    "\n",
    "-  plot the cities which have costliest restaurants. "
   ]
  },
  {
   "cell_type": "code",
   "execution_count": 58,
   "metadata": {
    "colab": {
     "base_uri": "https://localhost:8080/",
     "height": 0
    },
    "colab_type": "code",
    "id": "U59txrv8CFFa",
    "outputId": "375301ed-2861-4f08-83b3-86cbfad27df5"
   },
   "outputs": [
    {
     "data": {
      "text/html": [
       "<div>\n",
       "<style scoped>\n",
       "    .dataframe tbody tr th:only-of-type {\n",
       "        vertical-align: middle;\n",
       "    }\n",
       "\n",
       "    .dataframe tbody tr th {\n",
       "        vertical-align: top;\n",
       "    }\n",
       "\n",
       "    .dataframe thead th {\n",
       "        text-align: right;\n",
       "    }\n",
       "</style>\n",
       "<table border=\"1\" class=\"dataframe\">\n",
       "  <thead>\n",
       "    <tr style=\"text-align: right;\">\n",
       "      <th></th>\n",
       "      <th>name</th>\n",
       "      <th>city</th>\n",
       "      <th>average_cost_for_two</th>\n",
       "      <th>price_range</th>\n",
       "    </tr>\n",
       "  </thead>\n",
       "  <tbody>\n",
       "    <tr>\n",
       "      <th>0</th>\n",
       "      <td>Bikanervala</td>\n",
       "      <td>Agra</td>\n",
       "      <td>700</td>\n",
       "      <td>2</td>\n",
       "    </tr>\n",
       "    <tr>\n",
       "      <th>1</th>\n",
       "      <td>Mama Chicken Mama Franky House</td>\n",
       "      <td>Agra</td>\n",
       "      <td>600</td>\n",
       "      <td>2</td>\n",
       "    </tr>\n",
       "    <tr>\n",
       "      <th>2</th>\n",
       "      <td>Bhagat Halwai</td>\n",
       "      <td>Agra</td>\n",
       "      <td>300</td>\n",
       "      <td>1</td>\n",
       "    </tr>\n",
       "    <tr>\n",
       "      <th>3</th>\n",
       "      <td>Bhagat Halwai</td>\n",
       "      <td>Agra</td>\n",
       "      <td>300</td>\n",
       "      <td>1</td>\n",
       "    </tr>\n",
       "    <tr>\n",
       "      <th>4</th>\n",
       "      <td>The Salt Cafe Kitchen &amp; Bar</td>\n",
       "      <td>Agra</td>\n",
       "      <td>1000</td>\n",
       "      <td>3</td>\n",
       "    </tr>\n",
       "    <tr>\n",
       "      <th>...</th>\n",
       "      <td>...</td>\n",
       "      <td>...</td>\n",
       "      <td>...</td>\n",
       "      <td>...</td>\n",
       "    </tr>\n",
       "    <tr>\n",
       "      <th>95</th>\n",
       "      <td>Culinary Junction By Udupi</td>\n",
       "      <td>Agra</td>\n",
       "      <td>800</td>\n",
       "      <td>3</td>\n",
       "    </tr>\n",
       "    <tr>\n",
       "      <th>96</th>\n",
       "      <td>Chopstix</td>\n",
       "      <td>Agra</td>\n",
       "      <td>600</td>\n",
       "      <td>2</td>\n",
       "    </tr>\n",
       "    <tr>\n",
       "      <th>97</th>\n",
       "      <td>Bhagwati Dhaba</td>\n",
       "      <td>Agra</td>\n",
       "      <td>200</td>\n",
       "      <td>1</td>\n",
       "    </tr>\n",
       "    <tr>\n",
       "      <th>98</th>\n",
       "      <td>Chainess</td>\n",
       "      <td>Agra</td>\n",
       "      <td>200</td>\n",
       "      <td>1</td>\n",
       "    </tr>\n",
       "    <tr>\n",
       "      <th>99</th>\n",
       "      <td>Jux Pux</td>\n",
       "      <td>Agra</td>\n",
       "      <td>200</td>\n",
       "      <td>1</td>\n",
       "    </tr>\n",
       "  </tbody>\n",
       "</table>\n",
       "<p>100 rows × 4 columns</p>\n",
       "</div>"
      ],
      "text/plain": [
       "                              name  city  average_cost_for_two price_range\n",
       "0                      Bikanervala  Agra                   700           2\n",
       "1   Mama Chicken Mama Franky House  Agra                   600           2\n",
       "2                    Bhagat Halwai  Agra                   300           1\n",
       "3                    Bhagat Halwai  Agra                   300           1\n",
       "4      The Salt Cafe Kitchen & Bar  Agra                  1000           3\n",
       "..                             ...   ...                   ...         ...\n",
       "95      Culinary Junction By Udupi  Agra                   800           3\n",
       "96                        Chopstix  Agra                   600           2\n",
       "97                  Bhagwati Dhaba  Agra                   200           1\n",
       "98                        Chainess  Agra                   200           1\n",
       "99                         Jux Pux  Agra                   200           1\n",
       "\n",
       "[100 rows x 4 columns]"
      ]
     },
     "execution_count": 58,
     "metadata": {
      "tags": []
     },
     "output_type": "execute_result"
    }
   ],
   "source": [
    "data[['name','city','average_cost_for_two','price_range']].head(100)"
   ]
  },
  {
   "cell_type": "markdown",
   "metadata": {
    "colab_type": "text",
    "id": "3ytNdir1CFFc"
   },
   "source": [
    "Inference- \n",
    "    \n",
    "    This shows getting the name of the restaurant, the city, the average cost, the price range"
   ]
  },
  {
   "cell_type": "code",
   "execution_count": 59,
   "metadata": {
    "colab": {
     "base_uri": "https://localhost:8080/",
     "height": 0
    },
    "colab_type": "code",
    "id": "hTcHNH1ACFFd",
    "outputId": "cd0077c4-ecc7-4856-e206-bd6b9a258c53",
    "scrolled": true
   },
   "outputs": [
    {
     "data": {
      "text/html": [
       "<div>\n",
       "<style scoped>\n",
       "    .dataframe tbody tr th:only-of-type {\n",
       "        vertical-align: middle;\n",
       "    }\n",
       "\n",
       "    .dataframe tbody tr th {\n",
       "        vertical-align: top;\n",
       "    }\n",
       "\n",
       "    .dataframe thead th {\n",
       "        text-align: right;\n",
       "    }\n",
       "</style>\n",
       "<table border=\"1\" class=\"dataframe\">\n",
       "  <thead>\n",
       "    <tr style=\"text-align: right;\">\n",
       "      <th></th>\n",
       "      <th>average_cost_for_two</th>\n",
       "      <th>city</th>\n",
       "    </tr>\n",
       "    <tr>\n",
       "      <th>city</th>\n",
       "      <th></th>\n",
       "      <th></th>\n",
       "    </tr>\n",
       "  </thead>\n",
       "  <tbody>\n",
       "    <tr>\n",
       "      <th>Mumbai</th>\n",
       "      <td>1388.994921</td>\n",
       "      <td>Mumbai</td>\n",
       "    </tr>\n",
       "    <tr>\n",
       "      <th>New Delhi</th>\n",
       "      <td>1379.698826</td>\n",
       "      <td>New Delhi</td>\n",
       "    </tr>\n",
       "    <tr>\n",
       "      <th>Gurgaon</th>\n",
       "      <td>1333.906977</td>\n",
       "      <td>Gurgaon</td>\n",
       "    </tr>\n",
       "    <tr>\n",
       "      <th>Bangalore</th>\n",
       "      <td>1036.187890</td>\n",
       "      <td>Bangalore</td>\n",
       "    </tr>\n",
       "    <tr>\n",
       "      <th>Pune</th>\n",
       "      <td>979.858904</td>\n",
       "      <td>Pune</td>\n",
       "    </tr>\n",
       "  </tbody>\n",
       "</table>\n",
       "</div>"
      ],
      "text/plain": [
       "           average_cost_for_two       city\n",
       "city                                      \n",
       "Mumbai              1388.994921     Mumbai\n",
       "New Delhi           1379.698826  New Delhi\n",
       "Gurgaon             1333.906977    Gurgaon\n",
       "Bangalore           1036.187890  Bangalore\n",
       "Pune                 979.858904       Pune"
      ]
     },
     "execution_count": 59,
     "metadata": {
      "tags": []
     },
     "output_type": "execute_result"
    }
   ],
   "source": [
    "save_costly=data[['city','average_cost_for_two']].groupby(['city']).mean()\n",
    "\n",
    "values_for_graph=save_costly.sort_values(by=['average_cost_for_two'],ascending=False).head(5)\n",
    "\n",
    "values_for_graph['city']=values_for_graph.index\n",
    "\n",
    "values_for_graph"
   ]
  },
  {
   "cell_type": "markdown",
   "metadata": {
    "colab_type": "text",
    "id": "XtZQJyxQCFFf"
   },
   "source": [
    "Inference-\n",
    "\n",
    "        Obtaining the top5 cities having the highest avgerage cost for two people"
   ]
  },
  {
   "cell_type": "code",
   "execution_count": 60,
   "metadata": {
    "colab": {
     "base_uri": "https://localhost:8080/",
     "height": 0
    },
    "colab_type": "code",
    "id": "QmXQyiz8CFFf",
    "outputId": "dcf85759-5e7b-4752-8c91-3a1061147d4f"
   },
   "outputs": [
    {
     "data": {
      "text/plain": [
       "<matplotlib.axes._subplots.AxesSubplot at 0x7fd87f99e4a8>"
      ]
     },
     "execution_count": 60,
     "metadata": {
      "tags": []
     },
     "output_type": "execute_result"
    },
    {
     "data": {
      "image/png": "[encoded data removed]",
      "text/plain": [
       "<Figure size 432x288 with 1 Axes>"
      ]
     },
     "metadata": {
      "tags": []
     },
     "output_type": "display_data"
    }
   ],
   "source": [
    "sns.barplot(x='city',y='average_cost_for_two',data=values_for_graph)"
   ]
  },
  {
   "cell_type": "markdown",
   "metadata": {
    "colab_type": "text",
    "id": "V7FqrcfsCFFj"
   },
   "source": [
    "Inference-\n",
    "\n",
    "        plotting a graph for better understanding"
   ]
  },
  {
   "cell_type": "markdown",
   "metadata": {
    "colab_type": "text",
    "id": "213gm0JWCFFk"
   },
   "source": [
    "### 2.  Comparing regions"
   ]
  },
  {
   "cell_type": "markdown",
   "metadata": {
    "colab_type": "text",
    "id": "vVrBol4LCFFk"
   },
   "source": [
    "### 2a. Highlights available in restaurants for different regions"
   ]
  },
  {
   "cell_type": "markdown",
   "metadata": {
    "colab_type": "text",
    "id": "2tPUNu0sCFFl"
   },
   "source": [
    "To cater our analysis we define the regions as nothern, eastern, western and southern."
   ]
  },
  {
   "cell_type": "markdown",
   "metadata": {
    "colab_type": "text",
    "id": "fDedI7ltCFFl"
   },
   "source": [
    "We first need to select the unique facilities available in each region and sort according to their frequencies."
   ]
  },
  {
   "cell_type": "markdown",
   "metadata": {
    "colab_type": "text",
    "id": "j3ttxS9ACFFl"
   },
   "source": [
    "**Highlights of the northern region**"
   ]
  },
  {
   "cell_type": "code",
   "execution_count": 61,
   "metadata": {
    "colab": {
     "base_uri": "https://localhost:8080/",
     "height": 0
    },
    "colab_type": "code",
    "id": "u-wxub0xCFFm",
    "outputId": "979f8031-c5e5-45b2-bd5b-781117cc335b"
   },
   "outputs": [
    {
     "data": {
      "text/html": [
       "<div>\n",
       "<style scoped>\n",
       "    .dataframe tbody tr th:only-of-type {\n",
       "        vertical-align: middle;\n",
       "    }\n",
       "\n",
       "    .dataframe tbody tr th {\n",
       "        vertical-align: top;\n",
       "    }\n",
       "\n",
       "    .dataframe thead th {\n",
       "        text-align: right;\n",
       "    }\n",
       "</style>\n",
       "<table border=\"1\" class=\"dataframe\">\n",
       "  <thead>\n",
       "    <tr style=\"text-align: right;\">\n",
       "      <th></th>\n",
       "      <th>Facility</th>\n",
       "      <th>frequency</th>\n",
       "    </tr>\n",
       "  </thead>\n",
       "  <tbody>\n",
       "    <tr>\n",
       "      <th>54</th>\n",
       "      <td>Cash</td>\n",
       "      <td>58515.0</td>\n",
       "    </tr>\n",
       "    <tr>\n",
       "      <th>18</th>\n",
       "      <td>Takeaway Available</td>\n",
       "      <td>53133.0</td>\n",
       "    </tr>\n",
       "    <tr>\n",
       "      <th>84</th>\n",
       "      <td>Indoor Seating</td>\n",
       "      <td>50291.0</td>\n",
       "    </tr>\n",
       "    <tr>\n",
       "      <th>65</th>\n",
       "      <td>Dinner</td>\n",
       "      <td>50027.0</td>\n",
       "    </tr>\n",
       "    <tr>\n",
       "      <th>56</th>\n",
       "      <td>Lunch</td>\n",
       "      <td>49720.0</td>\n",
       "    </tr>\n",
       "    <tr>\n",
       "      <th>...</th>\n",
       "      <td>...</td>\n",
       "      <td>...</td>\n",
       "    </tr>\n",
       "    <tr>\n",
       "      <th>83</th>\n",
       "      <td>Wine Tasting</td>\n",
       "      <td>6.0</td>\n",
       "    </tr>\n",
       "    <tr>\n",
       "      <th>33</th>\n",
       "      <td>Unlimited Pizza</td>\n",
       "      <td>5.0</td>\n",
       "    </tr>\n",
       "    <tr>\n",
       "      <th>34</th>\n",
       "      <td>Couple Entry Only</td>\n",
       "      <td>3.0</td>\n",
       "    </tr>\n",
       "    <tr>\n",
       "      <th>63</th>\n",
       "      <td>Members Only</td>\n",
       "      <td>2.0</td>\n",
       "    </tr>\n",
       "    <tr>\n",
       "      <th>14</th>\n",
       "      <td>nan</td>\n",
       "      <td>0.0</td>\n",
       "    </tr>\n",
       "  </tbody>\n",
       "</table>\n",
       "<p>96 rows × 2 columns</p>\n",
       "</div>"
      ],
      "text/plain": [
       "              Facility  frequency\n",
       "54                Cash    58515.0\n",
       "18  Takeaway Available    53133.0\n",
       "84      Indoor Seating    50291.0\n",
       "65              Dinner    50027.0\n",
       "56               Lunch    49720.0\n",
       "..                 ...        ...\n",
       "83        Wine Tasting        6.0\n",
       "33     Unlimited Pizza        5.0\n",
       "34   Couple Entry Only        3.0\n",
       "63        Members Only        2.0\n",
       "14                 nan        0.0\n",
       "\n",
       "[96 rows x 2 columns]"
      ]
     },
     "execution_count": 61,
     "metadata": {
      "tags": []
     },
     "output_type": "execute_result"
    }
   ],
   "source": [
    "data_high_north=(data[['highlights']][data.region=='north'])\n",
    "ans_north=(highlights(data_high_north.highlights))\n",
    "store_inter_north=[]\n",
    "\n",
    "df_highlights_north=pd.DataFrame(ans_north,columns=['Facility'])\n",
    "\n",
    "for i in ans_north:\n",
    "    store_inter_north.append(data_high_north['highlights'].str.count(i).sum())\n",
    "\n",
    "df_highlights_north['frequency']=store_inter_north\n",
    "df_highlights_north.sort_values(by=['frequency'],ascending=False)"
   ]
  },
  {
   "cell_type": "markdown",
   "metadata": {
    "colab_type": "text",
    "id": "e5xSfT1ECFFo"
   },
   "source": [
    "Inference-\n",
    "\n",
    "        Getting the highest frequency facility used in North region "
   ]
  },
  {
   "cell_type": "markdown",
   "metadata": {
    "colab_type": "text",
    "id": "fqLcOHz3CFFo"
   },
   "source": [
    "**Highlights of the eastern region**"
   ]
  },
  {
   "cell_type": "code",
   "execution_count": 62,
   "metadata": {
    "colab": {
     "base_uri": "https://localhost:8080/",
     "height": 0
    },
    "colab_type": "code",
    "id": "Se7AjmHzCFFp",
    "outputId": "35297ad0-33bf-4e93-fa28-8a741dc6f3c8"
   },
   "outputs": [
    {
     "data": {
      "text/html": [
       "<div>\n",
       "<style scoped>\n",
       "    .dataframe tbody tr th:only-of-type {\n",
       "        vertical-align: middle;\n",
       "    }\n",
       "\n",
       "    .dataframe tbody tr th {\n",
       "        vertical-align: top;\n",
       "    }\n",
       "\n",
       "    .dataframe thead th {\n",
       "        text-align: right;\n",
       "    }\n",
       "</style>\n",
       "<table border=\"1\" class=\"dataframe\">\n",
       "  <thead>\n",
       "    <tr style=\"text-align: right;\">\n",
       "      <th></th>\n",
       "      <th>Facility</th>\n",
       "      <th>frequency</th>\n",
       "    </tr>\n",
       "  </thead>\n",
       "  <tbody>\n",
       "    <tr>\n",
       "      <th>53</th>\n",
       "      <td>Cash</td>\n",
       "      <td>22216.0</td>\n",
       "    </tr>\n",
       "    <tr>\n",
       "      <th>19</th>\n",
       "      <td>Takeaway Available</td>\n",
       "      <td>19738.0</td>\n",
       "    </tr>\n",
       "    <tr>\n",
       "      <th>81</th>\n",
       "      <td>Indoor Seating</td>\n",
       "      <td>18827.0</td>\n",
       "    </tr>\n",
       "    <tr>\n",
       "      <th>63</th>\n",
       "      <td>Dinner</td>\n",
       "      <td>17892.0</td>\n",
       "    </tr>\n",
       "    <tr>\n",
       "      <th>55</th>\n",
       "      <td>Lunch</td>\n",
       "      <td>17661.0</td>\n",
       "    </tr>\n",
       "    <tr>\n",
       "      <th>...</th>\n",
       "      <td>...</td>\n",
       "      <td>...</td>\n",
       "    </tr>\n",
       "    <tr>\n",
       "      <th>68</th>\n",
       "      <td>Entry Fee</td>\n",
       "      <td>8.0</td>\n",
       "    </tr>\n",
       "    <tr>\n",
       "      <th>88</th>\n",
       "      <td>Seaside</td>\n",
       "      <td>5.0</td>\n",
       "    </tr>\n",
       "    <tr>\n",
       "      <th>77</th>\n",
       "      <td>Dark Kitchen</td>\n",
       "      <td>3.0</td>\n",
       "    </tr>\n",
       "    <tr>\n",
       "      <th>91</th>\n",
       "      <td>Gin Bar</td>\n",
       "      <td>3.0</td>\n",
       "    </tr>\n",
       "    <tr>\n",
       "      <th>15</th>\n",
       "      <td>nan</td>\n",
       "      <td>0.0</td>\n",
       "    </tr>\n",
       "  </tbody>\n",
       "</table>\n",
       "<p>94 rows × 2 columns</p>\n",
       "</div>"
      ],
      "text/plain": [
       "              Facility  frequency\n",
       "53                Cash    22216.0\n",
       "19  Takeaway Available    19738.0\n",
       "81      Indoor Seating    18827.0\n",
       "63              Dinner    17892.0\n",
       "55               Lunch    17661.0\n",
       "..                 ...        ...\n",
       "68           Entry Fee        8.0\n",
       "88             Seaside        5.0\n",
       "77        Dark Kitchen        3.0\n",
       "91             Gin Bar        3.0\n",
       "15                 nan        0.0\n",
       "\n",
       "[94 rows x 2 columns]"
      ]
     },
     "execution_count": 62,
     "metadata": {
      "tags": []
     },
     "output_type": "execute_result"
    }
   ],
   "source": [
    "data_high_east=(data[['highlights']][data.region=='east'])\n",
    "ans_east=(highlights(data_high_east.highlights))\n",
    "store_inter_east=[]\n",
    "\n",
    "df_highlights_east=pd.DataFrame(ans_east,columns=['Facility'])\n",
    "for i in ans_east:\n",
    "    store_inter_east.append(data_high_east['highlights'].str.count(i).sum())\n",
    "\n",
    "df_highlights_east['frequency']=store_inter_east\n",
    "df_highlights_east.sort_values(by=['frequency'],ascending=False)"
   ]
  },
  {
   "cell_type": "markdown",
   "metadata": {
    "colab_type": "text",
    "id": "FaF19Wq3CFFr"
   },
   "source": [
    "Inference-\n",
    "\n",
    "        Getting the highest frequency facility used in east region "
   ]
  },
  {
   "cell_type": "markdown",
   "metadata": {
    "colab_type": "text",
    "id": "jt4KG0kOCFFr"
   },
   "source": [
    "**Highlights of the southern region**"
   ]
  },
  {
   "cell_type": "code",
   "execution_count": 63,
   "metadata": {
    "colab": {
     "base_uri": "https://localhost:8080/",
     "height": 0
    },
    "colab_type": "code",
    "id": "7cnUNEOiCFFr",
    "outputId": "9aa224ae-8fb9-497d-d657-1d460a9c336f"
   },
   "outputs": [
    {
     "data": {
      "text/html": [
       "<div>\n",
       "<style scoped>\n",
       "    .dataframe tbody tr th:only-of-type {\n",
       "        vertical-align: middle;\n",
       "    }\n",
       "\n",
       "    .dataframe tbody tr th {\n",
       "        vertical-align: top;\n",
       "    }\n",
       "\n",
       "    .dataframe thead th {\n",
       "        text-align: right;\n",
       "    }\n",
       "</style>\n",
       "<table border=\"1\" class=\"dataframe\">\n",
       "  <thead>\n",
       "    <tr style=\"text-align: right;\">\n",
       "      <th></th>\n",
       "      <th>Facility</th>\n",
       "      <th>frequency</th>\n",
       "    </tr>\n",
       "  </thead>\n",
       "  <tbody>\n",
       "    <tr>\n",
       "      <th>55</th>\n",
       "      <td>Cash</td>\n",
       "      <td>57267.0</td>\n",
       "    </tr>\n",
       "    <tr>\n",
       "      <th>86</th>\n",
       "      <td>Indoor Seating</td>\n",
       "      <td>52273.0</td>\n",
       "    </tr>\n",
       "    <tr>\n",
       "      <th>19</th>\n",
       "      <td>Takeaway Available</td>\n",
       "      <td>51346.0</td>\n",
       "    </tr>\n",
       "    <tr>\n",
       "      <th>66</th>\n",
       "      <td>Dinner</td>\n",
       "      <td>48379.0</td>\n",
       "    </tr>\n",
       "    <tr>\n",
       "      <th>57</th>\n",
       "      <td>Lunch</td>\n",
       "      <td>47381.0</td>\n",
       "    </tr>\n",
       "    <tr>\n",
       "      <th>...</th>\n",
       "      <td>...</td>\n",
       "      <td>...</td>\n",
       "    </tr>\n",
       "    <tr>\n",
       "      <th>35</th>\n",
       "      <td>Couple Entry Only</td>\n",
       "      <td>7.0</td>\n",
       "    </tr>\n",
       "    <tr>\n",
       "      <th>50</th>\n",
       "      <td>Celebrity Frequented</td>\n",
       "      <td>3.0</td>\n",
       "    </tr>\n",
       "    <tr>\n",
       "      <th>64</th>\n",
       "      <td>Members Only</td>\n",
       "      <td>2.0</td>\n",
       "    </tr>\n",
       "    <tr>\n",
       "      <th>81</th>\n",
       "      <td>Dark Kitchen</td>\n",
       "      <td>1.0</td>\n",
       "    </tr>\n",
       "    <tr>\n",
       "      <th>15</th>\n",
       "      <td>nan</td>\n",
       "      <td>0.0</td>\n",
       "    </tr>\n",
       "  </tbody>\n",
       "</table>\n",
       "<p>99 rows × 2 columns</p>\n",
       "</div>"
      ],
      "text/plain": [
       "                Facility  frequency\n",
       "55                  Cash    57267.0\n",
       "86        Indoor Seating    52273.0\n",
       "19    Takeaway Available    51346.0\n",
       "66                Dinner    48379.0\n",
       "57                 Lunch    47381.0\n",
       "..                   ...        ...\n",
       "35     Couple Entry Only        7.0\n",
       "50  Celebrity Frequented        3.0\n",
       "64          Members Only        2.0\n",
       "81          Dark Kitchen        1.0\n",
       "15                   nan        0.0\n",
       "\n",
       "[99 rows x 2 columns]"
      ]
     },
     "execution_count": 63,
     "metadata": {
      "tags": []
     },
     "output_type": "execute_result"
    }
   ],
   "source": [
    "data_high_south=(data[['highlights']][data.region=='south'])\n",
    "ans_south=(highlights(data_high_south.highlights))\n",
    "store_inter_south=[]\n",
    "\n",
    "df_highlights_south=pd.DataFrame(ans_south,columns=['Facility'])\n",
    "for i in ans_south:\n",
    "    store_inter_south.append(data_high_south['highlights'].str.count(i).sum())\n",
    "\n",
    "df_highlights_south['frequency']=store_inter_south\n",
    "df_highlights_south.sort_values(by=['frequency'],ascending=False)"
   ]
  },
  {
   "cell_type": "markdown",
   "metadata": {
    "colab_type": "text",
    "id": "wx2PQq0gCFFu"
   },
   "source": [
    "Inference-\n",
    "\n",
    "        Getting the highest frequency used in south region "
   ]
  },
  {
   "cell_type": "markdown",
   "metadata": {
    "colab_type": "text",
    "id": "-m8n2ZB2CFFu"
   },
   "source": [
    "**Highlights of the western region**"
   ]
  },
  {
   "cell_type": "code",
   "execution_count": 64,
   "metadata": {
    "colab": {
     "base_uri": "https://localhost:8080/",
     "height": 0
    },
    "colab_type": "code",
    "id": "rKUnXUpbCFFv",
    "outputId": "0245c2f6-21ed-4c4f-fbd8-5fbd7b6ad2da"
   },
   "outputs": [
    {
     "data": {
      "text/html": [
       "<div>\n",
       "<style scoped>\n",
       "    .dataframe tbody tr th:only-of-type {\n",
       "        vertical-align: middle;\n",
       "    }\n",
       "\n",
       "    .dataframe tbody tr th {\n",
       "        vertical-align: top;\n",
       "    }\n",
       "\n",
       "    .dataframe thead th {\n",
       "        text-align: right;\n",
       "    }\n",
       "</style>\n",
       "<table border=\"1\" class=\"dataframe\">\n",
       "  <thead>\n",
       "    <tr style=\"text-align: right;\">\n",
       "      <th></th>\n",
       "      <th>Facility</th>\n",
       "      <th>frequency</th>\n",
       "    </tr>\n",
       "  </thead>\n",
       "  <tbody>\n",
       "    <tr>\n",
       "      <th>56</th>\n",
       "      <td>Cash</td>\n",
       "      <td>65038.0</td>\n",
       "    </tr>\n",
       "    <tr>\n",
       "      <th>20</th>\n",
       "      <td>Takeaway Available</td>\n",
       "      <td>56725.0</td>\n",
       "    </tr>\n",
       "    <tr>\n",
       "      <th>88</th>\n",
       "      <td>Indoor Seating</td>\n",
       "      <td>54005.0</td>\n",
       "    </tr>\n",
       "    <tr>\n",
       "      <th>67</th>\n",
       "      <td>Dinner</td>\n",
       "      <td>52993.0</td>\n",
       "    </tr>\n",
       "    <tr>\n",
       "      <th>58</th>\n",
       "      <td>Lunch</td>\n",
       "      <td>50783.0</td>\n",
       "    </tr>\n",
       "    <tr>\n",
       "      <th>...</th>\n",
       "      <td>...</td>\n",
       "      <td>...</td>\n",
       "    </tr>\n",
       "    <tr>\n",
       "      <th>10</th>\n",
       "      <td>Subscription Required</td>\n",
       "      <td>3.0</td>\n",
       "    </tr>\n",
       "    <tr>\n",
       "      <th>64</th>\n",
       "      <td>Subscription Available</td>\n",
       "      <td>3.0</td>\n",
       "    </tr>\n",
       "    <tr>\n",
       "      <th>74</th>\n",
       "      <td>Bira 91 Beer</td>\n",
       "      <td>2.0</td>\n",
       "    </tr>\n",
       "    <tr>\n",
       "      <th>83</th>\n",
       "      <td>Dark Kitchen</td>\n",
       "      <td>1.0</td>\n",
       "    </tr>\n",
       "    <tr>\n",
       "      <th>16</th>\n",
       "      <td>nan</td>\n",
       "      <td>0.0</td>\n",
       "    </tr>\n",
       "  </tbody>\n",
       "</table>\n",
       "<p>101 rows × 2 columns</p>\n",
       "</div>"
      ],
      "text/plain": [
       "                  Facility  frequency\n",
       "56                    Cash    65038.0\n",
       "20      Takeaway Available    56725.0\n",
       "88          Indoor Seating    54005.0\n",
       "67                  Dinner    52993.0\n",
       "58                   Lunch    50783.0\n",
       "..                     ...        ...\n",
       "10   Subscription Required        3.0\n",
       "64  Subscription Available        3.0\n",
       "74            Bira 91 Beer        2.0\n",
       "83            Dark Kitchen        1.0\n",
       "16                     nan        0.0\n",
       "\n",
       "[101 rows x 2 columns]"
      ]
     },
     "execution_count": 64,
     "metadata": {
      "tags": []
     },
     "output_type": "execute_result"
    }
   ],
   "source": [
    "data_high_west=(data[['highlights']][data.region=='west'])\n",
    "ans_west=(highlights(data_high_west.highlights))\n",
    "store_inter_west=[]\n",
    "\n",
    "df_highlights_west=pd.DataFrame(ans_west,columns=['Facility'])\n",
    "for i in ans_west:\n",
    "    store_inter_west.append(data_high_west['highlights'].str.count(i).sum())\n",
    "\n",
    "df_highlights_west['frequency']=store_inter_west\n",
    "df_highlights_west.sort_values(by=['frequency'],ascending=False)"
   ]
  },
  {
   "cell_type": "markdown",
   "metadata": {
    "colab_type": "text",
    "id": "lwrHPNtECFFx"
   },
   "source": [
    "Inference-\n",
    "\n",
    "        Getting the highest frequency facility used in west region "
   ]
  },
  {
   "cell_type": "markdown",
   "metadata": {
    "colab_type": "text",
    "id": "IHSY0Xj_CFFx"
   },
   "source": [
    "#### Plot the barplot for different regions"
   ]
  },
  {
   "cell_type": "markdown",
   "metadata": {
    "colab_type": "text",
    "id": "PsLa1i1QCFFy"
   },
   "source": [
    "We shall now plot the graphs for top 10 highlights."
   ]
  },
  {
   "cell_type": "code",
   "execution_count": 65,
   "metadata": {
    "colab": {
     "base_uri": "https://localhost:8080/",
     "height": 0
    },
    "colab_type": "code",
    "id": "L_2JbARQCFFy",
    "outputId": "9ffc2c22-e027-4c04-8d64-589f210d8703"
   },
   "outputs": [
    {
     "data": {
      "text/plain": [
       "<matplotlib.axes._subplots.AxesSubplot at 0x7fd87f6119b0>"
      ]
     },
     "execution_count": 65,
     "metadata": {
      "tags": []
     },
     "output_type": "execute_result"
    },
    {
     "data": {
      "image/png": "[encoded data removed]",
      "text/plain": [
       "<Figure size 432x288 with 1 Axes>"
      ]
     },
     "metadata": {
      "tags": []
     },
     "output_type": "display_data"
    }
   ],
   "source": [
    "#for NORTH\n",
    "\n",
    "import seaborn as sns\n",
    "save_north=df_highlights_north.sort_values(by=['frequency'],ascending=False).head(10)\n",
    "sns.barplot(x='Facility',y='frequency',data=save_north)"
   ]
  },
  {
   "cell_type": "code",
   "execution_count": 66,
   "metadata": {
    "colab": {
     "base_uri": "https://localhost:8080/",
     "height": 0
    },
    "colab_type": "code",
    "id": "NWt2t9bmCFF0",
    "outputId": "366daefe-3389-410d-d2ca-3510d12937eb"
   },
   "outputs": [
    {
     "data": {
      "text/plain": [
       "<matplotlib.axes._subplots.AxesSubplot at 0x7fd87f647160>"
      ]
     },
     "execution_count": 66,
     "metadata": {
      "tags": []
     },
     "output_type": "execute_result"
    },
    {
     "data": {
      "image/png": "[encoded data removed]",
      "text/plain": [
       "<Figure size 432x288 with 1 Axes>"
      ]
     },
     "metadata": {
      "tags": []
     },
     "output_type": "display_data"
    }
   ],
   "source": [
    "#for EAST\n",
    "\n",
    "import seaborn as sns\n",
    "save_east=df_highlights_east.sort_values(by=['frequency'],ascending=False).head(10)\n",
    "sns.barplot(x='Facility',y='frequency',data=save_east)"
   ]
  },
  {
   "cell_type": "code",
   "execution_count": 67,
   "metadata": {
    "colab": {
     "base_uri": "https://localhost:8080/",
     "height": 0
    },
    "colab_type": "code",
    "id": "aDsYrfVCCFF2",
    "outputId": "23cb18b3-8a2d-4809-f3fb-a0ca94e4452b"
   },
   "outputs": [
    {
     "data": {
      "text/plain": [
       "<matplotlib.axes._subplots.AxesSubplot at 0x7fd87f507c18>"
      ]
     },
     "execution_count": 67,
     "metadata": {
      "tags": []
     },
     "output_type": "execute_result"
    },
    {
     "data": {
      "image/png": "[encoded data removed]",
      "text/plain": [
       "<Figure size 432x288 with 1 Axes>"
      ]
     },
     "metadata": {
      "tags": []
     },
     "output_type": "display_data"
    }
   ],
   "source": [
    "#for SOUTH\n",
    "import seaborn as sns\n",
    "save_south=df_highlights_south.sort_values(by=['frequency'],ascending=False).head(10)\n",
    "sns.barplot(x='Facility',y='frequency',data=save_south)"
   ]
  },
  {
   "cell_type": "code",
   "execution_count": 68,
   "metadata": {
    "colab": {
     "base_uri": "https://localhost:8080/",
     "height": 0
    },
    "colab_type": "code",
    "id": "I_reEcmUCFF3",
    "outputId": "18e22622-6e7b-4802-d9ca-b4c382473814"
   },
   "outputs": [
    {
     "data": {
      "text/plain": [
       "<matplotlib.axes._subplots.AxesSubplot at 0x7fd87f4117f0>"
      ]
     },
     "execution_count": 68,
     "metadata": {
      "tags": []
     },
     "output_type": "execute_result"
    },
    {
     "data": {
      "image/png": "[encoded data removed]",
      "text/plain": [
       "<Figure size 432x288 with 1 Axes>"
      ]
     },
     "metadata": {
      "tags": []
     },
     "output_type": "display_data"
    }
   ],
   "source": [
    "#for WEST\n",
    "import seaborn as sns\n",
    "save_west=df_highlights_west.sort_values(by=['frequency'],ascending=False).head(10)\n",
    "sns.barplot(x='Facility',y='frequency',data=save_west)"
   ]
  },
  {
   "cell_type": "markdown",
   "metadata": {
    "colab_type": "text",
    "id": "-X31bTktCFF5"
   },
   "source": [
    "Inference-\n",
    "\n",
    "        Plotting the graphs for the respective regions namely - NORTH,SOUTH,EAST,WEST for top 10 facilities used in these regions"
   ]
  },
  {
   "cell_type": "markdown",
   "metadata": {
    "colab_type": "text",
    "id": "zk1d5j3nCFF5"
   },
   "source": [
    "\n",
    "### 2b. Cuisines available in restaurants for different regions"
   ]
  },
  {
   "cell_type": "markdown",
   "metadata": {
    "colab_type": "text",
    "id": "lIWdgQLMCFF6"
   },
   "source": [
    "**Cuisines in the northern region**"
   ]
  },
  {
   "cell_type": "code",
   "execution_count": 69,
   "metadata": {
    "colab": {
     "base_uri": "https://localhost:8080/",
     "height": 0
    },
    "colab_type": "code",
    "id": "esl3U2xTCFF6",
    "outputId": "c319da03-c381-4f0c-a57a-20037eb15072",
    "scrolled": true
   },
   "outputs": [
    {
     "data": {
      "text/html": [
       "<div>\n",
       "<style scoped>\n",
       "    .dataframe tbody tr th:only-of-type {\n",
       "        vertical-align: middle;\n",
       "    }\n",
       "\n",
       "    .dataframe tbody tr th {\n",
       "        vertical-align: top;\n",
       "    }\n",
       "\n",
       "    .dataframe thead th {\n",
       "        text-align: right;\n",
       "    }\n",
       "</style>\n",
       "<table border=\"1\" class=\"dataframe\">\n",
       "  <thead>\n",
       "    <tr style=\"text-align: right;\">\n",
       "      <th></th>\n",
       "      <th>cuisines</th>\n",
       "      <th>frequency</th>\n",
       "    </tr>\n",
       "  </thead>\n",
       "  <tbody>\n",
       "    <tr>\n",
       "      <th>35</th>\n",
       "      <td>Indian</td>\n",
       "      <td>34304.0</td>\n",
       "    </tr>\n",
       "    <tr>\n",
       "      <th>36</th>\n",
       "      <td>North Indian</td>\n",
       "      <td>28006.0</td>\n",
       "    </tr>\n",
       "    <tr>\n",
       "      <th>84</th>\n",
       "      <td>Chinese</td>\n",
       "      <td>16763.0</td>\n",
       "    </tr>\n",
       "    <tr>\n",
       "      <th>55</th>\n",
       "      <td>Fast Food</td>\n",
       "      <td>15757.0</td>\n",
       "    </tr>\n",
       "    <tr>\n",
       "      <th>65</th>\n",
       "      <td>Continental</td>\n",
       "      <td>7389.0</td>\n",
       "    </tr>\n",
       "    <tr>\n",
       "      <th>...</th>\n",
       "      <td>...</td>\n",
       "      <td>...</td>\n",
       "    </tr>\n",
       "    <tr>\n",
       "      <th>17</th>\n",
       "      <td>South American</td>\n",
       "      <td>2.0</td>\n",
       "    </tr>\n",
       "    <tr>\n",
       "      <th>95</th>\n",
       "      <td>Cafe Food</td>\n",
       "      <td>1.0</td>\n",
       "    </tr>\n",
       "    <tr>\n",
       "      <th>46</th>\n",
       "      <td>Swedish</td>\n",
       "      <td>1.0</td>\n",
       "    </tr>\n",
       "    <tr>\n",
       "      <th>45</th>\n",
       "      <td>Pan Asian</td>\n",
       "      <td>1.0</td>\n",
       "    </tr>\n",
       "    <tr>\n",
       "      <th>14</th>\n",
       "      <td>nan</td>\n",
       "      <td>0.0</td>\n",
       "    </tr>\n",
       "  </tbody>\n",
       "</table>\n",
       "<p>114 rows × 2 columns</p>\n",
       "</div>"
      ],
      "text/plain": [
       "          cuisines  frequency\n",
       "35          Indian    34304.0\n",
       "36    North Indian    28006.0\n",
       "84         Chinese    16763.0\n",
       "55       Fast Food    15757.0\n",
       "65     Continental     7389.0\n",
       "..             ...        ...\n",
       "17  South American        2.0\n",
       "95       Cafe Food        1.0\n",
       "46         Swedish        1.0\n",
       "45       Pan Asian        1.0\n",
       "14             nan        0.0\n",
       "\n",
       "[114 rows x 2 columns]"
      ]
     },
     "execution_count": 69,
     "metadata": {
      "tags": []
     },
     "output_type": "execute_result"
    }
   ],
   "source": [
    "data_cui_north=(data[['cuisines']][data.region=='north'])\n",
    "ans_north=(cuisines(data_cui_north.cuisines))\n",
    "store_inter_north=[]\n",
    "\n",
    "df_cui_north=pd.DataFrame(ans_north,columns=['cuisines'])\n",
    "\n",
    "for i in ans_north:\n",
    "    store_inter_north.append(data_cui_north['cuisines'].str.count(i).sum())\n",
    "\n",
    "df_cui_north['frequency']=store_inter_north\n",
    "df_cui_north.sort_values(by=['frequency'],ascending=False)"
   ]
  },
  {
   "cell_type": "markdown",
   "metadata": {
    "colab_type": "text",
    "id": "RJaYydP8CFF8"
   },
   "source": [
    "Inference-\n",
    "\n",
    "        Getting the highest frequency of cuisine in north region "
   ]
  },
  {
   "cell_type": "markdown",
   "metadata": {
    "colab_type": "text",
    "id": "yITChtw9CFF8"
   },
   "source": [
    "**Cuisines in the eastern region**"
   ]
  },
  {
   "cell_type": "code",
   "execution_count": 70,
   "metadata": {
    "colab": {
     "base_uri": "https://localhost:8080/",
     "height": 0
    },
    "colab_type": "code",
    "id": "_lFHh2ILCFF9",
    "outputId": "506ec4c7-e5a5-4124-df70-fde00fe06c9b"
   },
   "outputs": [
    {
     "data": {
      "text/html": [
       "<div>\n",
       "<style scoped>\n",
       "    .dataframe tbody tr th:only-of-type {\n",
       "        vertical-align: middle;\n",
       "    }\n",
       "\n",
       "    .dataframe tbody tr th {\n",
       "        vertical-align: top;\n",
       "    }\n",
       "\n",
       "    .dataframe thead th {\n",
       "        text-align: right;\n",
       "    }\n",
       "</style>\n",
       "<table border=\"1\" class=\"dataframe\">\n",
       "  <thead>\n",
       "    <tr style=\"text-align: right;\">\n",
       "      <th></th>\n",
       "      <th>cuisines</th>\n",
       "      <th>frequency</th>\n",
       "    </tr>\n",
       "  </thead>\n",
       "  <tbody>\n",
       "    <tr>\n",
       "      <th>32</th>\n",
       "      <td>Indian</td>\n",
       "      <td>12113.0</td>\n",
       "    </tr>\n",
       "    <tr>\n",
       "      <th>33</th>\n",
       "      <td>North Indian</td>\n",
       "      <td>9579.0</td>\n",
       "    </tr>\n",
       "    <tr>\n",
       "      <th>74</th>\n",
       "      <td>Chinese</td>\n",
       "      <td>8892.0</td>\n",
       "    </tr>\n",
       "    <tr>\n",
       "      <th>48</th>\n",
       "      <td>Fast Food</td>\n",
       "      <td>4849.0</td>\n",
       "    </tr>\n",
       "    <tr>\n",
       "      <th>23</th>\n",
       "      <td>Biryani</td>\n",
       "      <td>3350.0</td>\n",
       "    </tr>\n",
       "    <tr>\n",
       "      <th>...</th>\n",
       "      <td>...</td>\n",
       "      <td>...</td>\n",
       "    </tr>\n",
       "    <tr>\n",
       "      <th>41</th>\n",
       "      <td>Hot dogs</td>\n",
       "      <td>1.0</td>\n",
       "    </tr>\n",
       "    <tr>\n",
       "      <th>3</th>\n",
       "      <td>Mangalorean</td>\n",
       "      <td>1.0</td>\n",
       "    </tr>\n",
       "    <tr>\n",
       "      <th>83</th>\n",
       "      <td>African</td>\n",
       "      <td>1.0</td>\n",
       "    </tr>\n",
       "    <tr>\n",
       "      <th>100</th>\n",
       "      <td>Fried Chicken</td>\n",
       "      <td>1.0</td>\n",
       "    </tr>\n",
       "    <tr>\n",
       "      <th>14</th>\n",
       "      <td>nan</td>\n",
       "      <td>0.0</td>\n",
       "    </tr>\n",
       "  </tbody>\n",
       "</table>\n",
       "<p>101 rows × 2 columns</p>\n",
       "</div>"
      ],
      "text/plain": [
       "          cuisines  frequency\n",
       "32          Indian    12113.0\n",
       "33    North Indian     9579.0\n",
       "74         Chinese     8892.0\n",
       "48       Fast Food     4849.0\n",
       "23         Biryani     3350.0\n",
       "..             ...        ...\n",
       "41        Hot dogs        1.0\n",
       "3      Mangalorean        1.0\n",
       "83         African        1.0\n",
       "100  Fried Chicken        1.0\n",
       "14             nan        0.0\n",
       "\n",
       "[101 rows x 2 columns]"
      ]
     },
     "execution_count": 70,
     "metadata": {
      "tags": []
     },
     "output_type": "execute_result"
    }
   ],
   "source": [
    "data_cui_east=(data[['cuisines']][data.region=='east'])\n",
    "ans_east=(cuisines(data_cui_east.cuisines))\n",
    "store_inter_east=[]\n",
    "\n",
    "df_cui_east=pd.DataFrame(ans_east,columns=['cuisines'])\n",
    "for i in ans_east:\n",
    "    store_inter_east.append(data_cui_east['cuisines'].str.count(i).sum())\n",
    "\n",
    "df_cui_east['frequency']=store_inter_east\n",
    "df_cui_east.sort_values(by=['frequency'],ascending=False)"
   ]
  },
  {
   "cell_type": "markdown",
   "metadata": {
    "colab_type": "text",
    "id": "GPNrZpIjCFGA"
   },
   "source": [
    "Inference-\n",
    "\n",
    "        Getting the highest frequency of cuisine in east region "
   ]
  },
  {
   "cell_type": "markdown",
   "metadata": {
    "colab_type": "text",
    "id": "MFAvZ49nCFGA"
   },
   "source": [
    "**Cuisines in the southern region**"
   ]
  },
  {
   "cell_type": "code",
   "execution_count": 71,
   "metadata": {
    "colab": {
     "base_uri": "https://localhost:8080/",
     "height": 0
    },
    "colab_type": "code",
    "id": "4vgfSi8qCFGA",
    "outputId": "45e4d861-774e-41f3-ab39-6042fe0a7b07"
   },
   "outputs": [
    {
     "data": {
      "text/html": [
       "<div>\n",
       "<style scoped>\n",
       "    .dataframe tbody tr th:only-of-type {\n",
       "        vertical-align: middle;\n",
       "    }\n",
       "\n",
       "    .dataframe tbody tr th {\n",
       "        vertical-align: top;\n",
       "    }\n",
       "\n",
       "    .dataframe thead th {\n",
       "        text-align: right;\n",
       "    }\n",
       "</style>\n",
       "<table border=\"1\" class=\"dataframe\">\n",
       "  <thead>\n",
       "    <tr style=\"text-align: right;\">\n",
       "      <th></th>\n",
       "      <th>cuisines</th>\n",
       "      <th>frequency</th>\n",
       "    </tr>\n",
       "  </thead>\n",
       "  <tbody>\n",
       "    <tr>\n",
       "      <th>38</th>\n",
       "      <td>Indian</td>\n",
       "      <td>37517.0</td>\n",
       "    </tr>\n",
       "    <tr>\n",
       "      <th>40</th>\n",
       "      <td>North Indian</td>\n",
       "      <td>20263.0</td>\n",
       "    </tr>\n",
       "    <tr>\n",
       "      <th>22</th>\n",
       "      <td>South Indian</td>\n",
       "      <td>16558.0</td>\n",
       "    </tr>\n",
       "    <tr>\n",
       "      <th>84</th>\n",
       "      <td>Chinese</td>\n",
       "      <td>15453.0</td>\n",
       "    </tr>\n",
       "    <tr>\n",
       "      <th>25</th>\n",
       "      <td>Biryani</td>\n",
       "      <td>9791.0</td>\n",
       "    </tr>\n",
       "    <tr>\n",
       "      <th>...</th>\n",
       "      <td>...</td>\n",
       "      <td>...</td>\n",
       "    </tr>\n",
       "    <tr>\n",
       "      <th>31</th>\n",
       "      <td>Pakistani</td>\n",
       "      <td>1.0</td>\n",
       "    </tr>\n",
       "    <tr>\n",
       "      <th>43</th>\n",
       "      <td>Odia</td>\n",
       "      <td>1.0</td>\n",
       "    </tr>\n",
       "    <tr>\n",
       "      <th>95</th>\n",
       "      <td>Naga</td>\n",
       "      <td>1.0</td>\n",
       "    </tr>\n",
       "    <tr>\n",
       "      <th>14</th>\n",
       "      <td>Mishti</td>\n",
       "      <td>1.0</td>\n",
       "    </tr>\n",
       "    <tr>\n",
       "      <th>15</th>\n",
       "      <td>nan</td>\n",
       "      <td>0.0</td>\n",
       "    </tr>\n",
       "  </tbody>\n",
       "</table>\n",
       "<p>114 rows × 2 columns</p>\n",
       "</div>"
      ],
      "text/plain": [
       "        cuisines  frequency\n",
       "38        Indian    37517.0\n",
       "40  North Indian    20263.0\n",
       "22  South Indian    16558.0\n",
       "84       Chinese    15453.0\n",
       "25       Biryani     9791.0\n",
       "..           ...        ...\n",
       "31     Pakistani        1.0\n",
       "43          Odia        1.0\n",
       "95          Naga        1.0\n",
       "14        Mishti        1.0\n",
       "15           nan        0.0\n",
       "\n",
       "[114 rows x 2 columns]"
      ]
     },
     "execution_count": 71,
     "metadata": {
      "tags": []
     },
     "output_type": "execute_result"
    }
   ],
   "source": [
    "data_cui_south=(data[['cuisines']][data.region=='south'])\n",
    "ans_south=(highlights(data_cui_south.cuisines))\n",
    "store_inter_south=[]\n",
    "\n",
    "df_cui_south=pd.DataFrame(ans_south,columns=['cuisines'])\n",
    "for i in ans_south:\n",
    "    store_inter_south.append(data_cui_south['cuisines'].str.count(i).sum())\n",
    "\n",
    "df_cui_south['frequency']=store_inter_south\n",
    "df_cui_south.sort_values(by=['frequency'],ascending=False)"
   ]
  },
  {
   "cell_type": "markdown",
   "metadata": {
    "colab_type": "text",
    "id": "u_uE21BmCFGC"
   },
   "source": [
    "Inference-\n",
    "\n",
    "        Getting the highest frequency of cuisine in south region "
   ]
  },
  {
   "cell_type": "markdown",
   "metadata": {
    "colab_type": "text",
    "id": "FsnZWmlHCFGD"
   },
   "source": [
    "**Cuisines in the western region** "
   ]
  },
  {
   "cell_type": "code",
   "execution_count": 72,
   "metadata": {
    "colab": {
     "base_uri": "https://localhost:8080/",
     "height": 0
    },
    "colab_type": "code",
    "id": "aFekesX9CFGE",
    "outputId": "a9d250fe-67e0-492c-ee45-8a16da905537"
   },
   "outputs": [
    {
     "data": {
      "text/html": [
       "<div>\n",
       "<style scoped>\n",
       "    .dataframe tbody tr th:only-of-type {\n",
       "        vertical-align: middle;\n",
       "    }\n",
       "\n",
       "    .dataframe tbody tr th {\n",
       "        vertical-align: top;\n",
       "    }\n",
       "\n",
       "    .dataframe thead th {\n",
       "        text-align: right;\n",
       "    }\n",
       "</style>\n",
       "<table border=\"1\" class=\"dataframe\">\n",
       "  <thead>\n",
       "    <tr style=\"text-align: right;\">\n",
       "      <th></th>\n",
       "      <th>cuisines</th>\n",
       "      <th>frequency</th>\n",
       "    </tr>\n",
       "  </thead>\n",
       "  <tbody>\n",
       "    <tr>\n",
       "      <th>39</th>\n",
       "      <td>Indian</td>\n",
       "      <td>34780.0</td>\n",
       "    </tr>\n",
       "    <tr>\n",
       "      <th>40</th>\n",
       "      <td>North Indian</td>\n",
       "      <td>28117.0</td>\n",
       "    </tr>\n",
       "    <tr>\n",
       "      <th>58</th>\n",
       "      <td>Fast Food</td>\n",
       "      <td>18822.0</td>\n",
       "    </tr>\n",
       "    <tr>\n",
       "      <th>85</th>\n",
       "      <td>Chinese</td>\n",
       "      <td>16881.0</td>\n",
       "    </tr>\n",
       "    <tr>\n",
       "      <th>59</th>\n",
       "      <td>Beverages</td>\n",
       "      <td>8538.0</td>\n",
       "    </tr>\n",
       "    <tr>\n",
       "      <th>...</th>\n",
       "      <td>...</td>\n",
       "      <td>...</td>\n",
       "    </tr>\n",
       "    <tr>\n",
       "      <th>98</th>\n",
       "      <td>Cafe Food</td>\n",
       "      <td>2.0</td>\n",
       "    </tr>\n",
       "    <tr>\n",
       "      <th>113</th>\n",
       "      <td>Oriental</td>\n",
       "      <td>2.0</td>\n",
       "    </tr>\n",
       "    <tr>\n",
       "      <th>54</th>\n",
       "      <td>Mandi</td>\n",
       "      <td>1.0</td>\n",
       "    </tr>\n",
       "    <tr>\n",
       "      <th>76</th>\n",
       "      <td>Assamese</td>\n",
       "      <td>1.0</td>\n",
       "    </tr>\n",
       "    <tr>\n",
       "      <th>17</th>\n",
       "      <td>nan</td>\n",
       "      <td>0.0</td>\n",
       "    </tr>\n",
       "  </tbody>\n",
       "</table>\n",
       "<p>116 rows × 2 columns</p>\n",
       "</div>"
      ],
      "text/plain": [
       "         cuisines  frequency\n",
       "39         Indian    34780.0\n",
       "40   North Indian    28117.0\n",
       "58      Fast Food    18822.0\n",
       "85        Chinese    16881.0\n",
       "59      Beverages     8538.0\n",
       "..            ...        ...\n",
       "98      Cafe Food        2.0\n",
       "113      Oriental        2.0\n",
       "54          Mandi        1.0\n",
       "76       Assamese        1.0\n",
       "17            nan        0.0\n",
       "\n",
       "[116 rows x 2 columns]"
      ]
     },
     "execution_count": 72,
     "metadata": {
      "tags": []
     },
     "output_type": "execute_result"
    }
   ],
   "source": [
    "data_cui_west=(data[['cuisines']][data.region=='west'])\n",
    "ans_west=(cuisines(data_cui_west.cuisines))\n",
    "store_inter_west=[]\n",
    "\n",
    "df_cui_west=pd.DataFrame(ans_west,columns=['cuisines'])\n",
    "for i in ans_west:\n",
    "    store_inter_west.append(data_cui_west['cuisines'].str.count(i).sum())\n",
    "\n",
    "df_cui_west['frequency']=store_inter_west\n",
    "df_cui_west.sort_values(by=['frequency'],ascending=False)"
   ]
  },
  {
   "cell_type": "markdown",
   "metadata": {
    "colab_type": "text",
    "id": "llFqRniBCFGH"
   },
   "source": [
    "Inference-\n",
    "\n",
    "        Getting the highest frequency of cuisine in west region "
   ]
  },
  {
   "cell_type": "markdown",
   "metadata": {
    "colab_type": "text",
    "id": "6oVKRBjXCFGI"
   },
   "source": [
    "- Plot the barplot for top 10 cuisines served in the four regions"
   ]
  },
  {
   "cell_type": "code",
   "execution_count": 73,
   "metadata": {
    "colab": {
     "base_uri": "https://localhost:8080/",
     "height": 0
    },
    "colab_type": "code",
    "id": "Nx1TNW3pCFGJ",
    "outputId": "7ce94222-4de4-4ac5-df70-45963b6ec209"
   },
   "outputs": [
    {
     "data": {
      "text/plain": [
       "<matplotlib.axes._subplots.AxesSubplot at 0x7fd87f381278>"
      ]
     },
     "execution_count": 73,
     "metadata": {
      "tags": []
     },
     "output_type": "execute_result"
    },
    {
     "data": {
      "image/png": "[encoded data removed]",
      "text/plain": [
       "<Figure size 432x288 with 1 Axes>"
      ]
     },
     "metadata": {
      "tags": []
     },
     "output_type": "display_data"
    }
   ],
   "source": [
    "#for NORTH\n",
    "\n",
    "import seaborn as sns\n",
    "save_north=df_cui_north.sort_values(by=['frequency'],ascending=False).head(10)\n",
    "sns.barplot(x='cuisines',y='frequency',data=save_north)"
   ]
  },
  {
   "cell_type": "code",
   "execution_count": 74,
   "metadata": {
    "colab": {
     "base_uri": "https://localhost:8080/",
     "height": 0
    },
    "colab_type": "code",
    "id": "zFpmVhkQCFGL",
    "outputId": "a48a2c6d-fd54-43c8-c67a-f1d439d9c41a"
   },
   "outputs": [
    {
     "data": {
      "text/plain": [
       "<matplotlib.axes._subplots.AxesSubplot at 0x7fd87f290048>"
      ]
     },
     "execution_count": 74,
     "metadata": {
      "tags": []
     },
     "output_type": "execute_result"
    },
    {
     "data": {
      "image/png": "[encoded data removed]",
      "text/plain": [
       "<Figure size 432x288 with 1 Axes>"
      ]
     },
     "metadata": {
      "tags": []
     },
     "output_type": "display_data"
    }
   ],
   "source": [
    "#for EAST\n",
    "\n",
    "import seaborn as sns\n",
    "save_east=df_cui_east.sort_values(by=['frequency'],ascending=False).head(10)\n",
    "sns.barplot(x='cuisines',y='frequency',data=save_east)"
   ]
  },
  {
   "cell_type": "code",
   "execution_count": 75,
   "metadata": {
    "colab": {
     "base_uri": "https://localhost:8080/",
     "height": 0
    },
    "colab_type": "code",
    "id": "goLB1nkjCFGR",
    "outputId": "520a3b5c-5ac7-4865-9d87-f94db678124d"
   },
   "outputs": [
    {
     "data": {
      "text/plain": [
       "<matplotlib.axes._subplots.AxesSubplot at 0x7fd87f2227b8>"
      ]
     },
     "execution_count": 75,
     "metadata": {
      "tags": []
     },
     "output_type": "execute_result"
    },
    {
     "data": {
      "image/png": "[encoded data removed]",
      "text/plain": [
       "<Figure size 432x288 with 1 Axes>"
      ]
     },
     "metadata": {
      "tags": []
     },
     "output_type": "display_data"
    }
   ],
   "source": [
    "#for SOUTH\n",
    "\n",
    "import seaborn as sns\n",
    "save_south=df_cui_south.sort_values(by=['frequency'],ascending=False).head(10)\n",
    "sns.barplot(x='cuisines',y='frequency',data=save_south)"
   ]
  },
  {
   "cell_type": "code",
   "execution_count": 76,
   "metadata": {
    "colab": {
     "base_uri": "https://localhost:8080/",
     "height": 0
    },
    "colab_type": "code",
    "id": "Af_zN28iCFGT",
    "outputId": "61d7fac8-a63e-480a-e665-251dba2ce56d"
   },
   "outputs": [
    {
     "data": {
      "text/plain": [
       "<matplotlib.axes._subplots.AxesSubplot at 0x7fd87f1c5320>"
      ]
     },
     "execution_count": 76,
     "metadata": {
      "tags": []
     },
     "output_type": "execute_result"
    },
    {
     "data": {
      "image/png": "[encoded data removed]",
      "text/plain": [
       "<Figure size 432x288 with 1 Axes>"
      ]
     },
     "metadata": {
      "tags": []
     },
     "output_type": "display_data"
    }
   ],
   "source": [
    "#for WEST\n",
    "\n",
    "import seaborn as sns\n",
    "save_west=df_cui_west.sort_values(by=['frequency'],ascending=False).head(10)\n",
    "sns.barplot(x='cuisines',y='frequency',data=save_west)\n"
   ]
  },
  {
   "cell_type": "markdown",
   "metadata": {
    "colab_type": "text",
    "id": "Djgyb1DoCFGV"
   },
   "source": [
    "Inference-\n",
    "\n",
    "        Plotting the graphs for the respective regions namely - NORTH,SOUTH,EAST,WEST for top 10 cuisines used in these regions"
   ]
  },
  {
   "cell_type": "markdown",
   "metadata": {
    "colab_type": "text",
    "id": "oLhWJlbsCFGW"
   },
   "source": [
    "###  3. The Northern Region"
   ]
  },
  {
   "cell_type": "markdown",
   "metadata": {
    "colab_type": "text",
    "id": "xG91tTa5CFGW"
   },
   "source": [
    "**Now we shall consider only the northern region**"
   ]
  },
  {
   "cell_type": "markdown",
   "metadata": {
    "colab_type": "text",
    "id": "0urMxEMMCFGX"
   },
   "source": [
    "**1. The top 10 cuisines served in Restaurants** "
   ]
  },
  {
   "cell_type": "code",
   "execution_count": 77,
   "metadata": {
    "colab": {
     "base_uri": "https://localhost:8080/",
     "height": 359
    },
    "colab_type": "code",
    "id": "bhtFJAA6CFGX",
    "outputId": "5029c9bc-586b-41bc-9a66-8cb0b3b8f822"
   },
   "outputs": [
    {
     "data": {
      "text/html": [
       "<div>\n",
       "<style scoped>\n",
       "    .dataframe tbody tr th:only-of-type {\n",
       "        vertical-align: middle;\n",
       "    }\n",
       "\n",
       "    .dataframe tbody tr th {\n",
       "        vertical-align: top;\n",
       "    }\n",
       "\n",
       "    .dataframe thead th {\n",
       "        text-align: right;\n",
       "    }\n",
       "</style>\n",
       "<table border=\"1\" class=\"dataframe\">\n",
       "  <thead>\n",
       "    <tr style=\"text-align: right;\">\n",
       "      <th></th>\n",
       "      <th>cuisines</th>\n",
       "      <th>frequency</th>\n",
       "    </tr>\n",
       "  </thead>\n",
       "  <tbody>\n",
       "    <tr>\n",
       "      <th>35</th>\n",
       "      <td>Indian</td>\n",
       "      <td>34304.0</td>\n",
       "    </tr>\n",
       "    <tr>\n",
       "      <th>36</th>\n",
       "      <td>North Indian</td>\n",
       "      <td>28006.0</td>\n",
       "    </tr>\n",
       "    <tr>\n",
       "      <th>84</th>\n",
       "      <td>Chinese</td>\n",
       "      <td>16763.0</td>\n",
       "    </tr>\n",
       "    <tr>\n",
       "      <th>55</th>\n",
       "      <td>Fast Food</td>\n",
       "      <td>15757.0</td>\n",
       "    </tr>\n",
       "    <tr>\n",
       "      <th>65</th>\n",
       "      <td>Continental</td>\n",
       "      <td>7389.0</td>\n",
       "    </tr>\n",
       "    <tr>\n",
       "      <th>38</th>\n",
       "      <td>Cafe</td>\n",
       "      <td>7319.0</td>\n",
       "    </tr>\n",
       "    <tr>\n",
       "      <th>40</th>\n",
       "      <td>Italian</td>\n",
       "      <td>6167.0</td>\n",
       "    </tr>\n",
       "    <tr>\n",
       "      <th>56</th>\n",
       "      <td>Beverages</td>\n",
       "      <td>5927.0</td>\n",
       "    </tr>\n",
       "    <tr>\n",
       "      <th>41</th>\n",
       "      <td>Desserts</td>\n",
       "      <td>5183.0</td>\n",
       "    </tr>\n",
       "    <tr>\n",
       "      <th>21</th>\n",
       "      <td>South Indian</td>\n",
       "      <td>5093.0</td>\n",
       "    </tr>\n",
       "  </tbody>\n",
       "</table>\n",
       "</div>"
      ],
      "text/plain": [
       "        cuisines  frequency\n",
       "35        Indian    34304.0\n",
       "36  North Indian    28006.0\n",
       "84       Chinese    16763.0\n",
       "55     Fast Food    15757.0\n",
       "65   Continental     7389.0\n",
       "38          Cafe     7319.0\n",
       "40       Italian     6167.0\n",
       "56     Beverages     5927.0\n",
       "41      Desserts     5183.0\n",
       "21  South Indian     5093.0"
      ]
     },
     "execution_count": 77,
     "metadata": {
      "tags": []
     },
     "output_type": "execute_result"
    }
   ],
   "source": [
    "df_cui_north.sort_values(by=['frequency'],ascending=False).head(10)"
   ]
  },
  {
   "cell_type": "markdown",
   "metadata": {
    "colab_type": "text",
    "id": "DyyipI6yCFGY"
   },
   "source": [
    "Inference-\n",
    "\n",
    "        Getting the highest frequency of cuisine in north region "
   ]
  },
  {
   "cell_type": "markdown",
   "metadata": {
    "colab_type": "text",
    "id": "knPA-HbSCFGa"
   },
   "source": [
    "**2. Do restaurants with more photo counts and votes have better rating?**"
   ]
  },
  {
   "cell_type": "code",
   "execution_count": 78,
   "metadata": {
    "colab": {
     "base_uri": "https://localhost:8080/",
     "height": 1000
    },
    "colab_type": "code",
    "id": "G2Qtl9nxCFGa",
    "outputId": "943a9987-a93d-4fd9-8e4f-8ab2ef22f18e"
   },
   "outputs": [
    {
     "data": {
      "text/html": [
       "<div>\n",
       "<style scoped>\n",
       "    .dataframe tbody tr th:only-of-type {\n",
       "        vertical-align: middle;\n",
       "    }\n",
       "\n",
       "    .dataframe tbody tr th {\n",
       "        vertical-align: top;\n",
       "    }\n",
       "\n",
       "    .dataframe thead th {\n",
       "        text-align: right;\n",
       "    }\n",
       "</style>\n",
       "<table border=\"1\" class=\"dataframe\">\n",
       "  <thead>\n",
       "    <tr style=\"text-align: right;\">\n",
       "      <th></th>\n",
       "      <th>aggregate_rating</th>\n",
       "      <th>rating_text</th>\n",
       "      <th>photo_count</th>\n",
       "      <th>votes</th>\n",
       "    </tr>\n",
       "  </thead>\n",
       "  <tbody>\n",
       "    <tr>\n",
       "      <th>53925</th>\n",
       "      <td>4.2</td>\n",
       "      <td>Very Good</td>\n",
       "      <td>17702</td>\n",
       "      <td>4899</td>\n",
       "    </tr>\n",
       "    <tr>\n",
       "      <th>54008</th>\n",
       "      <td>4.2</td>\n",
       "      <td>Very Good</td>\n",
       "      <td>17702</td>\n",
       "      <td>4899</td>\n",
       "    </tr>\n",
       "    <tr>\n",
       "      <th>55439</th>\n",
       "      <td>4.2</td>\n",
       "      <td>Very Good</td>\n",
       "      <td>17702</td>\n",
       "      <td>4899</td>\n",
       "    </tr>\n",
       "    <tr>\n",
       "      <th>57876</th>\n",
       "      <td>4.2</td>\n",
       "      <td>Very Good</td>\n",
       "      <td>17702</td>\n",
       "      <td>4899</td>\n",
       "    </tr>\n",
       "    <tr>\n",
       "      <th>58352</th>\n",
       "      <td>4.2</td>\n",
       "      <td>Very Good</td>\n",
       "      <td>17702</td>\n",
       "      <td>4899</td>\n",
       "    </tr>\n",
       "    <tr>\n",
       "      <th>58616</th>\n",
       "      <td>4.2</td>\n",
       "      <td>Very Good</td>\n",
       "      <td>17702</td>\n",
       "      <td>4899</td>\n",
       "    </tr>\n",
       "    <tr>\n",
       "      <th>59156</th>\n",
       "      <td>4.2</td>\n",
       "      <td>Very Good</td>\n",
       "      <td>17702</td>\n",
       "      <td>4899</td>\n",
       "    </tr>\n",
       "    <tr>\n",
       "      <th>59632</th>\n",
       "      <td>4.2</td>\n",
       "      <td>Very Good</td>\n",
       "      <td>17702</td>\n",
       "      <td>4899</td>\n",
       "    </tr>\n",
       "    <tr>\n",
       "      <th>54209</th>\n",
       "      <td>4.7</td>\n",
       "      <td>Excellent</td>\n",
       "      <td>15545</td>\n",
       "      <td>3322</td>\n",
       "    </tr>\n",
       "    <tr>\n",
       "      <th>54796</th>\n",
       "      <td>4.7</td>\n",
       "      <td>Excellent</td>\n",
       "      <td>15545</td>\n",
       "      <td>3322</td>\n",
       "    </tr>\n",
       "    <tr>\n",
       "      <th>56008</th>\n",
       "      <td>4.7</td>\n",
       "      <td>Excellent</td>\n",
       "      <td>15545</td>\n",
       "      <td>3322</td>\n",
       "    </tr>\n",
       "    <tr>\n",
       "      <th>58166</th>\n",
       "      <td>4.7</td>\n",
       "      <td>Excellent</td>\n",
       "      <td>15545</td>\n",
       "      <td>3322</td>\n",
       "    </tr>\n",
       "    <tr>\n",
       "      <th>58553</th>\n",
       "      <td>4.7</td>\n",
       "      <td>Excellent</td>\n",
       "      <td>15545</td>\n",
       "      <td>3322</td>\n",
       "    </tr>\n",
       "    <tr>\n",
       "      <th>58806</th>\n",
       "      <td>4.7</td>\n",
       "      <td>Excellent</td>\n",
       "      <td>15545</td>\n",
       "      <td>3322</td>\n",
       "    </tr>\n",
       "    <tr>\n",
       "      <th>59093</th>\n",
       "      <td>4.7</td>\n",
       "      <td>Excellent</td>\n",
       "      <td>15545</td>\n",
       "      <td>3322</td>\n",
       "    </tr>\n",
       "    <tr>\n",
       "      <th>59446</th>\n",
       "      <td>4.7</td>\n",
       "      <td>Excellent</td>\n",
       "      <td>15545</td>\n",
       "      <td>3322</td>\n",
       "    </tr>\n",
       "    <tr>\n",
       "      <th>59833</th>\n",
       "      <td>4.7</td>\n",
       "      <td>Excellent</td>\n",
       "      <td>15545</td>\n",
       "      <td>3322</td>\n",
       "    </tr>\n",
       "    <tr>\n",
       "      <th>53891</th>\n",
       "      <td>4.8</td>\n",
       "      <td>Excellent</td>\n",
       "      <td>11914</td>\n",
       "      <td>14751</td>\n",
       "    </tr>\n",
       "    <tr>\n",
       "      <th>53988</th>\n",
       "      <td>4.8</td>\n",
       "      <td>Excellent</td>\n",
       "      <td>11914</td>\n",
       "      <td>14751</td>\n",
       "    </tr>\n",
       "    <tr>\n",
       "      <th>55246</th>\n",
       "      <td>4.8</td>\n",
       "      <td>Excellent</td>\n",
       "      <td>11914</td>\n",
       "      <td>14751</td>\n",
       "    </tr>\n",
       "    <tr>\n",
       "      <th>55968</th>\n",
       "      <td>4.8</td>\n",
       "      <td>Excellent</td>\n",
       "      <td>11914</td>\n",
       "      <td>14751</td>\n",
       "    </tr>\n",
       "    <tr>\n",
       "      <th>56065</th>\n",
       "      <td>4.8</td>\n",
       "      <td>Excellent</td>\n",
       "      <td>11914</td>\n",
       "      <td>14751</td>\n",
       "    </tr>\n",
       "    <tr>\n",
       "      <th>56108</th>\n",
       "      <td>4.8</td>\n",
       "      <td>Excellent</td>\n",
       "      <td>11914</td>\n",
       "      <td>14751</td>\n",
       "    </tr>\n",
       "    <tr>\n",
       "      <th>56919</th>\n",
       "      <td>4.8</td>\n",
       "      <td>Excellent</td>\n",
       "      <td>11914</td>\n",
       "      <td>14751</td>\n",
       "    </tr>\n",
       "    <tr>\n",
       "      <th>57598</th>\n",
       "      <td>4.8</td>\n",
       "      <td>Excellent</td>\n",
       "      <td>11914</td>\n",
       "      <td>14751</td>\n",
       "    </tr>\n",
       "    <tr>\n",
       "      <th>57835</th>\n",
       "      <td>4.8</td>\n",
       "      <td>Excellent</td>\n",
       "      <td>11914</td>\n",
       "      <td>14751</td>\n",
       "    </tr>\n",
       "    <tr>\n",
       "      <th>58138</th>\n",
       "      <td>4.8</td>\n",
       "      <td>Excellent</td>\n",
       "      <td>11914</td>\n",
       "      <td>14751</td>\n",
       "    </tr>\n",
       "    <tr>\n",
       "      <th>58332</th>\n",
       "      <td>4.8</td>\n",
       "      <td>Excellent</td>\n",
       "      <td>11914</td>\n",
       "      <td>14751</td>\n",
       "    </tr>\n",
       "    <tr>\n",
       "      <th>58575</th>\n",
       "      <td>4.8</td>\n",
       "      <td>Excellent</td>\n",
       "      <td>11914</td>\n",
       "      <td>14751</td>\n",
       "    </tr>\n",
       "    <tr>\n",
       "      <th>58778</th>\n",
       "      <td>4.8</td>\n",
       "      <td>Excellent</td>\n",
       "      <td>11914</td>\n",
       "      <td>14751</td>\n",
       "    </tr>\n",
       "    <tr>\n",
       "      <th>59115</th>\n",
       "      <td>4.8</td>\n",
       "      <td>Excellent</td>\n",
       "      <td>11914</td>\n",
       "      <td>14751</td>\n",
       "    </tr>\n",
       "    <tr>\n",
       "      <th>59418</th>\n",
       "      <td>4.8</td>\n",
       "      <td>Excellent</td>\n",
       "      <td>11914</td>\n",
       "      <td>14751</td>\n",
       "    </tr>\n",
       "    <tr>\n",
       "      <th>59612</th>\n",
       "      <td>4.8</td>\n",
       "      <td>Excellent</td>\n",
       "      <td>11914</td>\n",
       "      <td>14751</td>\n",
       "    </tr>\n",
       "    <tr>\n",
       "      <th>53916</th>\n",
       "      <td>4.6</td>\n",
       "      <td>Excellent</td>\n",
       "      <td>11271</td>\n",
       "      <td>4598</td>\n",
       "    </tr>\n",
       "    <tr>\n",
       "      <th>54000</th>\n",
       "      <td>4.6</td>\n",
       "      <td>Excellent</td>\n",
       "      <td>11271</td>\n",
       "      <td>4598</td>\n",
       "    </tr>\n",
       "    <tr>\n",
       "      <th>55976</th>\n",
       "      <td>4.6</td>\n",
       "      <td>Excellent</td>\n",
       "      <td>11271</td>\n",
       "      <td>4598</td>\n",
       "    </tr>\n",
       "    <tr>\n",
       "      <th>57358</th>\n",
       "      <td>4.6</td>\n",
       "      <td>Excellent</td>\n",
       "      <td>11271</td>\n",
       "      <td>4598</td>\n",
       "    </tr>\n",
       "    <tr>\n",
       "      <th>57599</th>\n",
       "      <td>4.6</td>\n",
       "      <td>Excellent</td>\n",
       "      <td>11271</td>\n",
       "      <td>4598</td>\n",
       "    </tr>\n",
       "    <tr>\n",
       "      <th>57861</th>\n",
       "      <td>4.6</td>\n",
       "      <td>Excellent</td>\n",
       "      <td>11271</td>\n",
       "      <td>4598</td>\n",
       "    </tr>\n",
       "    <tr>\n",
       "      <th>58194</th>\n",
       "      <td>4.6</td>\n",
       "      <td>Excellent</td>\n",
       "      <td>11271</td>\n",
       "      <td>4598</td>\n",
       "    </tr>\n",
       "    <tr>\n",
       "      <th>58345</th>\n",
       "      <td>4.6</td>\n",
       "      <td>Excellent</td>\n",
       "      <td>11271</td>\n",
       "      <td>4598</td>\n",
       "    </tr>\n",
       "    <tr>\n",
       "      <th>58601</th>\n",
       "      <td>4.6</td>\n",
       "      <td>Excellent</td>\n",
       "      <td>11271</td>\n",
       "      <td>4598</td>\n",
       "    </tr>\n",
       "    <tr>\n",
       "      <th>58834</th>\n",
       "      <td>4.6</td>\n",
       "      <td>Excellent</td>\n",
       "      <td>11271</td>\n",
       "      <td>4598</td>\n",
       "    </tr>\n",
       "    <tr>\n",
       "      <th>59141</th>\n",
       "      <td>4.6</td>\n",
       "      <td>Excellent</td>\n",
       "      <td>11271</td>\n",
       "      <td>4598</td>\n",
       "    </tr>\n",
       "    <tr>\n",
       "      <th>59474</th>\n",
       "      <td>4.6</td>\n",
       "      <td>Excellent</td>\n",
       "      <td>11271</td>\n",
       "      <td>4598</td>\n",
       "    </tr>\n",
       "    <tr>\n",
       "      <th>59625</th>\n",
       "      <td>4.6</td>\n",
       "      <td>Excellent</td>\n",
       "      <td>11271</td>\n",
       "      <td>4598</td>\n",
       "    </tr>\n",
       "    <tr>\n",
       "      <th>54833</th>\n",
       "      <td>4.2</td>\n",
       "      <td>Very Good</td>\n",
       "      <td>11046</td>\n",
       "      <td>3172</td>\n",
       "    </tr>\n",
       "    <tr>\n",
       "      <th>56443</th>\n",
       "      <td>4.2</td>\n",
       "      <td>Very Good</td>\n",
       "      <td>11046</td>\n",
       "      <td>3172</td>\n",
       "    </tr>\n",
       "    <tr>\n",
       "      <th>54077</th>\n",
       "      <td>4.3</td>\n",
       "      <td>Very Good</td>\n",
       "      <td>10618</td>\n",
       "      <td>5937</td>\n",
       "    </tr>\n",
       "    <tr>\n",
       "      <th>54212</th>\n",
       "      <td>4.3</td>\n",
       "      <td>Very Good</td>\n",
       "      <td>10618</td>\n",
       "      <td>5937</td>\n",
       "    </tr>\n",
       "  </tbody>\n",
       "</table>\n",
       "</div>"
      ],
      "text/plain": [
       "       aggregate_rating rating_text  photo_count  votes\n",
       "53925               4.2   Very Good        17702   4899\n",
       "54008               4.2   Very Good        17702   4899\n",
       "55439               4.2   Very Good        17702   4899\n",
       "57876               4.2   Very Good        17702   4899\n",
       "58352               4.2   Very Good        17702   4899\n",
       "58616               4.2   Very Good        17702   4899\n",
       "59156               4.2   Very Good        17702   4899\n",
       "59632               4.2   Very Good        17702   4899\n",
       "54209               4.7   Excellent        15545   3322\n",
       "54796               4.7   Excellent        15545   3322\n",
       "56008               4.7   Excellent        15545   3322\n",
       "58166               4.7   Excellent        15545   3322\n",
       "58553               4.7   Excellent        15545   3322\n",
       "58806               4.7   Excellent        15545   3322\n",
       "59093               4.7   Excellent        15545   3322\n",
       "59446               4.7   Excellent        15545   3322\n",
       "59833               4.7   Excellent        15545   3322\n",
       "53891               4.8   Excellent        11914  14751\n",
       "53988               4.8   Excellent        11914  14751\n",
       "55246               4.8   Excellent        11914  14751\n",
       "55968               4.8   Excellent        11914  14751\n",
       "56065               4.8   Excellent        11914  14751\n",
       "56108               4.8   Excellent        11914  14751\n",
       "56919               4.8   Excellent        11914  14751\n",
       "57598               4.8   Excellent        11914  14751\n",
       "57835               4.8   Excellent        11914  14751\n",
       "58138               4.8   Excellent        11914  14751\n",
       "58332               4.8   Excellent        11914  14751\n",
       "58575               4.8   Excellent        11914  14751\n",
       "58778               4.8   Excellent        11914  14751\n",
       "59115               4.8   Excellent        11914  14751\n",
       "59418               4.8   Excellent        11914  14751\n",
       "59612               4.8   Excellent        11914  14751\n",
       "53916               4.6   Excellent        11271   4598\n",
       "54000               4.6   Excellent        11271   4598\n",
       "55976               4.6   Excellent        11271   4598\n",
       "57358               4.6   Excellent        11271   4598\n",
       "57599               4.6   Excellent        11271   4598\n",
       "57861               4.6   Excellent        11271   4598\n",
       "58194               4.6   Excellent        11271   4598\n",
       "58345               4.6   Excellent        11271   4598\n",
       "58601               4.6   Excellent        11271   4598\n",
       "58834               4.6   Excellent        11271   4598\n",
       "59141               4.6   Excellent        11271   4598\n",
       "59474               4.6   Excellent        11271   4598\n",
       "59625               4.6   Excellent        11271   4598\n",
       "54833               4.2   Very Good        11046   3172\n",
       "56443               4.2   Very Good        11046   3172\n",
       "54077               4.3   Very Good        10618   5937\n",
       "54212               4.3   Very Good        10618   5937"
      ]
     },
     "execution_count": 78,
     "metadata": {
      "tags": []
     },
     "output_type": "execute_result"
    }
   ],
   "source": [
    "data_north=data[data.region=='north']\n",
    "data_north.head(5)\n",
    "\n",
    "data_north[['aggregate_rating','rating_text','photo_count','votes']].sort_values(by=['photo_count','votes'],ascending=False).head(50)"
   ]
  },
  {
   "cell_type": "markdown",
   "metadata": {
    "colab_type": "text",
    "id": "sH56FA9iCFGc"
   },
   "source": [
    "Inference- \n",
    "            \n",
    "            By observing the table above one can understand that if the photo counts and votes are higher than the rating text is either - \"Very good\" or \"Excellent\" and also the rating is above 4.2 which is a high rating.\n",
    "\n",
    "    Hence,it is safe to say restaurants with more photo counts and votes have better rating."
   ]
  },
  {
   "cell_type": "markdown",
   "metadata": {
    "colab_type": "text",
    "id": "ADt3de4_CFGc"
   },
   "source": [
    "- Plot a boxplots for the above table"
   ]
  },
  {
   "cell_type": "code",
   "execution_count": 79,
   "metadata": {
    "colab": {
     "base_uri": "https://localhost:8080/",
     "height": 265
    },
    "colab_type": "code",
    "id": "SMqIxWINCFGd",
    "outputId": "38232280-66b1-4e81-fae8-c5004e186434"
   },
   "outputs": [
    {
     "data": {
      "image/png": "[encoded data removed]",
      "text/plain": [
       "<Figure size 432x288 with 1 Axes>"
      ]
     },
     "metadata": {
      "tags": []
     },
     "output_type": "display_data"
    }
   ],
   "source": [
    "data_for_boxplot=data_north[['aggregate_rating','photo_count','votes']]\n",
    "ax = sns.boxplot(data=data_for_boxplot, orient=\"h\", palette=\"Set2\")"
   ]
  },
  {
   "cell_type": "code",
   "execution_count": 80,
   "metadata": {
    "colab": {
     "base_uri": "https://localhost:8080/",
     "height": 297
    },
    "colab_type": "code",
    "id": "f1ysw8noCFGe",
    "outputId": "950dcec4-8ea9-48b9-da8f-f7b6f2ae3361"
   },
   "outputs": [
    {
     "data": {
      "text/plain": [
       "<matplotlib.axes._subplots.AxesSubplot at 0x7fd87ee86550>"
      ]
     },
     "execution_count": 80,
     "metadata": {
      "tags": []
     },
     "output_type": "execute_result"
    },
    {
     "data": {
      "image/png": "[encoded data removed]",
      "text/plain": [
       "<Figure size 432x288 with 1 Axes>"
      ]
     },
     "metadata": {
      "tags": []
     },
     "output_type": "display_data"
    }
   ],
   "source": [
    "sns.boxplot(x='photo_count',y='aggregate_rating',data=data_for_boxplot)"
   ]
  },
  {
   "cell_type": "code",
   "execution_count": 81,
   "metadata": {
    "colab": {
     "base_uri": "https://localhost:8080/",
     "height": 296
    },
    "colab_type": "code",
    "id": "pugTPilSCFGh",
    "outputId": "379b0bfe-6abc-4ff7-e66a-c56cd4ed1a4f"
   },
   "outputs": [
    {
     "data": {
      "text/plain": [
       "<matplotlib.axes._subplots.AxesSubplot at 0x7fd87800eb70>"
      ]
     },
     "execution_count": 81,
     "metadata": {
      "tags": []
     },
     "output_type": "execute_result"
    },
    {
     "data": {
      "image/png": "[encoded data removed]",
      "text/plain": [
       "<Figure size 432x288 with 1 Axes>"
      ]
     },
     "metadata": {
      "tags": []
     },
     "output_type": "display_data"
    }
   ],
   "source": [
    "sns.boxplot(x='votes',y='aggregate_rating',data=data_for_boxplot)"
   ]
  },
  {
   "cell_type": "markdown",
   "metadata": {
    "colab_type": "text",
    "id": "k3qeCQJbCFGj"
   },
   "source": [
    "Inference- \n",
    "        \n",
    "    plotting the various boxplot to understand the relationship between the photo count, votes and their individual influence on the aggregate rating of the restaurant"
   ]
  },
  {
   "cell_type": "markdown",
   "metadata": {
    "colab_type": "text",
    "id": "af8VpZABCFGj"
   },
   "source": [
    "### 4. The Mumbai city"
   ]
  },
  {
   "cell_type": "markdown",
   "metadata": {
    "colab_type": "text",
    "id": "frior_hLCFGk"
   },
   "source": [
    "consider the city mumbai and get a better insights of restuarants in Mumbai."
   ]
  },
  {
   "cell_type": "code",
   "execution_count": 82,
   "metadata": {
    "colab": {
     "base_uri": "https://localhost:8080/",
     "height": 649
    },
    "colab_type": "code",
    "id": "Y9fAkzsfCFGk",
    "outputId": "b053aa89-a6ce-4bb0-dff7-2748bf4c7de4"
   },
   "outputs": [
    {
     "data": {
      "text/html": [
       "<div>\n",
       "<style scoped>\n",
       "    .dataframe tbody tr th:only-of-type {\n",
       "        vertical-align: middle;\n",
       "    }\n",
       "\n",
       "    .dataframe tbody tr th {\n",
       "        vertical-align: top;\n",
       "    }\n",
       "\n",
       "    .dataframe thead th {\n",
       "        text-align: right;\n",
       "    }\n",
       "</style>\n",
       "<table border=\"1\" class=\"dataframe\">\n",
       "  <thead>\n",
       "    <tr style=\"text-align: right;\">\n",
       "      <th></th>\n",
       "      <th>res_id</th>\n",
       "      <th>name</th>\n",
       "      <th>establishment</th>\n",
       "      <th>url</th>\n",
       "      <th>address</th>\n",
       "      <th>city</th>\n",
       "      <th>city_id</th>\n",
       "      <th>locality</th>\n",
       "      <th>latitude</th>\n",
       "      <th>longitude</th>\n",
       "      <th>zipcode</th>\n",
       "      <th>cuisines</th>\n",
       "      <th>timings</th>\n",
       "      <th>average_cost_for_two</th>\n",
       "      <th>price_range</th>\n",
       "      <th>highlights</th>\n",
       "      <th>aggregate_rating</th>\n",
       "      <th>rating_text</th>\n",
       "      <th>votes</th>\n",
       "      <th>photo_count</th>\n",
       "      <th>delivery</th>\n",
       "      <th>takeaway</th>\n",
       "      <th>geometry</th>\n",
       "      <th>rating_text_new</th>\n",
       "      <th>region</th>\n",
       "    </tr>\n",
       "  </thead>\n",
       "  <tbody>\n",
       "    <tr>\n",
       "      <th>134852</th>\n",
       "      <td>18562340</td>\n",
       "      <td>Drinkery 51</td>\n",
       "      <td>Casual Dining</td>\n",
       "      <td>https://www.zomato.com/mumbai/drinkery-51-band...</td>\n",
       "      <td>1st Floor, Vibgyor Towers, Bandra Kurla Comple...</td>\n",
       "      <td>Mumbai</td>\n",
       "      <td>3</td>\n",
       "      <td>Bandra Kurla Complex</td>\n",
       "      <td>19.067176</td>\n",
       "      <td>72.867493</td>\n",
       "      <td>400051</td>\n",
       "      <td>North Indian, Asian, Continental, Seafood</td>\n",
       "      <td>12 Noon to 1:30 AM</td>\n",
       "      <td>2000</td>\n",
       "      <td>4</td>\n",
       "      <td>Dinner, Debit Card, Lunch, Serves Alcohol, Cas...</td>\n",
       "      <td>4.4</td>\n",
       "      <td>Very Good</td>\n",
       "      <td>3796</td>\n",
       "      <td>1897</td>\n",
       "      <td>1</td>\n",
       "      <td>-1</td>\n",
       "      <td>POINT (72.86749 19.06718)</td>\n",
       "      <td>excellent</td>\n",
       "      <td>west</td>\n",
       "    </tr>\n",
       "    <tr>\n",
       "      <th>134853</th>\n",
       "      <td>34757</td>\n",
       "      <td>Joeys Pizza</td>\n",
       "      <td>Quick Bites</td>\n",
       "      <td>https://www.zomato.com/mumbai/joeys-pizza-mala...</td>\n",
       "      <td>Shop 1, Plot D, Samruddhi Complex, Chincholi B...</td>\n",
       "      <td>Mumbai</td>\n",
       "      <td>3</td>\n",
       "      <td>Malad West</td>\n",
       "      <td>19.178188</td>\n",
       "      <td>72.834666</td>\n",
       "      <td>0</td>\n",
       "      <td>Pizza</td>\n",
       "      <td>11am – 12midnight (Mon-Sun)</td>\n",
       "      <td>800</td>\n",
       "      <td>2</td>\n",
       "      <td>Lunch, Cash, Takeaway Available, Debit Card, D...</td>\n",
       "      <td>4.5</td>\n",
       "      <td>Excellent</td>\n",
       "      <td>7932</td>\n",
       "      <td>4960</td>\n",
       "      <td>-1</td>\n",
       "      <td>-1</td>\n",
       "      <td>POINT (72.83467 19.17819)</td>\n",
       "      <td>excellent</td>\n",
       "      <td>west</td>\n",
       "    </tr>\n",
       "    <tr>\n",
       "      <th>134854</th>\n",
       "      <td>18548172</td>\n",
       "      <td>Hitchki</td>\n",
       "      <td>Bar</td>\n",
       "      <td>https://www.zomato.com/mumbai/hitchki-powai?ut...</td>\n",
       "      <td>5, Transocean, Hiranandani Business Park, Lake...</td>\n",
       "      <td>Mumbai</td>\n",
       "      <td>3</td>\n",
       "      <td>Powai</td>\n",
       "      <td>19.119930</td>\n",
       "      <td>72.907331</td>\n",
       "      <td>NaN</td>\n",
       "      <td>Modern Indian, North Indian, Chinese, Momos, C...</td>\n",
       "      <td>12 Noon to 1:30 AM</td>\n",
       "      <td>1600</td>\n",
       "      <td>3</td>\n",
       "      <td>Lunch, Serves Alcohol, Cash, Credit Card, Dinn...</td>\n",
       "      <td>4.7</td>\n",
       "      <td>Excellent</td>\n",
       "      <td>3762</td>\n",
       "      <td>12979</td>\n",
       "      <td>1</td>\n",
       "      <td>-1</td>\n",
       "      <td>POINT (72.90733 19.11993)</td>\n",
       "      <td>excellent</td>\n",
       "      <td>west</td>\n",
       "    </tr>\n",
       "    <tr>\n",
       "      <th>134855</th>\n",
       "      <td>18392725</td>\n",
       "      <td>Tamasha</td>\n",
       "      <td>Lounge</td>\n",
       "      <td>https://www.zomato.com/mumbai/tamasha-lower-pa...</td>\n",
       "      <td>Ground Floor, Victoria House, E.B Marg, Lower ...</td>\n",
       "      <td>Mumbai</td>\n",
       "      <td>3</td>\n",
       "      <td>Lower Parel</td>\n",
       "      <td>19.006060</td>\n",
       "      <td>72.827496</td>\n",
       "      <td>NaN</td>\n",
       "      <td>Finger Food, Continental</td>\n",
       "      <td>12 Noon to 1 AM</td>\n",
       "      <td>2700</td>\n",
       "      <td>4</td>\n",
       "      <td>Dinner, Cash, Takeaway Available, Credit Card,...</td>\n",
       "      <td>4.7</td>\n",
       "      <td>Excellent</td>\n",
       "      <td>4979</td>\n",
       "      <td>16595</td>\n",
       "      <td>-1</td>\n",
       "      <td>-1</td>\n",
       "      <td>POINT (72.82750 19.00606)</td>\n",
       "      <td>excellent</td>\n",
       "      <td>west</td>\n",
       "    </tr>\n",
       "    <tr>\n",
       "      <th>134856</th>\n",
       "      <td>18962112</td>\n",
       "      <td>Bayroute</td>\n",
       "      <td>Fine Dining</td>\n",
       "      <td>https://www.zomato.com/mumbai/bayroute-juhu?ut...</td>\n",
       "      <td>14, Silver Beach Estate, A.B. Nair Road, Oppos...</td>\n",
       "      <td>Mumbai</td>\n",
       "      <td>3</td>\n",
       "      <td>Juhu</td>\n",
       "      <td>19.110684</td>\n",
       "      <td>72.825368</td>\n",
       "      <td>NaN</td>\n",
       "      <td>Egyptian, Turkish, Lebanese, Moroccan, Greek</td>\n",
       "      <td>12 Noon to 1:30 AM</td>\n",
       "      <td>3000</td>\n",
       "      <td>4</td>\n",
       "      <td>Dinner, Cash, Takeaway Available, Debit Card, ...</td>\n",
       "      <td>4.9</td>\n",
       "      <td>Excellent</td>\n",
       "      <td>706</td>\n",
       "      <td>2484</td>\n",
       "      <td>-1</td>\n",
       "      <td>-1</td>\n",
       "      <td>POINT (72.82537 19.11068)</td>\n",
       "      <td>excellent</td>\n",
       "      <td>west</td>\n",
       "    </tr>\n",
       "  </tbody>\n",
       "</table>\n",
       "</div>"
      ],
      "text/plain": [
       "          res_id         name  ... rating_text_new region\n",
       "134852  18562340  Drinkery 51  ...       excellent   west\n",
       "134853     34757  Joeys Pizza  ...       excellent   west\n",
       "134854  18548172      Hitchki  ...       excellent   west\n",
       "134855  18392725      Tamasha  ...       excellent   west\n",
       "134856  18962112     Bayroute  ...       excellent   west\n",
       "\n",
       "[5 rows x 25 columns]"
      ]
     },
     "execution_count": 82,
     "metadata": {
      "tags": []
     },
     "output_type": "execute_result"
    }
   ],
   "source": [
    "df_mum=data[data.city=='Mumbai']\n",
    "df_mum.head()"
   ]
  },
  {
   "cell_type": "markdown",
   "metadata": {
    "colab_type": "text",
    "id": "sbmy0Zb3CFGn"
   },
   "source": [
    "Inference-\n",
    "\n",
    "        Getting data only related to mumbai"
   ]
  },
  {
   "cell_type": "markdown",
   "metadata": {
    "colab_type": "text",
    "id": "_Ju79DA-CFGn"
   },
   "source": [
    "**1. Expensive restaurants in Mumbai**\n",
    "\n",
    "-  Define the costliest restaurants whose average cost of two people exceeds Rs.5000 .\n",
    "-  Plot the restaurants which are costliest based on their average cost for two .\n",
    "\n",
    "\n"
   ]
  },
  {
   "cell_type": "code",
   "execution_count": 83,
   "metadata": {
    "colab": {
     "base_uri": "https://localhost:8080/",
     "height": 153
    },
    "colab_type": "code",
    "id": "kcgAyvm_CFGn",
    "outputId": "9f0a85b5-8a67-4ec6-b3f6-2318a5ffe567"
   },
   "outputs": [
    {
     "data": {
      "text/plain": [
       "135881                        Vista - Taj Lands End\n",
       "135910                  Souk - The Taj Mahal Palace\n",
       "135918    Wasabi By Morimoto - The Taj Mahal Palace\n",
       "135924                         Celini - Grand Hyatt\n",
       "135925          Masala Kraft - The Taj Mahal Palace\n",
       "Name: name, dtype: category\n",
       "Categories (40965, object): [# Wednesday, #1, Culinary Avenue - The Red Maple, #788 Avenue, #BC,\n",
       "                             ..., ट 4 Tasty, द Vege टेबल, स्पेस Bar, ह-tea The Tea Hut]"
      ]
     },
     "execution_count": 83,
     "metadata": {
      "tags": []
     },
     "output_type": "execute_result"
    }
   ],
   "source": [
    "df_mum['name'][df_mum.average_cost_for_two>5000].head()"
   ]
  },
  {
   "cell_type": "code",
   "execution_count": 84,
   "metadata": {
    "colab": {
     "base_uri": "https://localhost:8080/",
     "height": 204
    },
    "colab_type": "code",
    "id": "OK3xj7J7CFGq",
    "outputId": "8c49fa36-d427-4fe9-9b44-bccc662d26f3"
   },
   "outputs": [
    {
     "data": {
      "text/html": [
       "<div>\n",
       "<style scoped>\n",
       "    .dataframe tbody tr th:only-of-type {\n",
       "        vertical-align: middle;\n",
       "    }\n",
       "\n",
       "    .dataframe tbody tr th {\n",
       "        vertical-align: top;\n",
       "    }\n",
       "\n",
       "    .dataframe thead th {\n",
       "        text-align: right;\n",
       "    }\n",
       "</style>\n",
       "<table border=\"1\" class=\"dataframe\">\n",
       "  <thead>\n",
       "    <tr style=\"text-align: right;\">\n",
       "      <th></th>\n",
       "      <th>name</th>\n",
       "      <th>average_cost_for_two</th>\n",
       "    </tr>\n",
       "  </thead>\n",
       "  <tbody>\n",
       "    <tr>\n",
       "      <th>136240</th>\n",
       "      <td>Ocean - The Private Dining Room - Sahara Star</td>\n",
       "      <td>30000</td>\n",
       "    </tr>\n",
       "    <tr>\n",
       "      <th>138607</th>\n",
       "      <td>Wasabi By Morimoto - The Taj Mahal Palace</td>\n",
       "      <td>10000</td>\n",
       "    </tr>\n",
       "    <tr>\n",
       "      <th>140777</th>\n",
       "      <td>Yuuka - The St. Regis Mumbai</td>\n",
       "      <td>8000</td>\n",
       "    </tr>\n",
       "    <tr>\n",
       "      <th>138614</th>\n",
       "      <td>Masala Kraft - The Taj Mahal Palace</td>\n",
       "      <td>6500</td>\n",
       "    </tr>\n",
       "    <tr>\n",
       "      <th>136744</th>\n",
       "      <td>Celini - Grand Hyatt</td>\n",
       "      <td>6000</td>\n",
       "    </tr>\n",
       "  </tbody>\n",
       "</table>\n",
       "</div>"
      ],
      "text/plain": [
       "                                                 name  average_cost_for_two\n",
       "136240  Ocean - The Private Dining Room - Sahara Star                 30000\n",
       "138607      Wasabi By Morimoto - The Taj Mahal Palace                 10000\n",
       "140777                   Yuuka - The St. Regis Mumbai                  8000\n",
       "138614            Masala Kraft - The Taj Mahal Palace                  6500\n",
       "136744                           Celini - Grand Hyatt                  6000"
      ]
     },
     "execution_count": 84,
     "metadata": {
      "tags": []
     },
     "output_type": "execute_result"
    }
   ],
   "source": [
    "save_ans=df_mum[['name','average_cost_for_two']].sort_values(by=['average_cost_for_two'],ascending=False).drop_duplicates().head(5)\n",
    "save_ans"
   ]
  },
  {
   "cell_type": "markdown",
   "metadata": {
    "colab_type": "text",
    "id": "1q9VGlf6CFGt"
   },
   "source": [
    "Inference-\n",
    "\n",
    "        getting the costliest  restaurants whose average cost of two people exceeds Rs.5000 ."
   ]
  },
  {
   "cell_type": "code",
   "execution_count": 98,
   "metadata": {
    "colab": {
     "base_uri": "https://localhost:8080/",
     "height": 898
    },
    "colab_type": "code",
    "id": "w3W-TU02CFGt",
    "outputId": "9c66897b-4410-47c2-962a-cd312c274b1c"
   },
   "outputs": [
    {
     "data": {
      "text/plain": [
       "<matplotlib.axes._subplots.AxesSubplot at 0x7fd86f052860>"
      ]
     },
     "execution_count": 98,
     "metadata": {
      "tags": []
     },
     "output_type": "execute_result"
    },
    {
     "data": {
      "image/png": "[encoded data removed]",
      "text/plain": [
       "<Figure size 2160x720 with 1 Axes>"
      ]
     },
     "metadata": {
      "tags": []
     },
     "output_type": "display_data"
    }
   ],
   "source": [
    "# sns.barplot(x='name',y='average_cost_for_two',data=save_ans)\n",
    "\n",
    "ans_plot=save_ans.plot.bar(x='name',y='average_cost_for_two')\n",
    "ans_plot"
   ]
  },
  {
   "cell_type": "markdown",
   "metadata": {
    "colab_type": "text",
    "id": "WFf7-aSACFGz"
   },
   "source": [
    "Inference-\n",
    "\n",
    "        plotting the values on graph for better understanding"
   ]
  },
  {
   "cell_type": "markdown",
   "metadata": {
    "colab_type": "text",
    "id": "mXs7WPUhCFG0"
   },
   "source": [
    "**2.To find the top 20 cuisines of Mumbai**"
   ]
  },
  {
   "cell_type": "markdown",
   "metadata": {
    "colab_type": "text",
    "id": "u9z3ALVbCFG1"
   },
   "source": [
    "- select unique cuisines available at restaurants in Mumbai\n",
    "\n",
    "\n",
    "- sort cuisines based on frequency\n"
   ]
  },
  {
   "cell_type": "code",
   "execution_count": 86,
   "metadata": {
    "colab": {
     "base_uri": "https://localhost:8080/",
     "height": 54
    },
    "colab_type": "code",
    "id": "qM47fYtiCFG1",
    "outputId": "8cf4294f-e47e-413a-b24f-29ddc9622b2d"
   },
   "outputs": [
    {
     "name": "stdout",
     "output_type": "stream",
     "text": [
      "{'Momos', 'Tea', 'Salad', 'Mangalorean', 'Mexican', 'BBQ', 'Malwani', 'Mithai', 'Konkan', 'Coffee', 'British', 'Charcoal Chicken', 'Healthy Food', 'Mishti', 'Egyptian', 'Mughlai', 'South American', 'Panini', 'Andhra', 'Sushi', 'Gujarati', 'South Indian', 'Singaporean', 'French', 'Biryani', 'Bar Food', 'Goan', 'Hyderabadi', 'Moroccan', 'Juices', 'Rajasthani', 'Ice Cream', 'Indonesian', 'Indian', 'Kashmiri', 'North Indian', 'Cafe', 'Parsi', 'Italian', 'Desserts', 'Iranian', 'Mediterranean', 'Seafood', 'Paan', 'Bengali', 'Steak', 'Lebanese', 'Greek', 'Burger', 'Fast Food', 'Beverages', 'Modern Indian', 'Sindhi', 'Kerala', 'Spanish', 'Raw Meats', 'Street Food', 'Turkish', 'Continental', 'Afghan', 'Burmese', 'Lucknowi', 'Arabian', 'Bubble Tea', 'Assamese', 'Pizza', 'Vietnamese', 'Rolls', 'Bihari', 'Sandwich', 'German', 'Chinese', 'Bakery', 'Maharashtrian', 'Kebab', 'Frozen Yogurt', 'Middle Eastern', 'Cantonese', 'Thai', 'Finger Food', 'Cafe Food', 'Awadhi', 'European', 'Chettinad', 'Malaysian', 'Tibetan', 'Japanese', 'American', 'Korean', 'Asian', 'Wraps', 'Tex-Mex'}\n"
     ]
    }
   ],
   "source": [
    "mumbai_cuisines=cuisines(df_mum['cuisines'])\n",
    "print(mumbai_cuisines)\n"
   ]
  },
  {
   "cell_type": "markdown",
   "metadata": {
    "colab_type": "text",
    "id": "9AseicyQCFG3"
   },
   "source": [
    "Inference-\n",
    "\n",
    "        getting the unique cuisine in Mumbai region"
   ]
  },
  {
   "cell_type": "code",
   "execution_count": 87,
   "metadata": {
    "colab": {
     "base_uri": "https://localhost:8080/",
     "height": 669
    },
    "colab_type": "code",
    "id": "6uaO2a13CFG3",
    "outputId": "8915e3f4-1fdb-4dec-b023-d353939e43a0"
   },
   "outputs": [
    {
     "data": {
      "text/html": [
       "<div>\n",
       "<style scoped>\n",
       "    .dataframe tbody tr th:only-of-type {\n",
       "        vertical-align: middle;\n",
       "    }\n",
       "\n",
       "    .dataframe tbody tr th {\n",
       "        vertical-align: top;\n",
       "    }\n",
       "\n",
       "    .dataframe thead th {\n",
       "        text-align: right;\n",
       "    }\n",
       "</style>\n",
       "<table border=\"1\" class=\"dataframe\">\n",
       "  <thead>\n",
       "    <tr style=\"text-align: right;\">\n",
       "      <th></th>\n",
       "      <th>Cuisines_Of_Mumbai</th>\n",
       "      <th>frequency</th>\n",
       "    </tr>\n",
       "  </thead>\n",
       "  <tbody>\n",
       "    <tr>\n",
       "      <th>33</th>\n",
       "      <td>Indian</td>\n",
       "      <td>2956</td>\n",
       "    </tr>\n",
       "    <tr>\n",
       "      <th>35</th>\n",
       "      <td>North Indian</td>\n",
       "      <td>2444</td>\n",
       "    </tr>\n",
       "    <tr>\n",
       "      <th>71</th>\n",
       "      <td>Chinese</td>\n",
       "      <td>1735</td>\n",
       "    </tr>\n",
       "    <tr>\n",
       "      <th>58</th>\n",
       "      <td>Continental</td>\n",
       "      <td>1516</td>\n",
       "    </tr>\n",
       "    <tr>\n",
       "      <th>38</th>\n",
       "      <td>Italian</td>\n",
       "      <td>1372</td>\n",
       "    </tr>\n",
       "    <tr>\n",
       "      <th>49</th>\n",
       "      <td>Fast Food</td>\n",
       "      <td>1271</td>\n",
       "    </tr>\n",
       "    <tr>\n",
       "      <th>39</th>\n",
       "      <td>Desserts</td>\n",
       "      <td>1207</td>\n",
       "    </tr>\n",
       "    <tr>\n",
       "      <th>50</th>\n",
       "      <td>Beverages</td>\n",
       "      <td>885</td>\n",
       "    </tr>\n",
       "    <tr>\n",
       "      <th>89</th>\n",
       "      <td>Asian</td>\n",
       "      <td>814</td>\n",
       "    </tr>\n",
       "    <tr>\n",
       "      <th>87</th>\n",
       "      <td>American</td>\n",
       "      <td>656</td>\n",
       "    </tr>\n",
       "    <tr>\n",
       "      <th>36</th>\n",
       "      <td>Cafe</td>\n",
       "      <td>552</td>\n",
       "    </tr>\n",
       "    <tr>\n",
       "      <th>82</th>\n",
       "      <td>European</td>\n",
       "      <td>529</td>\n",
       "    </tr>\n",
       "    <tr>\n",
       "      <th>4</th>\n",
       "      <td>Mexican</td>\n",
       "      <td>497</td>\n",
       "    </tr>\n",
       "    <tr>\n",
       "      <th>15</th>\n",
       "      <td>Mughlai</td>\n",
       "      <td>472</td>\n",
       "    </tr>\n",
       "    <tr>\n",
       "      <th>65</th>\n",
       "      <td>Pizza</td>\n",
       "      <td>418</td>\n",
       "    </tr>\n",
       "    <tr>\n",
       "      <th>79</th>\n",
       "      <td>Finger Food</td>\n",
       "      <td>409</td>\n",
       "    </tr>\n",
       "    <tr>\n",
       "      <th>56</th>\n",
       "      <td>Street Food</td>\n",
       "      <td>370</td>\n",
       "    </tr>\n",
       "    <tr>\n",
       "      <th>72</th>\n",
       "      <td>Bakery</td>\n",
       "      <td>361</td>\n",
       "    </tr>\n",
       "    <tr>\n",
       "      <th>42</th>\n",
       "      <td>Seafood</td>\n",
       "      <td>328</td>\n",
       "    </tr>\n",
       "    <tr>\n",
       "      <th>24</th>\n",
       "      <td>Biryani</td>\n",
       "      <td>328</td>\n",
       "    </tr>\n",
       "  </tbody>\n",
       "</table>\n",
       "</div>"
      ],
      "text/plain": [
       "   Cuisines_Of_Mumbai  frequency\n",
       "33             Indian       2956\n",
       "35       North Indian       2444\n",
       "71            Chinese       1735\n",
       "58        Continental       1516\n",
       "38            Italian       1372\n",
       "49          Fast Food       1271\n",
       "39           Desserts       1207\n",
       "50          Beverages        885\n",
       "89              Asian        814\n",
       "87           American        656\n",
       "36               Cafe        552\n",
       "82           European        529\n",
       "4             Mexican        497\n",
       "15            Mughlai        472\n",
       "65              Pizza        418\n",
       "79        Finger Food        409\n",
       "56        Street Food        370\n",
       "72             Bakery        361\n",
       "42            Seafood        328\n",
       "24            Biryani        328"
      ]
     },
     "execution_count": 87,
     "metadata": {
      "tags": []
     },
     "output_type": "execute_result"
    }
   ],
   "source": [
    "store_cuisine_inter_mum=[]\n",
    "\n",
    "df_cuisine_mumbai=pd.DataFrame(mumbai_cuisines,columns=['Cuisines_Of_Mumbai'])\n",
    "for i in mumbai_cuisines:\n",
    "    store_cuisine_inter_mum.append(df_mum['cuisines'].str.count(i).sum())\n",
    "\n",
    "\n",
    "df_cuisine_mumbai['frequency']=store_cuisine_inter_mum\n",
    "df_cuisine_mumbai.sort_values(by=['frequency'],ascending=False).head(20)"
   ]
  },
  {
   "cell_type": "markdown",
   "metadata": {
    "colab_type": "text",
    "id": "KTLbAChSCFG5"
   },
   "source": [
    "Inference-\n",
    "\n",
    "        getting the frequency of the top 20 cuisines in the mumbai region"
   ]
  },
  {
   "cell_type": "markdown",
   "metadata": {
    "colab_type": "text",
    "id": "Di3iu3qSCFG5"
   },
   "source": [
    "**3. To find the popular localities in Mumbai**"
   ]
  },
  {
   "cell_type": "code",
   "execution_count": 88,
   "metadata": {
    "colab": {
     "base_uri": "https://localhost:8080/",
     "height": 119
    },
    "colab_type": "code",
    "id": "GTqI_ybACFG5",
    "outputId": "f4e59fe8-132b-4fb3-d4a5-a53cdb2ab542"
   },
   "outputs": [
    {
     "data": {
      "text/plain": [
       "Powai                                297\n",
       "Andheri Lokhandwala, Andheri West    292\n",
       "Malad West                           209\n",
       "Borivali West                        202\n",
       "Bandra Kurla Complex                 184\n",
       "Name: locality, dtype: int64"
      ]
     },
     "execution_count": 88,
     "metadata": {
      "tags": []
     },
     "output_type": "execute_result"
    }
   ],
   "source": [
    "df_mum_local=df_mum[['locality']]\n",
    "df_mum_local['locality'].value_counts().head(5)"
   ]
  },
  {
   "cell_type": "markdown",
   "metadata": {
    "colab_type": "text",
    "id": "3BfCENHeCFG7"
   },
   "source": [
    "Inference-\n",
    "\n",
    "        getting the top5 popular localities in mumbai "
   ]
  },
  {
   "cell_type": "markdown",
   "metadata": {
    "colab_type": "text",
    "id": "GalojriwCFG8"
   },
   "source": [
    "**4. Check for relationship between 'aggregate_rating' and 'average_cost_for_two'**"
   ]
  },
  {
   "cell_type": "code",
   "execution_count": 89,
   "metadata": {
    "colab": {
     "base_uri": "https://localhost:8080/",
     "height": 302
    },
    "colab_type": "code",
    "id": "troWJtuOCFG9",
    "outputId": "69613e15-ba11-4a38-edf3-8f5debfd56cc"
   },
   "outputs": [
    {
     "data": {
      "image/png": "[encoded data removed]",
      "text/plain": [
       "<Figure size 432x288 with 2 Axes>"
      ]
     },
     "metadata": {
      "tags": []
     },
     "output_type": "display_data"
    }
   ],
   "source": [
    "import seaborn as sns\n",
    "new_corr=df_mum[['aggregate_rating','average_cost_for_two']]\n",
    "corr_new=new_corr.corr()\n",
    "sns.heatmap(corr_new,annot=True)\n",
    "sns.set(rc={'figure.figsize':(11,8)})"
   ]
  },
  {
   "cell_type": "markdown",
   "metadata": {
    "colab_type": "text",
    "id": "zT6AnYrUCFHA"
   },
   "source": [
    "Inference-\n",
    "\n",
    "        getting the correlation btwn aggregate_rating and average cost for two"
   ]
  },
  {
   "cell_type": "markdown",
   "metadata": {
    "colab_type": "text",
    "id": "62dP8mfpCFHA"
   },
   "source": [
    "**5. Multiple box plot for photo_counts based on establishment type.**\n",
    "\n"
   ]
  },
  {
   "cell_type": "code",
   "execution_count": 90,
   "metadata": {
    "colab": {
     "base_uri": "https://localhost:8080/",
     "height": 502
    },
    "colab_type": "code",
    "id": "aiF5w4ucCFHA",
    "outputId": "7a117d25-2309-47ed-f59b-a0b4d6cbe76c"
   },
   "outputs": [
    {
     "data": {
      "image/png": "[encoded data removed]",
      "text/plain": [
       "<Figure size 792x576 with 1 Axes>"
      ]
     },
     "metadata": {
      "tags": []
     },
     "output_type": "display_data"
    }
   ],
   "source": [
    "sns.boxplot(x='photo_count',y='establishment',data=data)\n",
    "sns.set(rc={'figure.figsize':(30,1)})"
   ]
  },
  {
   "cell_type": "markdown",
   "metadata": {
    "colab_type": "text",
    "id": "yWNMWb81CFHC"
   },
   "source": [
    "Inference-\n",
    "\n",
    "        plotting box plot for the photo counts and the "
   ]
  },
  {
   "cell_type": "markdown",
   "metadata": {
    "colab_type": "text",
    "id": "9kN8PN4zCFHC"
   },
   "source": [
    "**6. Check for payments method offered in restaurants**"
   ]
  },
  {
   "cell_type": "markdown",
   "metadata": {
    "colab_type": "text",
    "id": "sc7UmQM9CFHD"
   },
   "source": [
    "- select unique facilities available at restaurants in western region\n",
    "- sort facilities based on frequency\n"
   ]
  },
  {
   "cell_type": "code",
   "execution_count": 0,
   "metadata": {
    "colab": {},
    "colab_type": "code",
    "id": "FIckLYlOCFHD"
   },
   "outputs": [],
   "source": [
    "#for WEST\n",
    "data_high_west=(data[['highlights']][data.region=='west'])\n",
    "ans_west=(highlights(data_high_west.highlights))\n",
    "store_inter_west=[]\n",
    "\n",
    "df_highlights_west=pd.DataFrame(ans_west,columns=['Facility'])\n",
    "for i in ans_west:\n",
    "    store_inter_west.append(data_high_west['highlights'].str.count(i).sum())\n",
    "\n",
    "df_highlights_west['frequency']=store_inter_west\n",
    "df_highlights_west.sort_values(by=['frequency'],ascending=False)\n",
    "\n",
    "\n",
    "import seaborn as sns\n",
    "save_west=df_highlights_west.sort_values(by=['frequency'],ascending=False).head(10)"
   ]
  },
  {
   "cell_type": "code",
   "execution_count": 93,
   "metadata": {
    "colab": {
     "base_uri": "https://localhost:8080/",
     "height": 145
    },
    "colab_type": "code",
    "id": "PojJYG88CFHI",
    "outputId": "cba24844-e7b0-4240-dd39-ae79467d43d3"
   },
   "outputs": [
    {
     "data": {
      "image/png": "[encoded data removed]",
      "text/plain": [
       "<Figure size 2160x72 with 1 Axes>"
      ]
     },
     "metadata": {
      "tags": []
     },
     "output_type": "display_data"
    }
   ],
   "source": [
    "sns.barplot(x='Facility',y='frequency',data=save_west)\n",
    "sns.set(rc={'figure.figsize':(30,10)})"
   ]
  },
  {
   "cell_type": "markdown",
   "metadata": {
    "colab_type": "text",
    "id": "G-L8qoe-CFHJ"
   },
   "source": [
    "Inference-\n",
    "\n",
    "        *getting the unique facilities in the western region \n",
    "        * sorting it wrt the frequency by which they are used\n"
   ]
  },
  {
   "cell_type": "markdown",
   "metadata": {
    "colab_type": "text",
    "id": "peyF7azlCFHK"
   },
   "source": [
    "THANK YOU\n",
    "-DARSHAN GANDHI"
   ]
  },
  {
   "cell_type": "code",
   "execution_count": 0,
   "metadata": {
    "colab": {},
    "colab_type": "code",
    "id": "zfxdFFSvCFHK"
   },
   "outputs": [],
   "source": []
  }
 ],
 "metadata": {
  "colab": {
   "name": "DarshanGandhi-4.ipynb",
   "provenance": []
  },
  "kernelspec": {
   "display_name": "Python 3",
   "language": "python",
   "name": "python3"
  },
  "language_info": {
   "codemirror_mode": {
    "name": "ipython",
    "version": 3
   },
   "file_extension": ".py",
   "mimetype": "text/x-python",
   "name": "python",
   "nbconvert_exporter": "python",
   "pygments_lexer": "ipython3",
   "version": "3.7.4"
  }
 },
 "nbformat": 4,
 "nbformat_minor": 1
}
